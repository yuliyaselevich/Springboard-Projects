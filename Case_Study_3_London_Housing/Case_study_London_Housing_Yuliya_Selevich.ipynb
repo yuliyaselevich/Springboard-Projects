{
 "cells": [
  {
   "cell_type": "code",
   "execution_count": 1,
   "id": "8b341d73",
   "metadata": {},
   "outputs": [],
   "source": [
    "properties_melted.plot()\n",
    "plt.show()"
   ]
  },
  {
   "cell_type": "code",
   "execution_count": 2,
   "id": "a281b28f",
   "metadata": {},
   "outputs": [],
   "source": [
    "plt.plot(properties_melted)\n",
    "plt.show()"
   ]
  },
  {
   "cell_type": "code",
   "execution_count": 3,
   "id": "7b989a8f",
   "metadata": {},
   "outputs": [],
   "source": [
    "# Let's import the pandas, numpy libraries as pd, and np respectively. \n",
    "import pandas as pd\n",
    "import numpy as np\n",
    "\n",
    "# Load the pyplot collection of functions from matplotlib, as plt \n",
    "import matplotlib.pyplot as plt"
   ]
  },
  {
   "cell_type": "code",
   "execution_count": 4,
   "id": "2356e779",
   "metadata": {},
   "outputs": [],
   "source": [
    "# First, make a variable called url_LondonHousePrices, and assign it the following link, enclosed in quotation-marks as a string:\n",
    "# https://data.london.gov.uk/download/uk-house-price-index/70ac0766-8902-4eb5-aab5-01951aaed773/UK%20House%20price%20index.xls\n",
    "\n",
    "url_LondonHousePrices = \"https://data.london.gov.uk/download/uk-house-price-index/70ac0766-8902-4eb5-aab5-01951aaed773/UK%20House%20price%20index.xls\"\n",
    "\n",
    "# The dataset we're interested in contains the Average prices of the houses, and is actually on a particular sheet of the Excel file. \n",
    "# As a result, we need to specify the sheet name in the read_excel() method.\n",
    "# Put this data into a variable called properties.  \n",
    "properties = pd.read_excel(url_LondonHousePrices, sheet_name='Average price', index_col= None)"
   ]
  },
  {
   "cell_type": "code",
   "execution_count": 5,
   "id": "bc2a5b68",
   "metadata": {},
   "outputs": [],
   "source": [
    "properties.head()\n",
    "properties.shape\n",
    "properties.info()"
   ]
  },
  {
   "cell_type": "code",
   "execution_count": 6,
   "id": "31828f85",
   "metadata": {},
   "outputs": [],
   "source": [
    "properties_transposed = properties.transpose()\n",
    "properties_transposed.index\n",
    "properties_transposed = properties_transposed.reset_index()\n",
    "properties_transposed.columns = properties_transposed.iloc[0]\n",
    "properties_transposed = properties_transposed.drop(0)\n",
    "properties_transposed.head()"
   ]
  },
  {
   "cell_type": "code",
   "execution_count": 7,
   "id": "cdb32892",
   "metadata": {},
   "outputs": [],
   "source": [
    "properties_renamed = properties_transposed.rename({\"Unnamed: 0\":\"Boroughs\"}, axis = \"columns\")\n",
    "properties_renamed.columns = properties_renamed.columns.fillna(\"Code\")\n",
    "properties_renamed.head()"
   ]
  },
  {
   "cell_type": "code",
   "execution_count": 8,
   "id": "e02f090a",
   "metadata": {},
   "outputs": [],
   "source": [
    "properties_melted = pd.melt(properties_renamed, id_vars = [\"Boroughs\",\"Code\"],var_name = \"Date\",value_name = \"Average price\")\n",
    "properties_melted.head(33)"
   ]
  },
  {
   "cell_type": "code",
   "execution_count": 9,
   "id": "6f3c2afe",
   "metadata": {},
   "outputs": [],
   "source": [
    "def convert_to_float(x):\n",
    "    try:\n",
    "        return float(x)\n",
    "    except:\n",
    "        return np.nan\n",
    "\n",
    "properties_melted[\"Average price\"] = properties_melted[\"Average price\"].apply(convert_to_float)\n",
    "\n",
    "properties_melted[\"Average price\"].dtypes"
   ]
  },
  {
   "cell_type": "code",
   "execution_count": 10,
   "id": "e82eb18f",
   "metadata": {},
   "outputs": [],
   "source": [
    "properties_melted.dropna(inplace=True)\n",
    "\n",
    "list_of_codes_not_in_london = [\"E13000001\",\"E13000002\",\"E12000001\",\"E12000002\",\"E12000003\",\"E12000004\",\"E12000005\",\"E12000006\",\n",
    "                             \"E12000007\",\"E12000008\",\"E12000009\",\"E92000001\"]\n",
    "for item in list_of_codes_not_in_london:\n",
    "    properties_melted = properties_melted[properties_melted.Code != item]\n",
    "properties_melted = properties_melted.reset_index(drop = True)\n",
    "properties_melted.head()\n",
    "properties_melted.count()"
   ]
  },
  {
   "cell_type": "code",
   "execution_count": 11,
   "id": "303622d6",
   "metadata": {},
   "outputs": [],
   "source": [
    "plt.plot(properties_melted)\n",
    "plt.show()"
   ]
  },
  {
   "cell_type": "code",
   "execution_count": 12,
   "id": "92951008",
   "metadata": {},
   "outputs": [],
   "source": [
    "properties_melted.plot()\n",
    "plt.show()"
   ]
  },
  {
   "cell_type": "code",
   "execution_count": 13,
   "id": "b80d15d4",
   "metadata": {},
   "outputs": [],
   "source": [
    "properties_melted[\"Boroughs\"].plot()\n",
    "plt.show()"
   ]
  },
  {
   "cell_type": "code",
   "execution_count": 14,
   "id": "9eedc500",
   "metadata": {},
   "outputs": [],
   "source": [
    "properties_melted.plot(x=\"Date\",y=)\n",
    "plt.show()"
   ]
  },
  {
   "cell_type": "code",
   "execution_count": 15,
   "id": "0224a1e5",
   "metadata": {},
   "outputs": [],
   "source": [
    "properties_melted.plot(x=\"Date\",y=\"Average price\", kind = \"line\")\n",
    "plt.show()"
   ]
  },
  {
   "cell_type": "code",
   "execution_count": 16,
   "id": "22c100cb",
   "metadata": {},
   "outputs": [],
   "source": [
    "properties_melted[\"Boroughs\"].plot(x=\"Date\",y=\"Average price\", kind = \"line\")\n",
    "plt.show()"
   ]
  },
  {
   "cell_type": "code",
   "execution_count": 17,
   "id": "f5cbd3dc",
   "metadata": {},
   "outputs": [],
   "source": [
    "properties_melted.plot(x=\"Date\",y=\"Average price\", kind = \"line\")\n",
    "plt.show()"
   ]
  },
  {
   "cell_type": "code",
   "execution_count": 18,
   "id": "50f7e07b",
   "metadata": {},
   "outputs": [],
   "source": [
    "grouped = properties_melted.groupby(\"Boroughs\")\n",
    "properties_melted.plot(x=\"Date\",y=\"Average price\", kind = \"line\")\n",
    "plt.show()"
   ]
  },
  {
   "cell_type": "code",
   "execution_count": 19,
   "id": "d9dc3324",
   "metadata": {},
   "outputs": [],
   "source": [
    "grouped = properties_melted.groupby(\"Boroughs\")\n",
    "grouped.plot(x=\"Date\",y=\"Average price\", kind = \"line\")\n",
    "plt.show()"
   ]
  },
  {
   "cell_type": "code",
   "execution_count": 20,
   "id": "5509a3ae",
   "metadata": {},
   "outputs": [],
   "source": [
    "grouped = properties_melted.groupby(\"Boroughs\")[\"Average price\"].sum()\n",
    "grouped.plot(x=\"Date\",y=\"Average price\", kind = \"line\")\n",
    "plt.show()"
   ]
  },
  {
   "cell_type": "code",
   "execution_count": 21,
   "id": "323a6850",
   "metadata": {},
   "outputs": [],
   "source": [
    "grouped = properties_melted.groupby(\"Date\")[\"Boroughs\"].sum()\n",
    "grouped.plot(x=\"Date\",y=\"Average price\", kind = \"line\")\n",
    "plt.show()"
   ]
  },
  {
   "cell_type": "code",
   "execution_count": 22,
   "id": "9a5f8c5f",
   "metadata": {},
   "outputs": [],
   "source": [
    "prop_one_borough = properties_melted[properties_melted[\"Boroughs\"] == \"Greenwich\"]\n",
    "#grouped = properties_melted.groupby(\"Date\")[\"Boroughs\"].sum()\n",
    "prop_one_borough.plot(x=\"Date\",y=\"Average price\", kind = \"line\")\n",
    "plt.show()"
   ]
  },
  {
   "cell_type": "code",
   "execution_count": 23,
   "id": "97ba1621",
   "metadata": {},
   "outputs": [],
   "source": [
    "prop_one_borough = properties_melted[properties_melted[\"Boroughs\"] == \"Greenwich\"]\n",
    "#grouped = properties_melted.groupby(\"Date\")[\"Boroughs\"].sum()\n",
    "prop_one_borough.plot(x=\"Date\",y=\"Average price\", kind = \"line\")\n",
    "plt.y_axis(\"Average price\")\n",
    "plt.show()"
   ]
  },
  {
   "cell_type": "code",
   "execution_count": 24,
   "id": "3c740f00",
   "metadata": {},
   "outputs": [],
   "source": [
    "prop_one_borough = properties_melted[properties_melted[\"Boroughs\"] == \"Greenwich\"]\n",
    "#grouped = properties_melted.groupby(\"Date\")[\"Boroughs\"].sum()\n",
    "prop_one_borough.plot(x=\"Date\",y=\"Average price\", kind = \"line\")\n",
    "plt.ylabel(\"Average price\")\n",
    "plt.show()"
   ]
  },
  {
   "cell_type": "code",
   "execution_count": 25,
   "id": "44972461",
   "metadata": {},
   "outputs": [],
   "source": [
    "prop_one_borough = properties_melted[properties_melted[\"Boroughs\"] == \"Greenwich\"]\n",
    "#grouped = properties_melted.groupby(\"Date\")[\"Boroughs\"].sum()\n",
    "prop_one_borough.plot(x=\"Date\",y=\"Average price\", kind = \"line\")\n",
    "plt.ylabel(\"Average price\")\n",
    "plt.title('Price change for \"Greenwich\" borough of London')\n",
    "plt.show()"
   ]
  },
  {
   "cell_type": "code",
   "execution_count": 26,
   "id": "63715ea0",
   "metadata": {},
   "outputs": [],
   "source": [
    "properties_melted[\"Date\"].head(50)"
   ]
  },
  {
   "cell_type": "code",
   "execution_count": 27,
   "id": "6a87e10e",
   "metadata": {},
   "outputs": [],
   "source": [
    "#properties_melted[\"Date\"].head(50)\n",
    "grouped = properties_melted.groupby(\"Date\")[\"Boroughs\"].sum()"
   ]
  },
  {
   "cell_type": "code",
   "execution_count": 28,
   "id": "22e0fc9e",
   "metadata": {},
   "outputs": [],
   "source": [
    "#properties_melted[\"Date\"].head(50)\n",
    "grouped = properties_melted.groupby(\"Date\")[\"Boroughs\"].sum()\n",
    "grouped.head()"
   ]
  },
  {
   "cell_type": "code",
   "execution_count": 29,
   "id": "07b4ac72",
   "metadata": {},
   "outputs": [],
   "source": [
    "#properties_melted[\"Date\"].head(50)\n",
    "grouped = properties_melted.groupby(\"Date\")[\"Boroughs\"].sum()\n",
    "grouped.head(50)"
   ]
  },
  {
   "cell_type": "code",
   "execution_count": 30,
   "id": "092d6f75",
   "metadata": {},
   "outputs": [],
   "source": [
    "properties_melted[\"Date\"].head(50)"
   ]
  },
  {
   "cell_type": "code",
   "execution_count": 31,
   "id": "f5679cfe",
   "metadata": {},
   "outputs": [],
   "source": [
    "properties_melted[\"Date\"].head()\n",
    "properties_melted[\"Date\"].dtypes"
   ]
  },
  {
   "cell_type": "code",
   "execution_count": 32,
   "id": "faa189b5",
   "metadata": {},
   "outputs": [],
   "source": [
    "#properties_melted[\"Date\"].head()\n",
    "#properties_melted[\"Date\"].dtypes\n",
    "properties_melted[\"Date\"] = pd.to_datetime(properties_melted[\"Date\"])\n",
    "properties_melted[\"Date\"].dtypes"
   ]
  },
  {
   "cell_type": "code",
   "execution_count": 33,
   "id": "691ec01f",
   "metadata": {},
   "outputs": [],
   "source": [
    "#properties_melted[\"Date\"].head()\n",
    "#properties_melted[\"Date\"].dtypes\n",
    "properties_melted[\"Date\"] = pd.to_datetime(properties_melted[\"Date\"])\n",
    "properties_melted[\"Date\"].dtypes"
   ]
  },
  {
   "cell_type": "code",
   "execution_count": 34,
   "id": "e4bcceac",
   "metadata": {},
   "outputs": [],
   "source": [
    "#properties_melted[\"Date\"].head()\n",
    "#properties_melted[\"Date\"].dtypes\n",
    "properties_melted[\"Date\"] = pd.to_datetime(properties_melted[\"Date\"])\n",
    "properties_melted[\"Date\"].dtypes"
   ]
  },
  {
   "cell_type": "code",
   "execution_count": 35,
   "id": "8e945b1e",
   "metadata": {},
   "outputs": [],
   "source": [
    "#properties_melted[\"Date\"].head()\n",
    "#properties_melted[\"Date\"].dtypes\n",
    "properties_melted[\"Date\"] = pd.to_datetime(properties_melted[\"Date\"])\n",
    "properties_melted[\"Date\"].dtypes"
   ]
  },
  {
   "cell_type": "code",
   "execution_count": 36,
   "id": "b8ea4a1c",
   "metadata": {},
   "outputs": [],
   "source": [
    "#properties_melted[\"Date\"].head()\n",
    "#properties_melted[\"Date\"].dtypes\n",
    "properties_melted[\"Date\"] = pd.to_datetime(properties_melted[\"Date\"])\n",
    "properties_melted[\"Date\"].dtypes\n",
    "new_dataframe = properties_melted.groupby([\"Code\",\"Boroughs\",\"Date\"])[\"Average price\"].sum()\n",
    "new_dataframe.head()"
   ]
  },
  {
   "cell_type": "code",
   "execution_count": 37,
   "id": "f37ff781",
   "metadata": {},
   "outputs": [],
   "source": [
    "#properties_melted[\"Date\"].head()\n",
    "#properties_melted[\"Date\"].dtypes\n",
    "properties_melted[\"Date\"] = pd.to_datetime(properties_melted[\"Date\"])\n",
    "properties_melted[\"Date\"].dtypes\n",
    "new_dataframe = properties_melted.groupby(\"Date\")[\"Average price\"].sum()\n",
    "new_dataframe.head()"
   ]
  },
  {
   "cell_type": "code",
   "execution_count": 38,
   "id": "28f23258",
   "metadata": {},
   "outputs": [],
   "source": [
    "#properties_melted[\"Date\"].head()\n",
    "#properties_melted[\"Date\"].dtypes\n",
    "properties_melted[\"Date\"] = pd.to_datetime(properties_melted[\"Date\"])\n",
    "properties_melted[\"Date\"].dtypes\n",
    "new_dataframe = properties_melted.groupby([\"Code\",\"Boroughs\"])[\"Average price\"].sum()\n",
    "new_dataframe.head()"
   ]
  },
  {
   "cell_type": "code",
   "execution_count": 39,
   "id": "83366f0a",
   "metadata": {},
   "outputs": [],
   "source": [
    "#properties_melted[\"Date\"].head()\n",
    "#properties_melted[\"Date\"].dtypes\n",
    "properties_melted[\"Date\"] = pd.to_datetime(properties_melted[\"Date\"])\n",
    "properties_melted[\"Date\"].dtypes\n",
    "new_dataframe = properties_melted.groupby([\"Code\",\"Boroughs\",\"Date\"])[\"Average price\"].sum()\n",
    "new_dataframe.head()"
   ]
  },
  {
   "cell_type": "code",
   "execution_count": 40,
   "id": "c5a82c53",
   "metadata": {},
   "outputs": [],
   "source": [
    "#properties_melted[\"Date\"].head()\n",
    "#properties_melted[\"Date\"].dtypes\n",
    "properties_melted[\"Date\"] = pd.to_datetime(properties_melted[\"Date\"])\n",
    "properties_melted[\"Date\"].dtypes\n",
    "new_dataframe = properties_melted.groupby([\"Code\",\"Boroughs\",\"Date\"])[\"Average price\"].sum()\n",
    "new_dataframe.head(50)"
   ]
  },
  {
   "cell_type": "code",
   "execution_count": 41,
   "id": "46a2eea4",
   "metadata": {},
   "outputs": [],
   "source": [
    "#properties_melted[\"Date\"].head()\n",
    "#properties_melted[\"Date\"].dtypes\n",
    "properties_melted[\"Date\"] = pd.to_datetime(properties_melted[\"Date\"])\n",
    "properties_melted[\"Date\"].dtypes\n",
    "new_dataframe = properties_melted.groupby([\"Code\",\"Boroughs\",\"Date\"])[\"Average price\"].sum()\n",
    "#new_dataframe.head(50)\n",
    "new_dataframe.columns\n",
    "#new_dataframe['amount'].groupby(df['last_payout'].dt.to_period('M')).sum()"
   ]
  },
  {
   "cell_type": "code",
   "execution_count": 42,
   "id": "2161577c",
   "metadata": {},
   "outputs": [],
   "source": [
    "#properties_melted[\"Date\"].head()\n",
    "#properties_melted[\"Date\"].dtypes\n",
    "properties_melted[\"Date\"] = pd.to_datetime(properties_melted[\"Date\"])\n",
    "properties_melted[\"Date\"].dtypes\n",
    "new_dataframe = properties_melted.groupby([\"Code\",\"Boroughs\",\"Date\"])[\"Average price\"].sum()\n",
    "new_dataframe.head(50)\n",
    "#new_dataframe.columns\n",
    "#new_dataframe['amount'].groupby(df['last_payout'].dt.to_period('M')).sum()"
   ]
  },
  {
   "cell_type": "code",
   "execution_count": 43,
   "id": "1c4a73b6",
   "metadata": {},
   "outputs": [],
   "source": [
    "#properties_melted[\"Date\"].head()\n",
    "#properties_melted[\"Date\"].dtypes\n",
    "properties_melted[\"Date\"] = pd.to_datetime(properties_melted[\"Date\"])\n",
    "properties_melted[\"Date\"].dtypes\n",
    "new_dataframe = properties_melted.groupby([\"Code\",\"Boroughs\",\"Date\"])[\"Average price\"]\n",
    "new_dataframe.head(50)\n",
    "#new_dataframe.columns\n",
    "#new_dataframe['amount'].groupby(df['last_payout'].dt.to_period('M')).sum()"
   ]
  },
  {
   "cell_type": "code",
   "execution_count": 44,
   "id": "7b36f42f",
   "metadata": {},
   "outputs": [],
   "source": [
    "#properties_melted[\"Date\"].head()\n",
    "#properties_melted[\"Date\"].dtypes\n",
    "properties_melted[\"Date\"] = pd.to_datetime(properties_melted[\"Date\"])\n",
    "properties_melted[\"Date\"].dtypes\n",
    "new_dataframe = properties_melted.groupby([\"Code\",\"Boroughs\",\"Date\"])[\"Average price\"].sum()\n",
    "new_dataframe.head(50)\n",
    "#new_dataframe.columns\n",
    "#new_dataframe['amount'].groupby(df['last_payout'].dt.to_period('M')).sum()"
   ]
  },
  {
   "cell_type": "code",
   "execution_count": 45,
   "id": "cac21545",
   "metadata": {},
   "outputs": [],
   "source": [
    "#properties_melted[\"Date\"].head()\n",
    "#properties_melted[\"Date\"].dtypes\n",
    "properties_melted[\"Date\"] = pd.to_datetime(properties_melted[\"Date\"])\n",
    "properties_melted[\"Date\"].dtypes\n",
    "new_dataframe = properties_melted.groupby([\"Code\",\"Boroughs\",\"Date\"])[\"Average price\"].sum()\n",
    "new_dataframe.head(500)\n",
    "#new_dataframe.columns\n",
    "#new_dataframe['amount'].groupby(df['last_payout'].dt.to_period('M')).sum()"
   ]
  },
  {
   "cell_type": "code",
   "execution_count": 46,
   "id": "a1dbb64a",
   "metadata": {},
   "outputs": [],
   "source": [
    "#properties_melted[\"Date\"].head()\n",
    "#properties_melted[\"Date\"].dtypes\n",
    "properties_melted[\"Date\"] = pd.to_datetime(properties_melted[\"Date\"])\n",
    "properties_melted[\"Date\"].dtypes\n",
    "new_dataframe = properties_melted.groupby([\"Code\",\"Boroughs\",\"Date\"])[\"Average price\"].transform(sum)\n",
    "new_dataframe.head(500)\n",
    "#new_dataframe.columns\n",
    "#new_dataframe['amount'].groupby(df['last_payout'].dt.to_period('M')).sum()"
   ]
  },
  {
   "cell_type": "code",
   "execution_count": 47,
   "id": "68abb0db",
   "metadata": {},
   "outputs": [],
   "source": [
    "#properties_melted[\"Date\"].head()\n",
    "#properties_melted[\"Date\"].dtypes\n",
    "properties_melted[\"Date\"] = pd.to_datetime(properties_melted[\"Date\"])\n",
    "properties_melted[\"Date\"].dtypes\n",
    "new_dataframe = properties_melted.groupby([\"Code\",\"Boroughs\",\"Date\"])[\"Average price\"].sum()\n",
    "new_dataframe.head(500)\n",
    "#new_dataframe.columns\n",
    "#new_dataframe['amount'].groupby(df['last_payout'].dt.to_period('M')).sum()"
   ]
  },
  {
   "cell_type": "code",
   "execution_count": 48,
   "id": "8fe2a10a",
   "metadata": {},
   "outputs": [],
   "source": [
    "#properties_melted[\"Date\"].head()\n",
    "#properties_melted[\"Date\"].dtypes\n",
    "properties_melted[\"Date\"] = pd.to_datetime(properties_melted[\"Date\"])\n",
    "properties_melted[\"Date\"].dtypes\n",
    "new_dataframe = properties_melted.groupby([\"Code\",\"Boroughs\",\"Date\"])[\"Average price\"].sum()\n",
    "new_dataframe.head(500)\n",
    "#new_dataframe.columns\n",
    "#new_dataframe['amount'].groupby(df['last_payout'].dt.to_period('M')).sum()"
   ]
  },
  {
   "cell_type": "code",
   "execution_count": 49,
   "id": "ceb28839",
   "metadata": {},
   "outputs": [],
   "source": [
    "#properties_melted[\"Date\"].head()\n",
    "#properties_melted[\"Date\"].dtypes\n",
    "properties_melted[\"Date\"] = pd.to_datetime(properties_melted[\"Date\"])\n",
    "properties_melted[\"Date\"].dtypes\n",
    "#new_dataframe = properties_melted.groupby([\"Code\",\"Boroughs\",\"Date\"])[\"Average price\"].sum()\n",
    "#new_dataframe.head(500)\n",
    "#new_dataframe.columns\n",
    "#new_dataframe['amount'].groupby(df['last_payout'].dt.to_period('M')).sum()"
   ]
  },
  {
   "cell_type": "code",
   "execution_count": 50,
   "id": "17419955",
   "metadata": {},
   "outputs": [],
   "source": [
    "#properties_melted[\"Date\"].head()\n",
    "#properties_melted[\"Date\"].dtypes\n",
    "properties_melted[\"Date\"] = pd.to_datetime(properties_melted[\"Date\"])\n",
    "properties_melted[\"Date\"].dtypes\n",
    "#new_dataframe = properties_melted.groupby([\"Code\",\"Boroughs\",\"Date\"])[\"Average price\"].sum()\n",
    "#new_dataframe.head(500)\n",
    "#new_dataframe.columns\n",
    "#new_dataframe['amount'].groupby(df['last_payout'].dt.to_period('M')).sum()\n",
    "e = properties_melted\n",
    "\n",
    "e.Date = (e.Date.apply(lambda x: pd.to_datetime(x, format=\"%Y-%M-%d\"))).dt.strftime('Average price%Y')  \n",
    "e.groupby('Date')['Average price'].sum().to_dict() "
   ]
  },
  {
   "cell_type": "code",
   "execution_count": 51,
   "id": "01e1e540",
   "metadata": {},
   "outputs": [],
   "source": [
    "#properties_melted[\"Date\"].head()\n",
    "#properties_melted[\"Date\"].dtypes\n",
    "properties_melted[\"Date\"] = pd.to_datetime(properties_melted[\"Date\"])\n",
    "properties_melted[\"Date\"].dtypes\n",
    "#new_dataframe = properties_melted.groupby([\"Code\",\"Boroughs\",\"Date\"])[\"Average price\"].sum()\n",
    "#new_dataframe.head(500)\n",
    "#new_dataframe.columns\n",
    "#new_dataframe['amount'].groupby(df['last_payout'].dt.to_period('M')).sum()\n",
    "e = properties_melted\n",
    "\n",
    "e.Date = (e.Date.apply(lambda x: pd.to_datetime(x, format=\"%Y-%M-%d\"))).dt.strftime('Average price%Y')  \n",
    "e.groupby([\"Date\",\"Code\",\"Boroughs\"])['Average price'].sum().to_dict() "
   ]
  },
  {
   "cell_type": "code",
   "execution_count": 52,
   "id": "3ee47918",
   "metadata": {},
   "outputs": [],
   "source": [
    "#properties_melted[\"Date\"].head()\n",
    "#properties_melted[\"Date\"].dtypes\n",
    "properties_melted[\"Date\"] = pd.to_datetime(properties_melted[\"Date\"])\n",
    "properties_melted[\"Date\"].dtypes\n",
    "#new_dataframe = properties_melted.groupby([\"Code\",\"Boroughs\",\"Date\"])[\"Average price\"].sum()\n",
    "#new_dataframe.head(500)\n",
    "#new_dataframe.columns\n",
    "#new_dataframe['amount'].groupby(df['last_payout'].dt.to_period('M')).sum()\n",
    "e = properties_melted\n",
    "\n",
    "e.Date = (e.Date.apply(lambda x: pd.to_datetime(x, format=\"%Y-%M-%d\"))).dt.strftime('Average price%Y')  \n",
    "e.groupby([\"Date\",\"Code\",\"Boroughs\"])['Average price'].sum().to_dict() "
   ]
  },
  {
   "cell_type": "code",
   "execution_count": 53,
   "id": "83fc6099",
   "metadata": {},
   "outputs": [],
   "source": [
    "#properties_melted[\"Date\"].head()\n",
    "#properties_melted[\"Date\"].dtypes\n",
    "properties_melted[\"Date\"] = pd.to_datetime(properties_melted[\"Date\"])\n",
    "properties_melted[\"Date\"].dtypes\n",
    "#new_dataframe = properties_melted.groupby([\"Code\",\"Boroughs\",\"Date\"])[\"Average price\"].sum()\n",
    "#new_dataframe.head(500)\n",
    "#new_dataframe.columns\n",
    "#new_dataframe['amount'].groupby(df['last_payout'].dt.to_period('M')).sum()\n",
    "e = properties_melted\n",
    "\n",
    "e.Date = (e.Date.apply(lambda x: pd.to_datetime(x, format=\"%Y-%M-%d\"))).dt.strftime('Average price%Y')  \n",
    "e.groupby([\"Date\",\"Code\",\"Boroughs\"])['Average price'].sum().to_dict() "
   ]
  },
  {
   "cell_type": "code",
   "execution_count": 54,
   "id": "43b44f2a",
   "metadata": {},
   "outputs": [],
   "source": [
    "#properties_melted[\"Date\"].head()\n",
    "#properties_melted[\"Date\"].dtypes\n",
    "properties_melted[\"Date\"] = pd.to_datetime(properties_melted[\"Date\"])\n",
    "properties_melted[\"Date\"].dtypes\n",
    "#new_dataframe = properties_melted.groupby([\"Code\",\"Boroughs\",\"Date\"])[\"Average price\"].sum()\n",
    "#new_dataframe.head(500)\n",
    "#new_dataframe.columns\n",
    "#new_dataframe['amount'].groupby(df['last_payout'].dt.to_period('M')).sum()\n",
    "e = properties_melted\n",
    "\n",
    "e.Date = (e.Date.apply(lambda x: pd.to_datetime(x, format=\"%Y-%M-%d\"))).dt.strftime('Average price%Y')  \n",
    "e.groupby(\"Boroughs\")['Average price'].sum().to_dict() "
   ]
  },
  {
   "cell_type": "code",
   "execution_count": 55,
   "id": "38b75a40",
   "metadata": {},
   "outputs": [],
   "source": [
    "#properties_melted[\"Date\"].head()\n",
    "#properties_melted[\"Date\"].dtypes\n",
    "properties_melted[\"Date\"] = pd.to_datetime(properties_melted[\"Date\"])\n",
    "properties_melted[\"Date\"].dtypes\n",
    "#new_dataframe = properties_melted.groupby([\"Code\",\"Boroughs\",\"Date\"])[\"Average price\"].sum()\n",
    "#new_dataframe.head(500)\n",
    "#new_dataframe.columns\n",
    "#new_dataframe['amount'].groupby(df['last_payout'].dt.to_period('M')).sum()\n",
    "e = properties_melted\n",
    "\n",
    "e.Date = (e.Date.apply(lambda x: pd.to_datetime(x, format=\"%Y-%M-%d\"))).dt.strftime('Average price%Y')  \n",
    "e.groupby(\"Date\")['Average price'].sum().to_dict() "
   ]
  },
  {
   "cell_type": "code",
   "execution_count": 56,
   "id": "655d9ac9",
   "metadata": {},
   "outputs": [],
   "source": [
    "# Let's import the pandas, numpy libraries as pd, and np respectively. \n",
    "import pandas as pd\n",
    "import numpy as np\n",
    "\n",
    "# Load the pyplot collection of functions from matplotlib, as plt \n",
    "import matplotlib.pyplot as plt"
   ]
  },
  {
   "cell_type": "code",
   "execution_count": 57,
   "id": "edcee879",
   "metadata": {},
   "outputs": [],
   "source": [
    "# First, make a variable called url_LondonHousePrices, and assign it the following link, enclosed in quotation-marks as a string:\n",
    "# https://data.london.gov.uk/download/uk-house-price-index/70ac0766-8902-4eb5-aab5-01951aaed773/UK%20House%20price%20index.xls\n",
    "\n",
    "url_LondonHousePrices = \"https://data.london.gov.uk/download/uk-house-price-index/70ac0766-8902-4eb5-aab5-01951aaed773/UK%20House%20price%20index.xls\"\n",
    "\n",
    "# The dataset we're interested in contains the Average prices of the houses, and is actually on a particular sheet of the Excel file. \n",
    "# As a result, we need to specify the sheet name in the read_excel() method.\n",
    "# Put this data into a variable called properties.  \n",
    "properties = pd.read_excel(url_LondonHousePrices, sheet_name='Average price', index_col= None)"
   ]
  },
  {
   "cell_type": "code",
   "execution_count": 58,
   "id": "b6b0cde2",
   "metadata": {},
   "outputs": [],
   "source": [
    "properties.head()\n",
    "properties.shape\n",
    "properties.info()"
   ]
  },
  {
   "cell_type": "code",
   "execution_count": 59,
   "id": "21907b2f",
   "metadata": {},
   "outputs": [],
   "source": [
    "properties_transposed = properties.transpose()\n",
    "properties_transposed.index\n",
    "properties_transposed = properties_transposed.reset_index()\n",
    "properties_transposed.columns = properties_transposed.iloc[0]\n",
    "properties_transposed = properties_transposed.drop(0)\n",
    "properties_transposed.head()"
   ]
  },
  {
   "cell_type": "code",
   "execution_count": 60,
   "id": "d8f8e7be",
   "metadata": {},
   "outputs": [],
   "source": [
    "properties_renamed = properties_transposed.rename({\"Unnamed: 0\":\"Boroughs\"}, axis = \"columns\")\n",
    "properties_renamed.columns = properties_renamed.columns.fillna(\"Code\")\n",
    "properties_renamed.head()"
   ]
  },
  {
   "cell_type": "code",
   "execution_count": 61,
   "id": "1dbaa55c",
   "metadata": {},
   "outputs": [],
   "source": [
    "properties_melted = pd.melt(properties_renamed, id_vars = [\"Boroughs\",\"Code\"],var_name = \"Date\",value_name = \"Average price\")\n",
    "properties_melted.head(33)"
   ]
  },
  {
   "cell_type": "code",
   "execution_count": 62,
   "id": "f54414e0",
   "metadata": {},
   "outputs": [],
   "source": [
    "def convert_to_float(x):\n",
    "    try:\n",
    "        return float(x)\n",
    "    except:\n",
    "        return np.nan\n",
    "\n",
    "properties_melted[\"Average price\"] = properties_melted[\"Average price\"].apply(convert_to_float)\n",
    "\n",
    "properties_melted[\"Average price\"].dtypes"
   ]
  },
  {
   "cell_type": "code",
   "execution_count": 63,
   "id": "be4f9534",
   "metadata": {},
   "outputs": [],
   "source": [
    "properties_melted.dropna(inplace=True)\n",
    "\n",
    "list_of_codes_not_in_london = [\"E13000001\",\"E13000002\",\"E12000001\",\"E12000002\",\"E12000003\",\"E12000004\",\"E12000005\",\"E12000006\",\n",
    "                             \"E12000007\",\"E12000008\",\"E12000009\",\"E92000001\"]\n",
    "for item in list_of_codes_not_in_london:\n",
    "    properties_melted = properties_melted[properties_melted.Code != item]\n",
    "properties_melted = properties_melted.reset_index(drop = True)\n",
    "properties_melted.head()\n",
    "properties_melted.count()"
   ]
  },
  {
   "cell_type": "code",
   "execution_count": 64,
   "id": "b6b75e3d",
   "metadata": {},
   "outputs": [],
   "source": [
    "prop_one_borough = properties_melted[properties_melted[\"Boroughs\"] == \"Greenwich\"]\n",
    "#grouped = properties_melted.groupby(\"Date\")[\"Boroughs\"].sum()\n",
    "prop_one_borough.plot(x=\"Date\",y=\"Average price\", kind = \"line\")\n",
    "plt.ylabel(\"Average price\")\n",
    "plt.title('Price change for \"Greenwich\" borough of London')\n",
    "plt.show()"
   ]
  },
  {
   "cell_type": "code",
   "execution_count": 65,
   "id": "ea29e846",
   "metadata": {},
   "outputs": [],
   "source": [
    "#properties_melted[\"Date\"].head()\n",
    "#properties_melted[\"Date\"].dtypes\n",
    "properties_melted[\"Date\"] = pd.to_datetime(properties_melted[\"Date\"])\n",
    "properties_melted[\"Date\"].dtypes\n",
    "#new_dataframe = properties_melted.groupby([\"Code\",\"Boroughs\",\"Date\"])[\"Average price\"].sum()\n",
    "#new_dataframe.head(500)\n",
    "#new_dataframe.columns\n",
    "#new_dataframe['amount'].groupby(df['last_payout'].dt.to_period('M')).sum()\n",
    "e = properties_melted\n",
    "\n",
    "e.Date = (e.Date.apply(lambda x: pd.to_datetime(x, format=\"%Y-%M-%d\"))).dt.strftime('Average price%Y')  \n",
    "e.groupby(\"Date\")['Average price'].sum().to_dict() "
   ]
  },
  {
   "cell_type": "code",
   "execution_count": 66,
   "id": "b81ac6fa",
   "metadata": {},
   "outputs": [],
   "source": [
    "prop_one_borough = properties_melted[properties_melted[\"Boroughs\"] == \"Greenwich\"]\n",
    "#grouped = properties_melted.groupby(\"Date\")[\"Boroughs\"].sum()\n",
    "prop_one_borough.plot(x=\"Date\",y=\"Average price\", kind = \"line\")\n",
    "plt.ylabel(\"Average price\")\n",
    "plt.title('Price change for \"Greenwich\" borough of London')\n",
    "plt.show()"
   ]
  },
  {
   "cell_type": "code",
   "execution_count": 67,
   "id": "6fa35910",
   "metadata": {},
   "outputs": [],
   "source": [
    "#properties_melted[\"Date\"].head()\n",
    "#properties_melted[\"Date\"].dtypes\n",
    "properties_melted[\"Date\"] = pd.to_datetime(properties_melted[\"Date\"])\n",
    "properties_melted[\"Date\"].dtypes\n",
    "#new_dataframe = properties_melted.groupby([\"Code\",\"Boroughs\",\"Date\"])[\"Average price\"].sum()\n",
    "#new_dataframe.head(500)\n",
    "#new_dataframe.columns\n",
    "#new_dataframe['amount'].groupby(df['last_payout'].dt.to_period('M')).sum()\n",
    "e = properties_melted\n",
    "\n",
    "e.Date = (e.Date.apply(lambda x: pd.to_datetime(x, format=\"%Y-%M-%d\"))).dt.strftime('Average price%Y')  \n",
    "e.groupby([\"Date\",\"Boroughs\"])['Average price'].sum().to_dict() "
   ]
  },
  {
   "cell_type": "code",
   "execution_count": 68,
   "id": "026325a9",
   "metadata": {},
   "outputs": [],
   "source": [
    "# Let's import the pandas, numpy libraries as pd, and np respectively. \n",
    "import pandas as pd\n",
    "import numpy as np\n",
    "\n",
    "# Load the pyplot collection of functions from matplotlib, as plt \n",
    "import matplotlib.pyplot as plt"
   ]
  },
  {
   "cell_type": "code",
   "execution_count": 69,
   "id": "029ec9a0",
   "metadata": {},
   "outputs": [],
   "source": [
    "# First, make a variable called url_LondonHousePrices, and assign it the following link, enclosed in quotation-marks as a string:\n",
    "# https://data.london.gov.uk/download/uk-house-price-index/70ac0766-8902-4eb5-aab5-01951aaed773/UK%20House%20price%20index.xls\n",
    "\n",
    "url_LondonHousePrices = \"https://data.london.gov.uk/download/uk-house-price-index/70ac0766-8902-4eb5-aab5-01951aaed773/UK%20House%20price%20index.xls\"\n",
    "\n",
    "# The dataset we're interested in contains the Average prices of the houses, and is actually on a particular sheet of the Excel file. \n",
    "# As a result, we need to specify the sheet name in the read_excel() method.\n",
    "# Put this data into a variable called properties.  \n",
    "properties = pd.read_excel(url_LondonHousePrices, sheet_name='Average price', index_col= None)"
   ]
  },
  {
   "cell_type": "code",
   "execution_count": 70,
   "id": "03ac2e23",
   "metadata": {},
   "outputs": [],
   "source": [
    "properties.head()\n",
    "properties.shape\n",
    "properties.info()"
   ]
  },
  {
   "cell_type": "code",
   "execution_count": 71,
   "id": "98c1ed81",
   "metadata": {},
   "outputs": [],
   "source": [
    "properties_transposed = properties.transpose()\n",
    "properties_transposed.index\n",
    "properties_transposed = properties_transposed.reset_index()\n",
    "properties_transposed.columns = properties_transposed.iloc[0]\n",
    "properties_transposed = properties_transposed.drop(0)\n",
    "properties_transposed.head()"
   ]
  },
  {
   "cell_type": "code",
   "execution_count": 72,
   "id": "6c3f60cf",
   "metadata": {},
   "outputs": [],
   "source": [
    "properties_renamed = properties_transposed.rename({\"Unnamed: 0\":\"Boroughs\"}, axis = \"columns\")\n",
    "properties_renamed.columns = properties_renamed.columns.fillna(\"Code\")\n",
    "properties_renamed.head()"
   ]
  },
  {
   "cell_type": "code",
   "execution_count": 73,
   "id": "cc099208",
   "metadata": {},
   "outputs": [],
   "source": [
    "properties_melted = pd.melt(properties_renamed, id_vars = [\"Boroughs\",\"Code\"],var_name = \"Date\",value_name = \"Average price\")\n",
    "properties_melted.head(33)"
   ]
  },
  {
   "cell_type": "code",
   "execution_count": 74,
   "id": "ba20ee55",
   "metadata": {},
   "outputs": [],
   "source": [
    "def convert_to_float(x):\n",
    "    try:\n",
    "        return float(x)\n",
    "    except:\n",
    "        return np.nan\n",
    "\n",
    "properties_melted[\"Average price\"] = properties_melted[\"Average price\"].apply(convert_to_float)\n",
    "\n",
    "properties_melted[\"Average price\"].dtypes"
   ]
  },
  {
   "cell_type": "code",
   "execution_count": 75,
   "id": "14c92a7d",
   "metadata": {},
   "outputs": [],
   "source": [
    "properties_melted.dropna(inplace=True)\n",
    "\n",
    "list_of_codes_not_in_london = [\"E13000001\",\"E13000002\",\"E12000001\",\"E12000002\",\"E12000003\",\"E12000004\",\"E12000005\",\"E12000006\",\n",
    "                             \"E12000007\",\"E12000008\",\"E12000009\",\"E92000001\"]\n",
    "for item in list_of_codes_not_in_london:\n",
    "    properties_melted = properties_melted[properties_melted.Code != item]\n",
    "properties_melted = properties_melted.reset_index(drop = True)\n",
    "properties_melted.head()\n",
    "properties_melted.count()"
   ]
  },
  {
   "cell_type": "code",
   "execution_count": 76,
   "id": "4034c0ba",
   "metadata": {},
   "outputs": [],
   "source": [
    "prop_one_borough = properties_melted[properties_melted[\"Boroughs\"] == \"Greenwich\"]\n",
    "#grouped = properties_melted.groupby(\"Date\")[\"Boroughs\"].sum()\n",
    "prop_one_borough.plot(x=\"Date\",y=\"Average price\", kind = \"line\")\n",
    "plt.ylabel(\"Average price\")\n",
    "plt.title('Price change for \"Greenwich\" borough of London')\n",
    "plt.show()"
   ]
  },
  {
   "cell_type": "code",
   "execution_count": 77,
   "id": "c1dc498f",
   "metadata": {},
   "outputs": [],
   "source": [
    "#properties_melted[\"Date\"].head()\n",
    "#properties_melted[\"Date\"].dtypes\n",
    "properties_melted[\"Date\"] = pd.to_datetime(properties_melted[\"Date\"])\n",
    "properties_melted[\"Date\"].dtypes\n",
    "#new_dataframe = properties_melted.groupby([\"Code\",\"Boroughs\",\"Date\"])[\"Average price\"].sum()\n",
    "#new_dataframe.head(500)\n",
    "#new_dataframe.columns\n",
    "#new_dataframe['amount'].groupby(df['last_payout'].dt.to_period('M')).sum()\n",
    "e = properties_melted\n",
    "\n",
    "e.Date = (e.Date.apply(lambda x: pd.to_datetime(x, format=\"%Y-%M-%d\"))).dt.strftime('Average price%Y')  \n",
    "e.groupby([\"Date\",\"Boroughs\"])['Average price'].sum().to_dict() "
   ]
  },
  {
   "cell_type": "code",
   "execution_count": 78,
   "id": "48900d97",
   "metadata": {},
   "outputs": [],
   "source": [
    "#properties_melted[\"Date\"].head()\n",
    "#properties_melted[\"Date\"].dtypes\n",
    "properties_melted[\"Date\"] = pd.to_datetime(properties_melted[\"Date\"])\n",
    "properties_melted[\"Date\"].dtypes\n",
    "#new_dataframe = properties_melted.groupby([\"Code\",\"Boroughs\",\"Date\"])[\"Average price\"].sum()\n",
    "#new_dataframe.head(500)\n",
    "#new_dataframe.columns\n",
    "#new_dataframe['amount'].groupby(df['last_payout'].dt.to_period('M')).sum()\n",
    "e = properties_melted\n",
    "\n",
    "e.Date = (e.Date.apply(lambda x: pd.to_datetime(x, format=\"%Y-%M-%d\"))).dt.strftime('Average price%Y')  \n",
    "e.groupby([\"Date\",\"Boroughs\"])['Average price'].sum().to_dict() \n",
    "e"
   ]
  },
  {
   "cell_type": "code",
   "execution_count": 79,
   "id": "e3b68283",
   "metadata": {},
   "outputs": [],
   "source": [
    "#properties_melted[\"Date\"].head()\n",
    "#properties_melted[\"Date\"].dtypes\n",
    "properties_melted[\"Date\"] = pd.to_datetime(properties_melted[\"Date\"])\n",
    "properties_melted[\"Date\"].dtypes\n",
    "#new_dataframe = properties_melted.groupby([\"Code\",\"Boroughs\",\"Date\"])[\"Average price\"].sum()\n",
    "#new_dataframe.head(500)\n",
    "#new_dataframe.columns\n",
    "#new_dataframe['amount'].groupby(df['last_payout'].dt.to_period('M')).sum()\n",
    "e = properties_melted\n",
    "\n",
    "e.Date = (e.Date.apply(lambda x: pd.to_datetime(x, format=\"%Y-%M-%d\"))).dt.strftime('Average price%Y')  \n",
    "e.groupby([\"Date\",\"Boroughs\"])['Average price'].sum().to_dict() \n",
    "print(e)"
   ]
  },
  {
   "cell_type": "code",
   "execution_count": 80,
   "id": "2adb2d7b",
   "metadata": {},
   "outputs": [],
   "source": [
    "prop_one_borough = properties_melted[properties_melted[\"Boroughs\"] == \"Greenwich\"]\n",
    "#grouped = properties_melted.groupby(\"Date\")[\"Boroughs\"].sum()\n",
    "prop_one_borough.plot(x=\"Date\",y=\"Average price\", kind = \"line\")\n",
    "plt.ylabel(\"Average price\")\n",
    "plt.title('Price change for \"Greenwich\" borough of London')\n",
    "plt.show()"
   ]
  },
  {
   "cell_type": "code",
   "execution_count": 81,
   "id": "1b0d1d2d",
   "metadata": {},
   "outputs": [],
   "source": [
    "#properties_melted[\"Date\"].head()\n",
    "#properties_melted[\"Date\"].dtypes\n",
    "properties_melted[\"Date\"] = pd.to_datetime(properties_melted[\"Date\"])\n",
    "properties_melted[\"Date\"].dtypes\n",
    "#new_dataframe = properties_melted.groupby([\"Code\",\"Boroughs\",\"Date\"])[\"Average price\"].sum()\n",
    "#new_dataframe.head(500)\n",
    "#new_dataframe.columns\n",
    "#new_dataframe['amount'].groupby(df['last_payout'].dt.to_period('M')).sum()\n",
    "e = properties_melted\n",
    "\n",
    "e.Date = (e.Date.apply(lambda x: pd.to_datetime(x, format=\"%Y-%M-%d\"))).dt.strftime('Average price%Y')  \n",
    "e.groupby([\"Date\",\"Boroughs\"])['Average price'].sum().to_dict() "
   ]
  },
  {
   "cell_type": "code",
   "execution_count": 82,
   "id": "6e22c1f5",
   "metadata": {},
   "outputs": [],
   "source": [
    "  %notebook \"C:\\Users\\Julia\\Documents\\_DATA SCIENCE\\_Case_studies\\Case_study_3_London_Housing\\Case_study_London_Housing_Yuliya_Selevich.ipynb\"     "
   ]
  },
  {
   "cell_type": "code",
   "execution_count": 83,
   "id": "882c1212",
   "metadata": {},
   "outputs": [],
   "source": [
    "# Let's import the pandas, numpy libraries as pd, and np respectively. \n",
    "import pandas as pd\n",
    "import numpy as np\n",
    "\n",
    "# Load the pyplot collection of functions from matplotlib, as plt \n",
    "import matplotlib.pyplot as plt"
   ]
  },
  {
   "cell_type": "code",
   "execution_count": 84,
   "id": "1c2d26dd",
   "metadata": {},
   "outputs": [],
   "source": [
    "# First, make a variable called url_LondonHousePrices, and assign it the following link, enclosed in quotation-marks as a string:\n",
    "# https://data.london.gov.uk/download/uk-house-price-index/70ac0766-8902-4eb5-aab5-01951aaed773/UK%20House%20price%20index.xls\n",
    "\n",
    "url_LondonHousePrices = \"https://data.london.gov.uk/download/uk-house-price-index/70ac0766-8902-4eb5-aab5-01951aaed773/UK%20House%20price%20index.xls\"\n",
    "\n",
    "# The dataset we're interested in contains the Average prices of the houses, and is actually on a particular sheet of the Excel file. \n",
    "# As a result, we need to specify the sheet name in the read_excel() method.\n",
    "# Put this data into a variable called properties.  \n",
    "properties = pd.read_excel(url_LondonHousePrices, sheet_name='Average price', index_col= None)"
   ]
  },
  {
   "cell_type": "code",
   "execution_count": 85,
   "id": "a1868e28",
   "metadata": {},
   "outputs": [],
   "source": [
    "properties.head()\n",
    "properties.shape\n",
    "properties.info()"
   ]
  },
  {
   "cell_type": "code",
   "execution_count": 86,
   "id": "0a5bf39a",
   "metadata": {},
   "outputs": [],
   "source": [
    "properties_transposed = properties.transpose()\n",
    "properties_transposed.index\n",
    "properties_transposed = properties_transposed.reset_index()\n",
    "properties_transposed.columns = properties_transposed.iloc[0]\n",
    "properties_transposed = properties_transposed.drop(0)\n",
    "properties_transposed.head()"
   ]
  },
  {
   "cell_type": "code",
   "execution_count": 87,
   "id": "ac23f32c",
   "metadata": {},
   "outputs": [],
   "source": [
    "properties_renamed = properties_transposed.rename({\"Unnamed: 0\":\"Boroughs\"}, axis = \"columns\")\n",
    "properties_renamed.columns = properties_renamed.columns.fillna(\"Code\")\n",
    "properties_renamed.head()"
   ]
  },
  {
   "cell_type": "code",
   "execution_count": 88,
   "id": "6c4e312e",
   "metadata": {},
   "outputs": [],
   "source": [
    "properties_melted = pd.melt(properties_renamed, id_vars = [\"Boroughs\",\"Code\"],var_name = \"Date\",value_name = \"Average price\")\n",
    "properties_melted.head(33)"
   ]
  },
  {
   "cell_type": "code",
   "execution_count": 89,
   "id": "ef3d368e",
   "metadata": {},
   "outputs": [],
   "source": [
    "def convert_to_float(x):\n",
    "    try:\n",
    "        return float(x)\n",
    "    except:\n",
    "        return np.nan\n",
    "\n",
    "properties_melted[\"Average price\"] = properties_melted[\"Average price\"].apply(convert_to_float)\n",
    "\n",
    "properties_melted[\"Average price\"].dtypes"
   ]
  },
  {
   "cell_type": "code",
   "execution_count": 90,
   "id": "c9fa3f29",
   "metadata": {},
   "outputs": [],
   "source": [
    "properties_melted.dropna(inplace=True)\n",
    "\n",
    "list_of_codes_not_in_london = [\"E13000001\",\"E13000002\",\"E12000001\",\"E12000002\",\"E12000003\",\"E12000004\",\"E12000005\",\"E12000006\",\n",
    "                             \"E12000007\",\"E12000008\",\"E12000009\",\"E92000001\"]\n",
    "for item in list_of_codes_not_in_london:\n",
    "    properties_melted = properties_melted[properties_melted.Code != item]\n",
    "properties_melted = properties_melted.reset_index(drop = True)\n",
    "properties_melted.head()\n",
    "properties_melted.count()"
   ]
  },
  {
   "cell_type": "code",
   "execution_count": 91,
   "id": "1b68437a",
   "metadata": {},
   "outputs": [],
   "source": [
    "prop_one_borough = properties_melted[properties_melted[\"Boroughs\"] == \"Greenwich\"]\n",
    "#grouped = properties_melted.groupby(\"Date\")[\"Boroughs\"].sum()\n",
    "prop_one_borough.plot(x=\"Date\",y=\"Average price\", kind = \"line\")\n",
    "plt.ylabel(\"Average price\")\n",
    "plt.title('Price change for \"Greenwich\" borough of London')\n",
    "plt.show()"
   ]
  },
  {
   "cell_type": "code",
   "execution_count": 92,
   "id": "3ace171b",
   "metadata": {},
   "outputs": [],
   "source": [
    "#properties_melted[\"Date\"].head()\n",
    "#properties_melted[\"Date\"].dtypes\n",
    "properties_melted[\"Date\"] = pd.to_datetime(properties_melted[\"Date\"])\n",
    "properties_melted[\"Date\"].dtypes\n",
    "#new_dataframe = properties_melted.groupby([\"Code\",\"Boroughs\",\"Date\"])[\"Average price\"].sum()\n",
    "#new_dataframe.head(500)\n",
    "#new_dataframe.columns\n",
    "#new_dataframe['amount'].groupby(df['last_payout'].dt.to_period('M')).sum()\n",
    "e = properties_melted\n",
    "\n",
    "e.Date = (e.Date.apply(lambda x: pd.to_datetime(x, format=\"%Y-%M-%d\"))).dt.strftime('Average price%Y')  \n",
    "e.groupby([\"Date\",\"Boroughs\"])['Average price'].sum().to_dict() "
   ]
  },
  {
   "cell_type": "code",
   "execution_count": 93,
   "id": "9e960661",
   "metadata": {},
   "outputs": [],
   "source": [
    "  %notebook \"C:\\Users\\Julia\\Documents\\_DATA SCIENCE\\_Case_studies\\Case_study_3_London_Housing\\Case_study_London_Housing_Yuliya_Selevich.ipynb\"     "
   ]
  },
  {
   "cell_type": "code",
   "execution_count": 94,
   "id": "296e8af1",
   "metadata": {},
   "outputs": [],
   "source": [
    "# Let's import the pandas, numpy libraries as pd, and np respectively. \n",
    "import pandas as pd\n",
    "import numpy as np\n",
    "\n",
    "# Load the pyplot collection of functions from matplotlib, as plt \n",
    "import matplotlib.pyplot as plt"
   ]
  },
  {
   "cell_type": "code",
   "execution_count": 95,
   "id": "21554398",
   "metadata": {},
   "outputs": [],
   "source": [
    "# First, make a variable called url_LondonHousePrices, and assign it the following link, enclosed in quotation-marks as a string:\n",
    "# https://data.london.gov.uk/download/uk-house-price-index/70ac0766-8902-4eb5-aab5-01951aaed773/UK%20House%20price%20index.xls\n",
    "\n",
    "url_LondonHousePrices = \"https://data.london.gov.uk/download/uk-house-price-index/70ac0766-8902-4eb5-aab5-01951aaed773/UK%20House%20price%20index.xls\"\n",
    "\n",
    "# The dataset we're interested in contains the Average prices of the houses, and is actually on a particular sheet of the Excel file. \n",
    "# As a result, we need to specify the sheet name in the read_excel() method.\n",
    "# Put this data into a variable called properties.  \n",
    "properties = pd.read_excel(url_LondonHousePrices, sheet_name='Average price', index_col= None)"
   ]
  },
  {
   "cell_type": "code",
   "execution_count": 96,
   "id": "a6ac0280",
   "metadata": {},
   "outputs": [],
   "source": [
    "properties.head()\n",
    "properties.shape\n",
    "properties.info()"
   ]
  },
  {
   "cell_type": "code",
   "execution_count": 97,
   "id": "5c4aa377",
   "metadata": {},
   "outputs": [],
   "source": [
    "properties_transposed = properties.transpose()\n",
    "properties_transposed.index\n",
    "properties_transposed = properties_transposed.reset_index()\n",
    "properties_transposed.columns = properties_transposed.iloc[0]\n",
    "properties_transposed = properties_transposed.drop(0)\n",
    "properties_transposed.head()"
   ]
  },
  {
   "cell_type": "code",
   "execution_count": 98,
   "id": "e2259907",
   "metadata": {},
   "outputs": [],
   "source": [
    "properties_renamed = properties_transposed.rename({\"Unnamed: 0\":\"Boroughs\"}, axis = \"columns\")\n",
    "properties_renamed.columns = properties_renamed.columns.fillna(\"Code\")\n",
    "properties_renamed.head()"
   ]
  },
  {
   "cell_type": "code",
   "execution_count": 99,
   "id": "30483e25",
   "metadata": {},
   "outputs": [],
   "source": [
    "properties_melted = pd.melt(properties_renamed, id_vars = [\"Boroughs\",\"Code\"],var_name = \"Date\",value_name = \"Average price\")\n",
    "properties_melted.head(33)"
   ]
  },
  {
   "cell_type": "code",
   "execution_count": 100,
   "id": "f68fcb90",
   "metadata": {},
   "outputs": [],
   "source": [
    "def convert_to_float(x):\n",
    "    try:\n",
    "        return float(x)\n",
    "    except:\n",
    "        return np.nan\n",
    "\n",
    "properties_melted[\"Average price\"] = properties_melted[\"Average price\"].apply(convert_to_float)\n",
    "\n",
    "properties_melted[\"Average price\"].dtypes"
   ]
  },
  {
   "cell_type": "code",
   "execution_count": 101,
   "id": "2b5f146a",
   "metadata": {},
   "outputs": [],
   "source": [
    "properties_melted.dropna(inplace=True)\n",
    "\n",
    "list_of_codes_not_in_london = [\"E13000001\",\"E13000002\",\"E12000001\",\"E12000002\",\"E12000003\",\"E12000004\",\"E12000005\",\"E12000006\",\n",
    "                             \"E12000007\",\"E12000008\",\"E12000009\",\"E92000001\"]\n",
    "for item in list_of_codes_not_in_london:\n",
    "    properties_melted = properties_melted[properties_melted.Code != item]\n",
    "properties_melted = properties_melted.reset_index(drop = True)\n",
    "properties_melted.head()\n",
    "properties_melted.count()"
   ]
  },
  {
   "cell_type": "code",
   "execution_count": 102,
   "id": "c4a34b6c",
   "metadata": {},
   "outputs": [],
   "source": [
    "prop_one_borough = properties_melted[properties_melted[\"Boroughs\"] == \"Greenwich\"]\n",
    "#grouped = properties_melted.groupby(\"Date\")[\"Boroughs\"].sum()\n",
    "prop_one_borough.plot(x=\"Date\",y=\"Average price\", kind = \"line\")\n",
    "plt.ylabel(\"Average price\")\n",
    "plt.title('Price change for \"Greenwich\" borough of London')\n",
    "plt.show()"
   ]
  },
  {
   "cell_type": "code",
   "execution_count": 103,
   "id": "dd1aa346",
   "metadata": {},
   "outputs": [],
   "source": [
    "#properties_melted[\"Date\"].head()\n",
    "#properties_melted[\"Date\"].dtypes\n",
    "properties_melted[\"Date\"] = pd.to_datetime(properties_melted[\"Date\"])\n",
    "properties_melted[\"Date\"].dtypes\n",
    "#new_dataframe = properties_melted.groupby([\"Code\",\"Boroughs\",\"Date\"])[\"Average price\"].sum()\n",
    "#new_dataframe.head(500)\n",
    "#new_dataframe.columns\n",
    "#new_dataframe['amount'].groupby(df['last_payout'].dt.to_period('M')).sum()\n",
    "e = properties_melted\n",
    "\n",
    "e.Date = (e.Date.apply(lambda x: pd.to_datetime(x, format=\"%Y-%M-%d\"))).dt.strftime('Average price%Y')  \n",
    "e.groupby([\"Date\",\"Boroughs\",\"Code\"])['Average price'].sum().to_dict() "
   ]
  },
  {
   "cell_type": "code",
   "execution_count": 104,
   "id": "90f9cc41",
   "metadata": {},
   "outputs": [],
   "source": [
    "#properties_melted[\"Date\"].head()\n",
    "#properties_melted[\"Date\"].dtypes\n",
    "properties_melted[\"Date\"] = pd.to_datetime(properties_melted[\"Date\"])\n",
    "properties_melted[\"Date\"].dtypes\n",
    "#new_dataframe = properties_melted.groupby([\"Code\",\"Boroughs\",\"Date\"])[\"Average price\"].sum()\n",
    "#new_dataframe.head(500)\n",
    "#new_dataframe.columns\n",
    "#new_dataframe['amount'].groupby(df['last_payout'].dt.to_period('M')).sum()\n",
    "e = properties_melted\n",
    "\n",
    "e.Date = (e.Date.apply(lambda x: pd.to_datetime(x, format=\"%Y-%M-%d\"))).dt.strftime('Average price %Y')  \n",
    "e.groupby([\"Date\",\"Boroughs\",\"Code\"])['Average price'].sum().to_dict() "
   ]
  },
  {
   "cell_type": "code",
   "execution_count": 105,
   "id": "9683aad6",
   "metadata": {},
   "outputs": [],
   "source": [
    "  %notebook \"C:\\Users\\Julia\\Documents\\_DATA SCIENCE\\_Case_studies\\Case_study_3_London_Housing\\Case_study_London_Housing_Yuliya_Selevich.ipynb\"     "
   ]
  },
  {
   "cell_type": "code",
   "execution_count": 106,
   "id": "9d2a4844",
   "metadata": {},
   "outputs": [],
   "source": [
    "# Let's import the pandas, numpy libraries as pd, and np respectively. \n",
    "import pandas as pd\n",
    "import numpy as np\n",
    "\n",
    "# Load the pyplot collection of functions from matplotlib, as plt \n",
    "import matplotlib.pyplot as plt"
   ]
  },
  {
   "cell_type": "code",
   "execution_count": 107,
   "id": "727c788f",
   "metadata": {},
   "outputs": [],
   "source": [
    "# First, make a variable called url_LondonHousePrices, and assign it the following link, enclosed in quotation-marks as a string:\n",
    "# https://data.london.gov.uk/download/uk-house-price-index/70ac0766-8902-4eb5-aab5-01951aaed773/UK%20House%20price%20index.xls\n",
    "\n",
    "url_LondonHousePrices = \"https://data.london.gov.uk/download/uk-house-price-index/70ac0766-8902-4eb5-aab5-01951aaed773/UK%20House%20price%20index.xls\"\n",
    "\n",
    "# The dataset we're interested in contains the Average prices of the houses, and is actually on a particular sheet of the Excel file. \n",
    "# As a result, we need to specify the sheet name in the read_excel() method.\n",
    "# Put this data into a variable called properties.  \n",
    "properties = pd.read_excel(url_LondonHousePrices, sheet_name='Average price', index_col= None)"
   ]
  },
  {
   "cell_type": "code",
   "execution_count": 108,
   "id": "ac50cd5a",
   "metadata": {},
   "outputs": [],
   "source": [
    "properties.head()\n",
    "properties.shape\n",
    "properties.info()"
   ]
  },
  {
   "cell_type": "code",
   "execution_count": 109,
   "id": "f4481624",
   "metadata": {},
   "outputs": [],
   "source": [
    "properties_transposed = properties.transpose()\n",
    "properties_transposed.index\n",
    "properties_transposed = properties_transposed.reset_index()\n",
    "properties_transposed.columns = properties_transposed.iloc[0]\n",
    "properties_transposed = properties_transposed.drop(0)\n",
    "properties_transposed.head()"
   ]
  },
  {
   "cell_type": "code",
   "execution_count": 110,
   "id": "b79562b6",
   "metadata": {},
   "outputs": [],
   "source": [
    "properties_renamed = properties_transposed.rename({\"Unnamed: 0\":\"Boroughs\"}, axis = \"columns\")\n",
    "properties_renamed.columns = properties_renamed.columns.fillna(\"Code\")\n",
    "properties_renamed.head()"
   ]
  },
  {
   "cell_type": "code",
   "execution_count": 111,
   "id": "c7ba0727",
   "metadata": {},
   "outputs": [],
   "source": [
    "properties_melted = pd.melt(properties_renamed, id_vars = [\"Boroughs\",\"Code\"],var_name = \"Date\",value_name = \"Average price\")\n",
    "properties_melted.head(33)"
   ]
  },
  {
   "cell_type": "code",
   "execution_count": 112,
   "id": "5ea84eb6",
   "metadata": {},
   "outputs": [],
   "source": [
    "def convert_to_float(x):\n",
    "    try:\n",
    "        return float(x)\n",
    "    except:\n",
    "        return np.nan\n",
    "\n",
    "properties_melted[\"Average price\"] = properties_melted[\"Average price\"].apply(convert_to_float)\n",
    "\n",
    "properties_melted[\"Average price\"].dtypes"
   ]
  },
  {
   "cell_type": "code",
   "execution_count": 113,
   "id": "86d2a608",
   "metadata": {},
   "outputs": [],
   "source": [
    "properties_melted.dropna(inplace=True)\n",
    "\n",
    "list_of_codes_not_in_london = [\"E13000001\",\"E13000002\",\"E12000001\",\"E12000002\",\"E12000003\",\"E12000004\",\"E12000005\",\"E12000006\",\n",
    "                             \"E12000007\",\"E12000008\",\"E12000009\",\"E92000001\"]\n",
    "for item in list_of_codes_not_in_london:\n",
    "    properties_melted = properties_melted[properties_melted.Code != item]\n",
    "properties_melted = properties_melted.reset_index(drop = True)\n",
    "properties_melted.head()\n",
    "properties_melted.count()"
   ]
  },
  {
   "cell_type": "code",
   "execution_count": 114,
   "id": "6f93da97",
   "metadata": {},
   "outputs": [],
   "source": [
    "prop_one_borough = properties_melted[properties_melted[\"Boroughs\"] == \"Greenwich\"]\n",
    "#grouped = properties_melted.groupby(\"Date\")[\"Boroughs\"].sum()\n",
    "prop_one_borough.plot(x=\"Date\",y=\"Average price\", kind = \"line\")\n",
    "plt.ylabel(\"Average price\")\n",
    "plt.title('Price change for \"Greenwich\" borough of London')\n",
    "plt.show()"
   ]
  },
  {
   "cell_type": "code",
   "execution_count": 115,
   "id": "aa4ea70a",
   "metadata": {},
   "outputs": [],
   "source": [
    "#properties_melted[\"Date\"].head()\n",
    "#properties_melted[\"Date\"].dtypes\n",
    "properties_melted[\"Date\"] = pd.to_datetime(properties_melted[\"Date\"])\n",
    "properties_melted[\"Date\"].dtypes\n",
    "#new_dataframe = properties_melted.groupby([\"Code\",\"Boroughs\",\"Date\"])[\"Average price\"].sum()\n",
    "#new_dataframe.head(500)\n",
    "#new_dataframe.columns\n",
    "#new_dataframe['amount'].groupby(df['last_payout'].dt.to_period('M')).sum()\n",
    "e = properties_melted\n",
    "\n",
    "e.Date = (e.Date.apply(lambda x: pd.to_datetime(x, format=\"%Y-%M-%d\"))).dt.strftime('Average price %Y')  \n",
    "e.groupby([\"Date\",\"Boroughs\",\"Code\"])['Average price'].sum().to_dict() "
   ]
  },
  {
   "cell_type": "code",
   "execution_count": 116,
   "id": "86461c50",
   "metadata": {},
   "outputs": [],
   "source": [
    "  %notebook \"C:\\Users\\Julia\\Documents\\_DATA SCIENCE\\_Case_studies\\Case_study_3_London_Housing\\Case_study_London_Housing_Yuliya_Selevich.ipynb\"     "
   ]
  },
  {
   "cell_type": "code",
   "execution_count": 117,
   "id": "67deab06",
   "metadata": {},
   "outputs": [],
   "source": [
    "# Let's import the pandas, numpy libraries as pd, and np respectively. \n",
    "import pandas as pd\n",
    "import numpy as np\n",
    "\n",
    "# Load the pyplot collection of functions from matplotlib, as plt \n",
    "import matplotlib.pyplot as plt"
   ]
  },
  {
   "cell_type": "code",
   "execution_count": 118,
   "id": "1a77f63e",
   "metadata": {},
   "outputs": [],
   "source": [
    "# First, make a variable called url_LondonHousePrices, and assign it the following link, enclosed in quotation-marks as a string:\n",
    "# https://data.london.gov.uk/download/uk-house-price-index/70ac0766-8902-4eb5-aab5-01951aaed773/UK%20House%20price%20index.xls\n",
    "\n",
    "url_LondonHousePrices = \"https://data.london.gov.uk/download/uk-house-price-index/70ac0766-8902-4eb5-aab5-01951aaed773/UK%20House%20price%20index.xls\"\n",
    "\n",
    "# The dataset we're interested in contains the Average prices of the houses, and is actually on a particular sheet of the Excel file. \n",
    "# As a result, we need to specify the sheet name in the read_excel() method.\n",
    "# Put this data into a variable called properties.  \n",
    "properties = pd.read_excel(url_LondonHousePrices, sheet_name='Average price', index_col= None)"
   ]
  },
  {
   "cell_type": "code",
   "execution_count": 119,
   "id": "51f9086a",
   "metadata": {},
   "outputs": [],
   "source": [
    "properties.head()\n",
    "properties.shape\n",
    "properties.info()"
   ]
  },
  {
   "cell_type": "code",
   "execution_count": 120,
   "id": "a9120e47",
   "metadata": {},
   "outputs": [],
   "source": [
    "properties_transposed = properties.transpose()\n",
    "properties_transposed.index\n",
    "properties_transposed = properties_transposed.reset_index()\n",
    "properties_transposed.columns = properties_transposed.iloc[0]\n",
    "properties_transposed = properties_transposed.drop(0)\n",
    "properties_transposed.head()"
   ]
  },
  {
   "cell_type": "code",
   "execution_count": 121,
   "id": "f59ef689",
   "metadata": {},
   "outputs": [],
   "source": [
    "properties_renamed = properties_transposed.rename({\"Unnamed: 0\":\"Boroughs\"}, axis = \"columns\")\n",
    "properties_renamed.columns = properties_renamed.columns.fillna(\"Code\")\n",
    "properties_renamed.head()"
   ]
  },
  {
   "cell_type": "code",
   "execution_count": 122,
   "id": "58c1f803",
   "metadata": {},
   "outputs": [],
   "source": [
    "properties_melted = pd.melt(properties_renamed, id_vars = [\"Boroughs\",\"Code\"],var_name = \"Date\",value_name = \"Average price\")\n",
    "properties_melted.head(33)"
   ]
  },
  {
   "cell_type": "code",
   "execution_count": 123,
   "id": "a00cf108",
   "metadata": {},
   "outputs": [],
   "source": [
    "def convert_to_float(x):\n",
    "    try:\n",
    "        return float(x)\n",
    "    except:\n",
    "        return np.nan\n",
    "\n",
    "properties_melted[\"Average price\"] = properties_melted[\"Average price\"].apply(convert_to_float)\n",
    "\n",
    "properties_melted[\"Average price\"].dtypes"
   ]
  },
  {
   "cell_type": "code",
   "execution_count": 124,
   "id": "56c7503d",
   "metadata": {},
   "outputs": [],
   "source": [
    "properties_melted.dropna(inplace=True)\n",
    "\n",
    "list_of_codes_not_in_london = [\"E13000001\",\"E13000002\",\"E12000001\",\"E12000002\",\"E12000003\",\"E12000004\",\"E12000005\",\"E12000006\",\n",
    "                             \"E12000007\",\"E12000008\",\"E12000009\",\"E92000001\"]\n",
    "for item in list_of_codes_not_in_london:\n",
    "    properties_melted = properties_melted[properties_melted.Code != item]\n",
    "properties_melted = properties_melted.reset_index(drop = True)\n",
    "properties_melted.head()\n",
    "properties_melted.count()"
   ]
  },
  {
   "cell_type": "code",
   "execution_count": 125,
   "id": "8a6e88a4",
   "metadata": {},
   "outputs": [],
   "source": [
    "prop_one_borough = properties_melted[properties_melted[\"Boroughs\"] == \"Greenwich\"]\n",
    "#grouped = properties_melted.groupby(\"Date\")[\"Boroughs\"].sum()\n",
    "prop_one_borough.plot(x=\"Date\",y=\"Average price\", kind = \"line\")\n",
    "plt.ylabel(\"Average price\")\n",
    "plt.title('Price change for \"Greenwich\" borough of London')\n",
    "plt.show()"
   ]
  },
  {
   "cell_type": "code",
   "execution_count": 126,
   "id": "dab7e146",
   "metadata": {},
   "outputs": [],
   "source": [
    "#properties_melted[\"Date\"].head()\n",
    "#properties_melted[\"Date\"].dtypes\n",
    "properties_melted[\"Date\"] = pd.to_datetime(properties_melted[\"Date\"])\n",
    "properties_melted[\"Date\"].dtypes\n",
    "#new_dataframe = properties_melted.groupby([\"Code\",\"Boroughs\",\"Date\"])[\"Average price\"].sum()\n",
    "#new_dataframe.head(500)\n",
    "#new_dataframe.columns\n",
    "#new_dataframe['amount'].groupby(df['last_payout'].dt.to_period('M')).sum()\n",
    "#e = properties_melted\n",
    "#e.Date = (e.Date.apply(lambda x: pd.to_datetime(x, format=\"%Y-%M-%d\"))).dt.strftime('Average price %Y')  \n",
    "#e.groupby([\"Date\",\"Boroughs\",\"Code\"])['Average price'].sum().to_dict() "
   ]
  },
  {
   "cell_type": "code",
   "execution_count": 127,
   "id": "cd7882dc",
   "metadata": {},
   "outputs": [],
   "source": [
    "#properties_melted[\"Date\"].head()\n",
    "#properties_melted[\"Date\"].dtypes\n",
    "properties_melted[\"Date\"] = pd.to_datetime(properties_melted[\"Date\"])\n",
    "properties_melted[\"Date\"].dtypes\n",
    "#new_dataframe = properties_melted.groupby([\"Code\",\"Boroughs\",\"Date\"])[\"Average price\"].sum()\n",
    "#new_dataframe.head(500)\n",
    "#new_dataframe.columns\n",
    "#new_dataframe['amount'].groupby(df['last_payout'].dt.to_period('M')).sum()\n",
    "#e = properties_melted\n",
    "#e.Date = (e.Date.apply(lambda x: pd.to_datetime(x, format=\"%Y-%M-%d\"))).dt.strftime('Average price %Y')  \n",
    "#e.groupby([\"Date\",\"Boroughs\",\"Code\"])['Average price'].sum().to_dict() \n",
    "result = properties_melted.groupby(properties_melted.Date.properties_melted.to_period(\"Y\"))['Average price'].sum()\n",
    "\n",
    "for year, price in result.items():\n",
    "    print(f\"Average price{year} = {price}\")"
   ]
  },
  {
   "cell_type": "code",
   "execution_count": 128,
   "id": "f332d76d",
   "metadata": {},
   "outputs": [],
   "source": [
    "  %notebook \"C:\\Users\\Julia\\Documents\\_DATA SCIENCE\\_Case_studies\\Case_study_3_London_Housing\\Case_study_London_Housing_Yuliya_Selevich.ipynb\"     "
   ]
  },
  {
   "cell_type": "code",
   "execution_count": 129,
   "id": "07ae51cd",
   "metadata": {},
   "outputs": [],
   "source": [
    "# Let's import the pandas, numpy libraries as pd, and np respectively. \n",
    "import pandas as pd\n",
    "import numpy as np\n",
    "\n",
    "# Load the pyplot collection of functions from matplotlib, as plt \n",
    "import matplotlib.pyplot as plt"
   ]
  },
  {
   "cell_type": "code",
   "execution_count": 130,
   "id": "39b1d6bd",
   "metadata": {},
   "outputs": [],
   "source": [
    "# First, make a variable called url_LondonHousePrices, and assign it the following link, enclosed in quotation-marks as a string:\n",
    "# https://data.london.gov.uk/download/uk-house-price-index/70ac0766-8902-4eb5-aab5-01951aaed773/UK%20House%20price%20index.xls\n",
    "\n",
    "url_LondonHousePrices = \"https://data.london.gov.uk/download/uk-house-price-index/70ac0766-8902-4eb5-aab5-01951aaed773/UK%20House%20price%20index.xls\"\n",
    "\n",
    "# The dataset we're interested in contains the Average prices of the houses, and is actually on a particular sheet of the Excel file. \n",
    "# As a result, we need to specify the sheet name in the read_excel() method.\n",
    "# Put this data into a variable called properties.  \n",
    "properties = pd.read_excel(url_LondonHousePrices, sheet_name='Average price', index_col= None)"
   ]
  },
  {
   "cell_type": "code",
   "execution_count": 131,
   "id": "1c4ca5e6",
   "metadata": {},
   "outputs": [],
   "source": [
    "properties.head()\n",
    "properties.shape\n",
    "properties.info()"
   ]
  },
  {
   "cell_type": "code",
   "execution_count": 132,
   "id": "fc355637",
   "metadata": {},
   "outputs": [],
   "source": [
    "properties_transposed = properties.transpose()\n",
    "properties_transposed.index\n",
    "properties_transposed = properties_transposed.reset_index()\n",
    "properties_transposed.columns = properties_transposed.iloc[0]\n",
    "properties_transposed = properties_transposed.drop(0)\n",
    "properties_transposed.head()"
   ]
  },
  {
   "cell_type": "code",
   "execution_count": 133,
   "id": "d2d1b850",
   "metadata": {},
   "outputs": [],
   "source": [
    "properties_renamed = properties_transposed.rename({\"Unnamed: 0\":\"Boroughs\"}, axis = \"columns\")\n",
    "properties_renamed.columns = properties_renamed.columns.fillna(\"Code\")\n",
    "properties_renamed.head()"
   ]
  },
  {
   "cell_type": "code",
   "execution_count": 134,
   "id": "5dc99231",
   "metadata": {},
   "outputs": [],
   "source": [
    "properties_melted = pd.melt(properties_renamed, id_vars = [\"Boroughs\",\"Code\"],var_name = \"Date\",value_name = \"Average price\")\n",
    "properties_melted.head(33)"
   ]
  },
  {
   "cell_type": "code",
   "execution_count": 135,
   "id": "5d028146",
   "metadata": {},
   "outputs": [],
   "source": [
    "def convert_to_float(x):\n",
    "    try:\n",
    "        return float(x)\n",
    "    except:\n",
    "        return np.nan\n",
    "\n",
    "properties_melted[\"Average price\"] = properties_melted[\"Average price\"].apply(convert_to_float)\n",
    "\n",
    "properties_melted[\"Average price\"].dtypes"
   ]
  },
  {
   "cell_type": "code",
   "execution_count": 136,
   "id": "e423907b",
   "metadata": {},
   "outputs": [],
   "source": [
    "properties_melted.dropna(inplace=True)\n",
    "\n",
    "list_of_codes_not_in_london = [\"E13000001\",\"E13000002\",\"E12000001\",\"E12000002\",\"E12000003\",\"E12000004\",\"E12000005\",\"E12000006\",\n",
    "                             \"E12000007\",\"E12000008\",\"E12000009\",\"E92000001\"]\n",
    "for item in list_of_codes_not_in_london:\n",
    "    properties_melted = properties_melted[properties_melted.Code != item]\n",
    "properties_melted = properties_melted.reset_index(drop = True)\n",
    "properties_melted.head()\n",
    "properties_melted.count()"
   ]
  },
  {
   "cell_type": "code",
   "execution_count": 137,
   "id": "9373d105",
   "metadata": {},
   "outputs": [],
   "source": [
    "prop_one_borough = properties_melted[properties_melted[\"Boroughs\"] == \"Greenwich\"]\n",
    "#grouped = properties_melted.groupby(\"Date\")[\"Boroughs\"].sum()\n",
    "prop_one_borough.plot(x=\"Date\",y=\"Average price\", kind = \"line\")\n",
    "plt.ylabel(\"Average price\")\n",
    "plt.title('Price change for \"Greenwich\" borough of London')\n",
    "plt.show()"
   ]
  },
  {
   "cell_type": "code",
   "execution_count": 138,
   "id": "2da725dc",
   "metadata": {},
   "outputs": [],
   "source": [
    "#properties_melted[\"Date\"].head()\n",
    "#properties_melted[\"Date\"].dtypes\n",
    "properties_melted[\"Date\"] = pd.to_datetime(properties_melted[\"Date\"])\n",
    "properties_melted[\"Date\"].dtypes\n",
    "#new_dataframe = properties_melted.groupby([\"Code\",\"Boroughs\",\"Date\"])[\"Average price\"].sum()\n",
    "#new_dataframe.head(500)\n",
    "#new_dataframe.columns\n",
    "#new_dataframe['amount'].groupby(df['last_payout'].dt.to_period('M')).sum()\n",
    "#e = properties_melted\n",
    "#e.Date = (e.Date.apply(lambda x: pd.to_datetime(x, format=\"%Y-%M-%d\"))).dt.strftime('Average price %Y')  \n",
    "#e.groupby([\"Date\",\"Boroughs\",\"Code\"])['Average price'].sum().to_dict() \n",
    "result = properties_melted.groupby(properties_melted.Date.properties_melted.to_period(\"Y\"))['Average price'].sum()\n",
    "\n",
    "for year, price in result.items():\n",
    "    print(f\"Average price{year} = {price}\")"
   ]
  },
  {
   "cell_type": "code",
   "execution_count": 139,
   "id": "9ba8ec20",
   "metadata": {},
   "outputs": [],
   "source": [
    "#properties_melted[\"Date\"].head()\n",
    "#properties_melted[\"Date\"].dtypes\n",
    "properties_melted[\"Date\"] = pd.to_datetime(properties_melted[\"Date\"])\n",
    "properties_melted[\"Date\"].dtypes\n",
    "#new_dataframe = properties_melted.groupby([\"Code\",\"Boroughs\",\"Date\"])[\"Average price\"].sum()\n",
    "#new_dataframe.head(500)\n",
    "#new_dataframe.columns\n",
    "#new_dataframe['amount'].groupby(df['last_payout'].dt.to_period('M')).sum()\n",
    "#e = properties_melted\n",
    "#e.Date = (e.Date.apply(lambda x: pd.to_datetime(x, format=\"%Y-%M-%d\"))).dt.strftime('Average price %Y')  \n",
    "#e.groupby([\"Date\",\"Boroughs\",\"Code\"])['Average price'].sum().to_dict() \n",
    "result = properties_melted.groupby(properties_melted.Date.properties_melted.to_period(\"Y\"))['Average price'].sum()\n",
    "\n",
    "for year, price in result.items():\n",
    "    print(f\"Average price{year} = {price}\")"
   ]
  },
  {
   "cell_type": "code",
   "execution_count": 140,
   "id": "f1baa17d",
   "metadata": {},
   "outputs": [],
   "source": [
    "#properties_melted[\"Date\"].head()\n",
    "#properties_melted[\"Date\"].dtypes\n",
    "properties_melted[\"Date\"] = pd.to_datetime(properties_melted[\"Date\"])\n",
    "properties_melted[\"Date\"].dtypes\n",
    "#new_dataframe = properties_melted.groupby([\"Code\",\"Boroughs\",\"Date\"])[\"Average price\"].sum()\n",
    "#new_dataframe.head(500)\n",
    "#new_dataframe.columns\n",
    "#new_dataframe['amount'].groupby(df['last_payout'].dt.to_period('M')).sum()\n",
    "#e = properties_melted\n",
    "#e.Date = (e.Date.apply(lambda x: pd.to_datetime(x, format=\"%Y-%M-%d\"))).dt.strftime('Average price %Y')  \n",
    "#e.groupby([\"Date\",\"Boroughs\",\"Code\"])['Average price'].sum().to_dict() \n",
    "result = properties_melted.groupby(properties_melted.Date.dt.to_period(\"Y\"))['Average price'].sum()\n",
    "\n",
    "for year, price in result.items():\n",
    "    print(f\"Average price{year} = {price}\")"
   ]
  },
  {
   "cell_type": "code",
   "execution_count": 141,
   "id": "0ff50f9e",
   "metadata": {},
   "outputs": [],
   "source": [
    "#properties_melted[\"Date\"].head()\n",
    "#properties_melted[\"Date\"].dtypes\n",
    "properties_melted[\"Date\"] = pd.to_datetime(properties_melted[\"Date\"])\n",
    "properties_melted[\"Date\"].dtypes\n",
    "#new_dataframe = properties_melted.groupby([\"Code\",\"Boroughs\",\"Date\"])[\"Average price\"].sum()\n",
    "#new_dataframe.head(500)\n",
    "#new_dataframe.columns\n",
    "#new_dataframe['amount'].groupby(df['last_payout'].dt.to_period('M')).sum()\n",
    "#e = properties_melted\n",
    "#e.Date = (e.Date.apply(lambda x: pd.to_datetime(x, format=\"%Y-%M-%d\"))).dt.strftime('Average price %Y')  \n",
    "#e.groupby([\"Date\",\"Boroughs\",\"Code\"])['Average price'].sum().to_dict() \n",
    "result = properties_melted.groupby([properties_melted.Date.dt.to_period(\"Y\"),\"Code\",\"Borough\"])['Average price'].sum()\n",
    "\n",
    "for year, price in result.items():\n",
    "    print(f\"Average price{year} = {price}\")"
   ]
  },
  {
   "cell_type": "code",
   "execution_count": 142,
   "id": "83de61f5",
   "metadata": {},
   "outputs": [],
   "source": [
    "#properties_melted[\"Date\"].head()\n",
    "#properties_melted[\"Date\"].dtypes\n",
    "properties_melted[\"Date\"] = pd.to_datetime(properties_melted[\"Date\"])\n",
    "properties_melted[\"Date\"].dtypes\n",
    "#new_dataframe = properties_melted.groupby([\"Code\",\"Boroughs\",\"Date\"])[\"Average price\"].sum()\n",
    "#new_dataframe.head(500)\n",
    "#new_dataframe.columns\n",
    "#new_dataframe['amount'].groupby(df['last_payout'].dt.to_period('M')).sum()\n",
    "#e = properties_melted\n",
    "#e.Date = (e.Date.apply(lambda x: pd.to_datetime(x, format=\"%Y-%M-%d\"))).dt.strftime('Average price %Y')  \n",
    "#e.groupby([\"Date\",\"Boroughs\",\"Code\"])['Average price'].sum().to_dict() \n",
    "result = properties_melted.groupby([properties_melted.Date.dt.to_period(\"Y\"),\"Code\",\"Boroughs\"])['Average price'].sum()\n",
    "\n",
    "for year, price in result.items():\n",
    "    print(f\"Average price{year} = {price}\")"
   ]
  },
  {
   "cell_type": "code",
   "execution_count": 143,
   "id": "b4d4db0c",
   "metadata": {},
   "outputs": [],
   "source": [
    "#properties_melted[\"Date\"].head()\n",
    "#properties_melted[\"Date\"].dtypes\n",
    "properties_melted[\"Date\"] = pd.to_datetime(properties_melted[\"Date\"])\n",
    "properties_melted[\"Date\"].dtypes\n",
    "#new_dataframe = properties_melted.groupby([\"Code\",\"Boroughs\",\"Date\"])[\"Average price\"].sum()\n",
    "#new_dataframe.head(500)\n",
    "#new_dataframe.columns\n",
    "#new_dataframe['amount'].groupby(df['last_payout'].dt.to_period('M')).sum()\n",
    "#e = properties_melted\n",
    "#e.Date = (e.Date.apply(lambda x: pd.to_datetime(x, format=\"%Y-%M-%d\"))).dt.strftime('Average price %Y')  \n",
    "#e.groupby([\"Date\",\"Boroughs\",\"Code\"])['Average price'].sum().to_dict() \n",
    "result = properties_melted.groupby([properties_melted.Date.dt.to_period(\"Y\"),\"Code\",\"Boroughs\"])['Average price'].mean()\n",
    "\n",
    "for year, price in result.items():\n",
    "    print(f\"Average price{year} = {price}\")"
   ]
  },
  {
   "cell_type": "code",
   "execution_count": 144,
   "id": "4789b0ea",
   "metadata": {},
   "outputs": [],
   "source": [
    "#properties_melted[\"Date\"].head()\n",
    "#properties_melted[\"Date\"].dtypes\n",
    "properties_melted[\"Date\"] = pd.to_datetime(properties_melted[\"Date\"])\n",
    "properties_melted[\"Date\"].dtypes\n",
    "#new_dataframe = properties_melted.groupby([\"Code\",\"Boroughs\",\"Date\"])[\"Average price\"].sum()\n",
    "#new_dataframe.head(500)\n",
    "#new_dataframe.columns\n",
    "#new_dataframe['amount'].groupby(df['last_payout'].dt.to_period('M')).sum()\n",
    "#e = properties_melted\n",
    "#e.Date = (e.Date.apply(lambda x: pd.to_datetime(x, format=\"%Y-%M-%d\"))).dt.strftime('Average price %Y')  \n",
    "#e.groupby([\"Date\",\"Boroughs\",\"Code\"])['Average price'].sum().to_dict() \n",
    "result = properties_melted.groupby([properties_melted.Date.dt.to_period(\"Y\"),\"Code\",\"Boroughs\"])['Average price'].mean()\n",
    "\n",
    "for year, price in result.items():\n",
    "    result1 = (f\"Average price{year} = {price}\")"
   ]
  },
  {
   "cell_type": "code",
   "execution_count": 145,
   "id": "cfe02e3f",
   "metadata": {},
   "outputs": [],
   "source": [
    "#properties_melted[\"Date\"].head()\n",
    "#properties_melted[\"Date\"].dtypes\n",
    "properties_melted[\"Date\"] = pd.to_datetime(properties_melted[\"Date\"])\n",
    "properties_melted[\"Date\"].dtypes\n",
    "#new_dataframe = properties_melted.groupby([\"Code\",\"Boroughs\",\"Date\"])[\"Average price\"].sum()\n",
    "#new_dataframe.head(500)\n",
    "#new_dataframe.columns\n",
    "#new_dataframe['amount'].groupby(df['last_payout'].dt.to_period('M')).sum()\n",
    "#e = properties_melted\n",
    "#e.Date = (e.Date.apply(lambda x: pd.to_datetime(x, format=\"%Y-%M-%d\"))).dt.strftime('Average price %Y')  \n",
    "#e.groupby([\"Date\",\"Boroughs\",\"Code\"])['Average price'].sum().to_dict() \n",
    "result = properties_melted.groupby([properties_melted.Date.dt.to_period(\"Y\"),\"Code\",\"Boroughs\"])['Average price'].mean()\n",
    "\n",
    "for year, price in result.items():\n",
    "    result1 = (f\"Average price{year} = {price}\")\n",
    "print(result1)"
   ]
  },
  {
   "cell_type": "code",
   "execution_count": 146,
   "id": "c6a24de6",
   "metadata": {},
   "outputs": [],
   "source": [
    "#properties_melted[\"Date\"].head()\n",
    "#properties_melted[\"Date\"].dtypes\n",
    "properties_melted[\"Date\"] = pd.to_datetime(properties_melted[\"Date\"])\n",
    "properties_melted[\"Date\"].dtypes\n",
    "#new_dataframe = properties_melted.groupby([\"Code\",\"Boroughs\",\"Date\"])[\"Average price\"].sum()\n",
    "#new_dataframe.head(500)\n",
    "#new_dataframe.columns\n",
    "#new_dataframe['amount'].groupby(df['last_payout'].dt.to_period('M')).sum()\n",
    "e = properties_melted\n",
    "e.Date = (e.Date.apply(lambda x: pd.to_datetime(x, format=\"%Y-%M-%d\"))).dt.strftime('Average price %Y')  \n",
    "e.groupby([\"Date\",\"Boroughs\",\"Code\"])['Average price'].sum().to_dataframe() \n",
    "#result = properties_melted.groupby([properties_melted.Date.dt.to_period(\"Y\"),\"Code\",\"Boroughs\"])['Average price'].mean()\n",
    "#for year, price in result.items():\n",
    "    #result1 = (f\"Average price{year} = {price}\")\n",
    "#print(result1)"
   ]
  },
  {
   "cell_type": "code",
   "execution_count": 147,
   "id": "099567b1",
   "metadata": {},
   "outputs": [],
   "source": [
    "  %notebook \"C:\\Users\\Julia\\Documents\\_DATA SCIENCE\\_Case_studies\\Case_study_3_London_Housing\\Case_study_London_Housing_Yuliya_Selevich.ipynb\"     "
   ]
  },
  {
   "cell_type": "code",
   "execution_count": 148,
   "id": "8c9b4ed0",
   "metadata": {},
   "outputs": [],
   "source": [
    "# Let's import the pandas, numpy libraries as pd, and np respectively. \n",
    "import pandas as pd\n",
    "import numpy as np\n",
    "\n",
    "# Load the pyplot collection of functions from matplotlib, as plt \n",
    "import matplotlib.pyplot as plt"
   ]
  },
  {
   "cell_type": "code",
   "execution_count": 149,
   "id": "e4620322",
   "metadata": {},
   "outputs": [],
   "source": [
    "# First, make a variable called url_LondonHousePrices, and assign it the following link, enclosed in quotation-marks as a string:\n",
    "# https://data.london.gov.uk/download/uk-house-price-index/70ac0766-8902-4eb5-aab5-01951aaed773/UK%20House%20price%20index.xls\n",
    "\n",
    "url_LondonHousePrices = \"https://data.london.gov.uk/download/uk-house-price-index/70ac0766-8902-4eb5-aab5-01951aaed773/UK%20House%20price%20index.xls\"\n",
    "\n",
    "# The dataset we're interested in contains the Average prices of the houses, and is actually on a particular sheet of the Excel file. \n",
    "# As a result, we need to specify the sheet name in the read_excel() method.\n",
    "# Put this data into a variable called properties.  \n",
    "properties = pd.read_excel(url_LondonHousePrices, sheet_name='Average price', index_col= None)"
   ]
  },
  {
   "cell_type": "code",
   "execution_count": 150,
   "id": "4cfaed6d",
   "metadata": {},
   "outputs": [],
   "source": [
    "properties.head()\n",
    "properties.shape\n",
    "properties.info()"
   ]
  },
  {
   "cell_type": "code",
   "execution_count": 151,
   "id": "3f2d4ca7",
   "metadata": {},
   "outputs": [],
   "source": [
    "properties_transposed = properties.transpose()\n",
    "properties_transposed.index\n",
    "properties_transposed = properties_transposed.reset_index()\n",
    "properties_transposed.columns = properties_transposed.iloc[0]\n",
    "properties_transposed = properties_transposed.drop(0)\n",
    "properties_transposed.head()"
   ]
  },
  {
   "cell_type": "code",
   "execution_count": 152,
   "id": "f1cf4364",
   "metadata": {},
   "outputs": [],
   "source": [
    "properties_renamed = properties_transposed.rename({\"Unnamed: 0\":\"Boroughs\"}, axis = \"columns\")\n",
    "properties_renamed.columns = properties_renamed.columns.fillna(\"Code\")\n",
    "properties_renamed.head()"
   ]
  },
  {
   "cell_type": "code",
   "execution_count": 153,
   "id": "f7f0e1b9",
   "metadata": {},
   "outputs": [],
   "source": [
    "properties_melted = pd.melt(properties_renamed, id_vars = [\"Boroughs\",\"Code\"],var_name = \"Date\",value_name = \"Average price\")\n",
    "properties_melted.head(33)"
   ]
  },
  {
   "cell_type": "code",
   "execution_count": 154,
   "id": "d88fe8c1",
   "metadata": {},
   "outputs": [],
   "source": [
    "def convert_to_float(x):\n",
    "    try:\n",
    "        return float(x)\n",
    "    except:\n",
    "        return np.nan\n",
    "\n",
    "properties_melted[\"Average price\"] = properties_melted[\"Average price\"].apply(convert_to_float)\n",
    "\n",
    "properties_melted[\"Average price\"].dtypes"
   ]
  },
  {
   "cell_type": "code",
   "execution_count": 155,
   "id": "9a10f4d7",
   "metadata": {},
   "outputs": [],
   "source": [
    "properties_melted.dropna(inplace=True)\n",
    "\n",
    "list_of_codes_not_in_london = [\"E13000001\",\"E13000002\",\"E12000001\",\"E12000002\",\"E12000003\",\"E12000004\",\"E12000005\",\"E12000006\",\n",
    "                             \"E12000007\",\"E12000008\",\"E12000009\",\"E92000001\"]\n",
    "for item in list_of_codes_not_in_london:\n",
    "    properties_melted = properties_melted[properties_melted.Code != item]\n",
    "properties_melted = properties_melted.reset_index(drop = True)\n",
    "properties_melted.head()\n",
    "properties_melted.count()"
   ]
  },
  {
   "cell_type": "code",
   "execution_count": 156,
   "id": "dae16899",
   "metadata": {},
   "outputs": [],
   "source": [
    "prop_one_borough = properties_melted[properties_melted[\"Boroughs\"] == \"Greenwich\"]\n",
    "#grouped = properties_melted.groupby(\"Date\")[\"Boroughs\"].sum()\n",
    "prop_one_borough.plot(x=\"Date\",y=\"Average price\", kind = \"line\")\n",
    "plt.ylabel(\"Average price\")\n",
    "plt.title('Price change for \"Greenwich\" borough of London')\n",
    "plt.show()"
   ]
  },
  {
   "cell_type": "code",
   "execution_count": 157,
   "id": "eed07028",
   "metadata": {},
   "outputs": [],
   "source": [
    "#properties_melted[\"Date\"].head()\n",
    "#properties_melted[\"Date\"].dtypes\n",
    "properties_melted[\"Date\"] = pd.to_datetime(properties_melted[\"Date\"])\n",
    "properties_melted[\"Date\"].dtypes\n",
    "#new_dataframe = properties_melted.groupby([\"Code\",\"Boroughs\",\"Date\"])[\"Average price\"].sum()\n",
    "#new_dataframe.head(500)\n",
    "#new_dataframe.columns\n",
    "#new_dataframe['amount'].groupby(df['last_payout'].dt.to_period('M')).sum()\n",
    "e = properties_melted\n",
    "e.Date = (e.Date.apply(lambda x: pd.to_datetime(x, format=\"%Y-%M-%d\"))).dt.strftime('Average price %Y')  \n",
    "e.groupby([\"Date\",\"Boroughs\",\"Code\"])['Average price'].sum().to_dataframe() \n",
    "#result = properties_melted.groupby([properties_melted.Date.dt.to_period(\"Y\"),\"Code\",\"Boroughs\"])['Average price'].mean()\n",
    "#for year, price in result.items():\n",
    "    #result1 = (f\"Average price{year} = {price}\")\n",
    "#print(result1)"
   ]
  },
  {
   "cell_type": "code",
   "execution_count": 158,
   "id": "9b596a51",
   "metadata": {},
   "outputs": [],
   "source": [
    "#properties_melted[\"Date\"].head()\n",
    "#properties_melted[\"Date\"].dtypes\n",
    "properties_melted[\"Date\"] = pd.to_datetime(properties_melted[\"Date\"])\n",
    "properties_melted[\"Date\"].dtypes\n",
    "#new_dataframe = properties_melted.groupby([\"Code\",\"Boroughs\",\"Date\"])[\"Average price\"].sum()\n",
    "#new_dataframe.head(500)\n",
    "#new_dataframe.columns\n",
    "#new_dataframe['amount'].groupby(df['last_payout'].dt.to_period('M')).sum()\n",
    "e = properties_melted\n",
    "e.Date = (e.Date.apply(lambda x: pd.to_datetime(x, format=\"%Y-%M-%d\"))).dt.strftime('Average price %Y')  \n",
    "e.groupby([\"Date\",\"Boroughs\",\"Code\"])['Average price'].sum().to_dataframe() \n",
    "#result = properties_melted.groupby([properties_melted.Date.dt.to_period(\"Y\"),\"Code\",\"Boroughs\"])['Average price'].mean()\n",
    "#for year, price in result.items():\n",
    "    #result1 = (f\"Average price{year} = {price}\")\n",
    "#print(result1)"
   ]
  },
  {
   "cell_type": "code",
   "execution_count": 159,
   "id": "ce50f58f",
   "metadata": {},
   "outputs": [],
   "source": [
    "  %notebook \"C:\\Users\\Julia\\Documents\\_DATA SCIENCE\\_Case_studies\\Case_study_3_London_Housing\\Case_study_London_Housing_Yuliya_Selevich.ipynb\"     "
   ]
  },
  {
   "cell_type": "code",
   "execution_count": 160,
   "id": "56c98d01",
   "metadata": {},
   "outputs": [],
   "source": [
    "# Let's import the pandas, numpy libraries as pd, and np respectively. \n",
    "import pandas as pd\n",
    "import numpy as np\n",
    "\n",
    "# Load the pyplot collection of functions from matplotlib, as plt \n",
    "import matplotlib.pyplot as plt"
   ]
  },
  {
   "cell_type": "code",
   "execution_count": 161,
   "id": "37253574",
   "metadata": {},
   "outputs": [],
   "source": [
    "# First, make a variable called url_LondonHousePrices, and assign it the following link, enclosed in quotation-marks as a string:\n",
    "# https://data.london.gov.uk/download/uk-house-price-index/70ac0766-8902-4eb5-aab5-01951aaed773/UK%20House%20price%20index.xls\n",
    "\n",
    "url_LondonHousePrices = \"https://data.london.gov.uk/download/uk-house-price-index/70ac0766-8902-4eb5-aab5-01951aaed773/UK%20House%20price%20index.xls\"\n",
    "\n",
    "# The dataset we're interested in contains the Average prices of the houses, and is actually on a particular sheet of the Excel file. \n",
    "# As a result, we need to specify the sheet name in the read_excel() method.\n",
    "# Put this data into a variable called properties.  \n",
    "properties = pd.read_excel(url_LondonHousePrices, sheet_name='Average price', index_col= None)"
   ]
  },
  {
   "cell_type": "code",
   "execution_count": 162,
   "id": "adbea45d",
   "metadata": {},
   "outputs": [],
   "source": [
    "properties.head()\n",
    "properties.shape\n",
    "properties.info()"
   ]
  },
  {
   "cell_type": "code",
   "execution_count": 163,
   "id": "af6dc054",
   "metadata": {},
   "outputs": [],
   "source": [
    "properties_transposed = properties.transpose()\n",
    "properties_transposed.index\n",
    "properties_transposed = properties_transposed.reset_index()\n",
    "properties_transposed.columns = properties_transposed.iloc[0]\n",
    "properties_transposed = properties_transposed.drop(0)\n",
    "properties_transposed.head()"
   ]
  },
  {
   "cell_type": "code",
   "execution_count": 164,
   "id": "822ee42e",
   "metadata": {},
   "outputs": [],
   "source": [
    "properties_renamed = properties_transposed.rename({\"Unnamed: 0\":\"Boroughs\"}, axis = \"columns\")\n",
    "properties_renamed.columns = properties_renamed.columns.fillna(\"Code\")\n",
    "properties_renamed.head()"
   ]
  },
  {
   "cell_type": "code",
   "execution_count": 165,
   "id": "a773a401",
   "metadata": {},
   "outputs": [],
   "source": [
    "properties_melted = pd.melt(properties_renamed, id_vars = [\"Boroughs\",\"Code\"],var_name = \"Date\",value_name = \"Average price\")\n",
    "properties_melted.head(33)"
   ]
  },
  {
   "cell_type": "code",
   "execution_count": 166,
   "id": "72451fc1",
   "metadata": {},
   "outputs": [],
   "source": [
    "def convert_to_float(x):\n",
    "    try:\n",
    "        return float(x)\n",
    "    except:\n",
    "        return np.nan\n",
    "\n",
    "properties_melted[\"Average price\"] = properties_melted[\"Average price\"].apply(convert_to_float)\n",
    "\n",
    "properties_melted[\"Average price\"].dtypes"
   ]
  },
  {
   "cell_type": "code",
   "execution_count": 167,
   "id": "02683908",
   "metadata": {},
   "outputs": [],
   "source": [
    "properties_melted.dropna(inplace=True)\n",
    "\n",
    "list_of_codes_not_in_london = [\"E13000001\",\"E13000002\",\"E12000001\",\"E12000002\",\"E12000003\",\"E12000004\",\"E12000005\",\"E12000006\",\n",
    "                             \"E12000007\",\"E12000008\",\"E12000009\",\"E92000001\"]\n",
    "for item in list_of_codes_not_in_london:\n",
    "    properties_melted = properties_melted[properties_melted.Code != item]\n",
    "properties_melted = properties_melted.reset_index(drop = True)\n",
    "properties_melted.head()\n",
    "properties_melted.count()"
   ]
  },
  {
   "cell_type": "code",
   "execution_count": 168,
   "id": "e128e260",
   "metadata": {},
   "outputs": [],
   "source": [
    "prop_one_borough = properties_melted[properties_melted[\"Boroughs\"] == \"Greenwich\"]\n",
    "#grouped = properties_melted.groupby(\"Date\")[\"Boroughs\"].sum()\n",
    "prop_one_borough.plot(x=\"Date\",y=\"Average price\", kind = \"line\")\n",
    "plt.ylabel(\"Average price\")\n",
    "plt.title('Price change for \"Greenwich\" borough of London')\n",
    "plt.show()"
   ]
  },
  {
   "cell_type": "code",
   "execution_count": 169,
   "id": "22497bf5",
   "metadata": {},
   "outputs": [],
   "source": [
    "#properties_melted[\"Date\"].head()\n",
    "#properties_melted[\"Date\"].dtypes\n",
    "properties_melted[\"Date\"] = pd.to_datetime(properties_melted[\"Date\"])\n",
    "properties_melted[\"Date\"].dtypes\n",
    "#new_dataframe = properties_melted.groupby([\"Code\",\"Boroughs\",\"Date\"])[\"Average price\"].sum()\n",
    "#new_dataframe.head(500)\n",
    "#new_dataframe.columns\n",
    "#new_dataframe['amount'].groupby(df['last_payout'].dt.to_period('M')).sum()\n",
    "e = properties_melted\n",
    "e.Date = (e.Date.apply(lambda x: pd.to_datetime(x, format=\"%Y-%M-%d\"))).dt.strftime('Average price %Y')  \n",
    "e.groupby([\"Date\",\"Boroughs\",\"Code\"])['Average price'].sum().to_dataframe() \n",
    "#result = properties_melted.groupby([properties_melted.Date.dt.to_period(\"Y\"),\"Code\",\"Boroughs\"])['Average price'].mean()\n",
    "#for year, price in result.items():\n",
    "    #result1 = (f\"Average price{year} = {price}\")\n",
    "#print(result1)"
   ]
  },
  {
   "cell_type": "code",
   "execution_count": 170,
   "id": "582372b6",
   "metadata": {},
   "outputs": [],
   "source": [
    "#properties_melted[\"Date\"].head()\n",
    "#properties_melted[\"Date\"].dtypes\n",
    "properties_melted[\"Date\"] = pd.to_datetime(properties_melted[\"Date\"])\n",
    "properties_melted[\"Date\"].dtypes\n",
    "#new_dataframe = properties_melted.groupby([\"Code\",\"Boroughs\",\"Date\"])[\"Average price\"].sum()\n",
    "#new_dataframe.head(500)\n",
    "#new_dataframe.columns\n",
    "#new_dataframe['amount'].groupby(df['last_payout'].dt.to_period('M')).sum()\n",
    "e = properties_melted\n",
    "e.Date = (e.Date.apply(lambda x: pd.to_datetime(x, format=\"%Y-%M-%d\"))).dt.strftime('Average price %Y')  \n",
    "e.groupby([\"Date\",\"Boroughs\",\"Code\"])['Average price'].sum().to_dict() \n",
    "#result = properties_melted.groupby([properties_melted.Date.dt.to_period(\"Y\"),\"Code\",\"Boroughs\"])['Average price'].mean()\n",
    "#for year, price in result.items():\n",
    "    #result1 = (f\"Average price{year} = {price}\")\n",
    "#print(result1)"
   ]
  },
  {
   "cell_type": "code",
   "execution_count": 171,
   "id": "387107ae",
   "metadata": {},
   "outputs": [],
   "source": [
    "  %notebook \"C:\\Users\\Julia\\Documents\\_DATA SCIENCE\\_Case_studies\\Case_study_3_London_Housing\\Case_study_London_Housing_Yuliya_Selevich.ipynb\"     "
   ]
  },
  {
   "cell_type": "code",
   "execution_count": 172,
   "id": "22da5040",
   "metadata": {},
   "outputs": [],
   "source": [
    "# Let's import the pandas, numpy libraries as pd, and np respectively. \n",
    "import pandas as pd\n",
    "import numpy as np\n",
    "\n",
    "# Load the pyplot collection of functions from matplotlib, as plt \n",
    "import matplotlib.pyplot as plt"
   ]
  },
  {
   "cell_type": "code",
   "execution_count": 173,
   "id": "869625de",
   "metadata": {},
   "outputs": [],
   "source": [
    "# First, make a variable called url_LondonHousePrices, and assign it the following link, enclosed in quotation-marks as a string:\n",
    "# https://data.london.gov.uk/download/uk-house-price-index/70ac0766-8902-4eb5-aab5-01951aaed773/UK%20House%20price%20index.xls\n",
    "\n",
    "url_LondonHousePrices = \"https://data.london.gov.uk/download/uk-house-price-index/70ac0766-8902-4eb5-aab5-01951aaed773/UK%20House%20price%20index.xls\"\n",
    "\n",
    "# The dataset we're interested in contains the Average prices of the houses, and is actually on a particular sheet of the Excel file. \n",
    "# As a result, we need to specify the sheet name in the read_excel() method.\n",
    "# Put this data into a variable called properties.  \n",
    "properties = pd.read_excel(url_LondonHousePrices, sheet_name='Average price', index_col= None)"
   ]
  },
  {
   "cell_type": "code",
   "execution_count": 174,
   "id": "956ff48e",
   "metadata": {},
   "outputs": [],
   "source": [
    "properties.head()\n",
    "properties.shape\n",
    "properties.info()"
   ]
  },
  {
   "cell_type": "code",
   "execution_count": 175,
   "id": "a118b4c1",
   "metadata": {},
   "outputs": [],
   "source": [
    "properties_transposed = properties.transpose()\n",
    "properties_transposed.index\n",
    "properties_transposed = properties_transposed.reset_index()\n",
    "properties_transposed.columns = properties_transposed.iloc[0]\n",
    "properties_transposed = properties_transposed.drop(0)\n",
    "properties_transposed.head()"
   ]
  },
  {
   "cell_type": "code",
   "execution_count": 176,
   "id": "1b079a4c",
   "metadata": {},
   "outputs": [],
   "source": [
    "properties_renamed = properties_transposed.rename({\"Unnamed: 0\":\"Boroughs\"}, axis = \"columns\")\n",
    "properties_renamed.columns = properties_renamed.columns.fillna(\"Code\")\n",
    "properties_renamed.head()"
   ]
  },
  {
   "cell_type": "code",
   "execution_count": 177,
   "id": "69949a3c",
   "metadata": {},
   "outputs": [],
   "source": [
    "properties_melted = pd.melt(properties_renamed, id_vars = [\"Boroughs\",\"Code\"],var_name = \"Date\",value_name = \"Average price\")\n",
    "properties_melted.head(33)"
   ]
  },
  {
   "cell_type": "code",
   "execution_count": 178,
   "id": "4059b4b1",
   "metadata": {},
   "outputs": [],
   "source": [
    "def convert_to_float(x):\n",
    "    try:\n",
    "        return float(x)\n",
    "    except:\n",
    "        return np.nan\n",
    "\n",
    "properties_melted[\"Average price\"] = properties_melted[\"Average price\"].apply(convert_to_float)\n",
    "\n",
    "properties_melted[\"Average price\"].dtypes"
   ]
  },
  {
   "cell_type": "code",
   "execution_count": 179,
   "id": "aefe184f",
   "metadata": {},
   "outputs": [],
   "source": [
    "properties_melted.dropna(inplace=True)\n",
    "\n",
    "list_of_codes_not_in_london = [\"E13000001\",\"E13000002\",\"E12000001\",\"E12000002\",\"E12000003\",\"E12000004\",\"E12000005\",\"E12000006\",\n",
    "                             \"E12000007\",\"E12000008\",\"E12000009\",\"E92000001\"]\n",
    "for item in list_of_codes_not_in_london:\n",
    "    properties_melted = properties_melted[properties_melted.Code != item]\n",
    "properties_melted = properties_melted.reset_index(drop = True)\n",
    "properties_melted.head()\n",
    "properties_melted.count()"
   ]
  },
  {
   "cell_type": "code",
   "execution_count": 180,
   "id": "6be0ac5a",
   "metadata": {},
   "outputs": [],
   "source": [
    "prop_one_borough = properties_melted[properties_melted[\"Boroughs\"] == \"Greenwich\"]\n",
    "#grouped = properties_melted.groupby(\"Date\")[\"Boroughs\"].sum()\n",
    "prop_one_borough.plot(x=\"Date\",y=\"Average price\", kind = \"line\")\n",
    "plt.ylabel(\"Average price\")\n",
    "plt.title('Price change for \"Greenwich\" borough of London')\n",
    "plt.show()"
   ]
  },
  {
   "cell_type": "code",
   "execution_count": 181,
   "id": "be1b1f69",
   "metadata": {},
   "outputs": [],
   "source": [
    "#properties_melted[\"Date\"].head()\n",
    "#properties_melted[\"Date\"].dtypes\n",
    "properties_melted[\"Date\"] = pd.to_datetime(properties_melted[\"Date\"])\n",
    "properties_melted[\"Date\"].dtypes\n",
    "#new_dataframe = properties_melted.groupby([\"Code\",\"Boroughs\",\"Date\"])[\"Average price\"].sum()\n",
    "#new_dataframe.head(500)\n",
    "#new_dataframe.columns\n",
    "#new_dataframe['amount'].groupby(df['last_payout'].dt.to_period('M')).sum()\n",
    "e = properties_melted\n",
    "e.Date = (e.Date.apply(lambda x: pd.to_datetime(x, format=\"%Y-%M-%d\"))).dt.strftime('Average price %Y')  \n",
    "e.groupby([\"Date\",\"Boroughs\",\"Code\"])['Average price'].sum().to_dict() \n",
    "#result = properties_melted.groupby([properties_melted.Date.dt.to_period(\"Y\"),\"Code\",\"Boroughs\"])['Average price'].mean()\n",
    "#for year, price in result.items():\n",
    "    #result1 = (f\"Average price{year} = {price}\")\n",
    "#print(result1)"
   ]
  },
  {
   "cell_type": "code",
   "execution_count": 182,
   "id": "b86878ab",
   "metadata": {},
   "outputs": [],
   "source": [
    "#properties_melted[\"Date\"].head()\n",
    "#properties_melted[\"Date\"].dtypes\n",
    "properties_melted[\"Date\"] = pd.to_datetime(properties_melted[\"Date\"])\n",
    "properties_melted[\"Date\"].dtypes\n",
    "#new_dataframe = properties_melted.groupby([\"Code\",\"Boroughs\",\"Date\"])[\"Average price\"].sum()\n",
    "#new_dataframe.head(500)\n",
    "#new_dataframe.columns\n",
    "#new_dataframe['amount'].groupby(df['last_payout'].dt.to_period('M')).sum()\n",
    "e = properties_melted\n",
    "e.Date = (e.Date.apply(lambda x: pd.to_datetime(x, format=\"%Y-%M-%d\"))).dt.strftime('Average price %Y')  \n",
    "e.groupby([\"Date\",\"Boroughs\",\"Code\"])['Average price'].sum().to_dict() \n",
    "#result = properties_melted.groupby([properties_melted.Date.dt.to_period(\"Y\"),\"Code\",\"Boroughs\"])['Average price'].mean()\n",
    "#for year, price in result.items():\n",
    "    #result1 = (f\"Average price{year} = {price}\")\n",
    "#print(result1)"
   ]
  },
  {
   "cell_type": "code",
   "execution_count": 183,
   "id": "633951f8",
   "metadata": {},
   "outputs": [],
   "source": [
    "  %notebook \"C:\\Users\\Julia\\Documents\\_DATA SCIENCE\\_Case_studies\\Case_study_3_London_Housing\\Case_study_London_Housing_Yuliya_Selevich.ipynb\"     "
   ]
  },
  {
   "cell_type": "code",
   "execution_count": 184,
   "id": "a5d2f8f9",
   "metadata": {},
   "outputs": [],
   "source": [
    "# Let's import the pandas, numpy libraries as pd, and np respectively. \n",
    "import pandas as pd\n",
    "import numpy as np\n",
    "\n",
    "# Load the pyplot collection of functions from matplotlib, as plt \n",
    "import matplotlib.pyplot as plt"
   ]
  },
  {
   "cell_type": "code",
   "execution_count": 185,
   "id": "81decda0",
   "metadata": {},
   "outputs": [],
   "source": [
    "# First, make a variable called url_LondonHousePrices, and assign it the following link, enclosed in quotation-marks as a string:\n",
    "# https://data.london.gov.uk/download/uk-house-price-index/70ac0766-8902-4eb5-aab5-01951aaed773/UK%20House%20price%20index.xls\n",
    "\n",
    "url_LondonHousePrices = \"https://data.london.gov.uk/download/uk-house-price-index/70ac0766-8902-4eb5-aab5-01951aaed773/UK%20House%20price%20index.xls\"\n",
    "\n",
    "# The dataset we're interested in contains the Average prices of the houses, and is actually on a particular sheet of the Excel file. \n",
    "# As a result, we need to specify the sheet name in the read_excel() method.\n",
    "# Put this data into a variable called properties.  \n",
    "properties = pd.read_excel(url_LondonHousePrices, sheet_name='Average price', index_col= None)"
   ]
  },
  {
   "cell_type": "code",
   "execution_count": 186,
   "id": "21859a56",
   "metadata": {},
   "outputs": [],
   "source": [
    "properties.head()\n",
    "properties.shape\n",
    "properties.info()"
   ]
  },
  {
   "cell_type": "code",
   "execution_count": 187,
   "id": "ea81a026",
   "metadata": {},
   "outputs": [],
   "source": [
    "properties_transposed = properties.transpose()\n",
    "properties_transposed.index\n",
    "properties_transposed = properties_transposed.reset_index()\n",
    "properties_transposed.columns = properties_transposed.iloc[0]\n",
    "properties_transposed = properties_transposed.drop(0)\n",
    "properties_transposed.head()"
   ]
  },
  {
   "cell_type": "code",
   "execution_count": 188,
   "id": "c4bf4460",
   "metadata": {},
   "outputs": [],
   "source": [
    "properties_renamed = properties_transposed.rename({\"Unnamed: 0\":\"Boroughs\"}, axis = \"columns\")\n",
    "properties_renamed.columns = properties_renamed.columns.fillna(\"Code\")\n",
    "properties_renamed.head()"
   ]
  },
  {
   "cell_type": "code",
   "execution_count": 189,
   "id": "d742f7dc",
   "metadata": {},
   "outputs": [],
   "source": [
    "properties_melted = pd.melt(properties_renamed, id_vars = [\"Boroughs\",\"Code\"],var_name = \"Date\",value_name = \"Average price\")\n",
    "properties_melted.head(33)"
   ]
  },
  {
   "cell_type": "code",
   "execution_count": 190,
   "id": "9f0f9d37",
   "metadata": {},
   "outputs": [],
   "source": [
    "def convert_to_float(x):\n",
    "    try:\n",
    "        return float(x)\n",
    "    except:\n",
    "        return np.nan\n",
    "\n",
    "properties_melted[\"Average price\"] = properties_melted[\"Average price\"].apply(convert_to_float)\n",
    "\n",
    "properties_melted[\"Average price\"].dtypes"
   ]
  },
  {
   "cell_type": "code",
   "execution_count": 191,
   "id": "e03ca8b9",
   "metadata": {},
   "outputs": [],
   "source": [
    "properties_melted.dropna(inplace=True)\n",
    "\n",
    "list_of_codes_not_in_london = [\"E13000001\",\"E13000002\",\"E12000001\",\"E12000002\",\"E12000003\",\"E12000004\",\"E12000005\",\"E12000006\",\n",
    "                             \"E12000007\",\"E12000008\",\"E12000009\",\"E92000001\"]\n",
    "for item in list_of_codes_not_in_london:\n",
    "    properties_melted = properties_melted[properties_melted.Code != item]\n",
    "properties_melted = properties_melted.reset_index(drop = True)\n",
    "properties_melted.head()\n",
    "properties_melted.count()"
   ]
  },
  {
   "cell_type": "code",
   "execution_count": 192,
   "id": "88de6c78",
   "metadata": {},
   "outputs": [],
   "source": [
    "prop_one_borough = properties_melted[properties_melted[\"Boroughs\"] == \"Greenwich\"]\n",
    "#grouped = properties_melted.groupby(\"Date\")[\"Boroughs\"].sum()\n",
    "prop_one_borough.plot(x=\"Date\",y=\"Average price\", kind = \"line\")\n",
    "plt.ylabel(\"Average price\")\n",
    "plt.title('Price change for \"Greenwich\" borough of London')\n",
    "plt.show()"
   ]
  },
  {
   "cell_type": "code",
   "execution_count": 193,
   "id": "2e4562a8",
   "metadata": {},
   "outputs": [],
   "source": [
    "#properties_melted[\"Date\"].head()\n",
    "#properties_melted[\"Date\"].dtypes\n",
    "properties_melted[\"Date\"] = pd.to_datetime(properties_melted[\"Date\"])\n",
    "properties_melted[\"Date\"].dtypes\n",
    "#new_dataframe = properties_melted.groupby([\"Code\",\"Boroughs\",\"Date\"])[\"Average price\"].sum()\n",
    "#new_dataframe.head(500)\n",
    "#new_dataframe.columns\n",
    "#new_dataframe['amount'].groupby(df['last_payout'].dt.to_period('M')).sum()\n",
    "e = properties_melted\n",
    "e.Date = (e.Date.apply(lambda x: pd.to_datetime(x, format=\"%Y-%M-%d\"))).dt.strftime('Average price %Y')  \n",
    "e.groupby([\"Date\",\"Boroughs\",\"Code\"])['Average price'].sum().to_dict() \n",
    "#result = properties_melted.groupby([properties_melted.Date.dt.to_period(\"Y\"),\"Code\",\"Boroughs\"])['Average price'].mean()\n",
    "#for year, price in result.items():\n",
    "    #result1 = (f\"Average price{year} = {price}\")\n",
    "#print(result1)"
   ]
  },
  {
   "cell_type": "code",
   "execution_count": 194,
   "id": "f7c1906b",
   "metadata": {},
   "outputs": [],
   "source": [
    "#properties_melted[\"Date\"].head()\n",
    "#properties_melted[\"Date\"].dtypes\n",
    "#properties_melted[\"Date\"].dtypes\n",
    "#new_dataframe = properties_melted.groupby([\"Code\",\"Boroughs\",\"Date\"])[\"Average price\"].sum()\n",
    "#new_dataframe.head(500)\n",
    "#new_dataframe.columns\n",
    "#new_dataframe['amount'].groupby(df['last_payout'].dt.to_period('M')).sum()\n",
    "#e = properties_melted\n",
    "#e.Date = (e.Date.apply(lambda x: pd.to_datetime(x, format=\"%Y-%M-%d\"))).dt.strftime('Average price %Y')  \n",
    "#e.groupby([\"Date\",\"Boroughs\",\"Code\"])['Average price'].sum().to_dict() \n",
    "#result = properties_melted.groupby([properties_melted.Date.dt.to_period(\"Y\"),\"Code\",\"Boroughs\"])['Average price'].mean()\n",
    "#for year, price in result.items():\n",
    "    #result1 = (f\"Average price{year} = {price}\")\n",
    "#print(result1)\n",
    "properties_melted[\"Date\"] = pd.to_datetime(properties_melted[\"Date\"],format='%Y%m%d')\n",
    "properties_melted[\"Year\"] = pd.DatetimeIndex(properties_melted[\"Date\"]).year"
   ]
  },
  {
   "cell_type": "code",
   "execution_count": 195,
   "id": "3e89d6fe",
   "metadata": {},
   "outputs": [],
   "source": [
    "  %notebook \"C:\\Users\\Julia\\Documents\\_DATA SCIENCE\\_Case_studies\\Case_study_3_London_Housing\\Case_study_London_Housing_Yuliya_Selevich.ipynb\"     "
   ]
  },
  {
   "cell_type": "code",
   "execution_count": 196,
   "id": "d16feba2",
   "metadata": {},
   "outputs": [],
   "source": [
    "# Let's import the pandas, numpy libraries as pd, and np respectively. \n",
    "import pandas as pd\n",
    "import numpy as np\n",
    "\n",
    "# Load the pyplot collection of functions from matplotlib, as plt \n",
    "import matplotlib.pyplot as plt"
   ]
  },
  {
   "cell_type": "code",
   "execution_count": 197,
   "id": "753fb52e",
   "metadata": {},
   "outputs": [],
   "source": [
    "# First, make a variable called url_LondonHousePrices, and assign it the following link, enclosed in quotation-marks as a string:\n",
    "# https://data.london.gov.uk/download/uk-house-price-index/70ac0766-8902-4eb5-aab5-01951aaed773/UK%20House%20price%20index.xls\n",
    "\n",
    "url_LondonHousePrices = \"https://data.london.gov.uk/download/uk-house-price-index/70ac0766-8902-4eb5-aab5-01951aaed773/UK%20House%20price%20index.xls\"\n",
    "\n",
    "# The dataset we're interested in contains the Average prices of the houses, and is actually on a particular sheet of the Excel file. \n",
    "# As a result, we need to specify the sheet name in the read_excel() method.\n",
    "# Put this data into a variable called properties.  \n",
    "properties = pd.read_excel(url_LondonHousePrices, sheet_name='Average price', index_col= None)"
   ]
  },
  {
   "cell_type": "code",
   "execution_count": 198,
   "id": "bd8344ec",
   "metadata": {},
   "outputs": [],
   "source": [
    "properties.head()\n",
    "properties.shape\n",
    "properties.info()"
   ]
  },
  {
   "cell_type": "code",
   "execution_count": 199,
   "id": "8a81246c",
   "metadata": {},
   "outputs": [],
   "source": [
    "properties_transposed = properties.transpose()\n",
    "properties_transposed.index\n",
    "properties_transposed = properties_transposed.reset_index()\n",
    "properties_transposed.columns = properties_transposed.iloc[0]\n",
    "properties_transposed = properties_transposed.drop(0)\n",
    "properties_transposed.head()"
   ]
  },
  {
   "cell_type": "code",
   "execution_count": 200,
   "id": "ec077f4c",
   "metadata": {},
   "outputs": [],
   "source": [
    "properties_renamed = properties_transposed.rename({\"Unnamed: 0\":\"Boroughs\"}, axis = \"columns\")\n",
    "properties_renamed.columns = properties_renamed.columns.fillna(\"Code\")\n",
    "properties_renamed.head()"
   ]
  },
  {
   "cell_type": "code",
   "execution_count": 201,
   "id": "edde2b0a",
   "metadata": {},
   "outputs": [],
   "source": [
    "properties_melted = pd.melt(properties_renamed, id_vars = [\"Boroughs\",\"Code\"],var_name = \"Date\",value_name = \"Average price\")\n",
    "properties_melted.head(33)"
   ]
  },
  {
   "cell_type": "code",
   "execution_count": 202,
   "id": "e609cd04",
   "metadata": {},
   "outputs": [],
   "source": [
    "def convert_to_float(x):\n",
    "    try:\n",
    "        return float(x)\n",
    "    except:\n",
    "        return np.nan\n",
    "\n",
    "properties_melted[\"Average price\"] = properties_melted[\"Average price\"].apply(convert_to_float)\n",
    "\n",
    "properties_melted[\"Average price\"].dtypes"
   ]
  },
  {
   "cell_type": "code",
   "execution_count": 203,
   "id": "49b800fd",
   "metadata": {},
   "outputs": [],
   "source": [
    "properties_melted.dropna(inplace=True)\n",
    "\n",
    "list_of_codes_not_in_london = [\"E13000001\",\"E13000002\",\"E12000001\",\"E12000002\",\"E12000003\",\"E12000004\",\"E12000005\",\"E12000006\",\n",
    "                             \"E12000007\",\"E12000008\",\"E12000009\",\"E92000001\"]\n",
    "for item in list_of_codes_not_in_london:\n",
    "    properties_melted = properties_melted[properties_melted.Code != item]\n",
    "properties_melted = properties_melted.reset_index(drop = True)\n",
    "properties_melted.head()\n",
    "properties_melted.count()"
   ]
  },
  {
   "cell_type": "code",
   "execution_count": 204,
   "id": "a6b08449",
   "metadata": {},
   "outputs": [],
   "source": [
    "prop_one_borough = properties_melted[properties_melted[\"Boroughs\"] == \"Greenwich\"]\n",
    "#grouped = properties_melted.groupby(\"Date\")[\"Boroughs\"].sum()\n",
    "prop_one_borough.plot(x=\"Date\",y=\"Average price\", kind = \"line\")\n",
    "plt.ylabel(\"Average price\")\n",
    "plt.title('Price change for \"Greenwich\" borough of London')\n",
    "plt.show()"
   ]
  },
  {
   "cell_type": "code",
   "execution_count": 205,
   "id": "83498870",
   "metadata": {},
   "outputs": [],
   "source": [
    "#properties_melted[\"Date\"].head()\n",
    "#properties_melted[\"Date\"].dtypes\n",
    "#properties_melted[\"Date\"].dtypes\n",
    "#new_dataframe = properties_melted.groupby([\"Code\",\"Boroughs\",\"Date\"])[\"Average price\"].sum()\n",
    "#new_dataframe.head(500)\n",
    "#new_dataframe.columns\n",
    "#new_dataframe['amount'].groupby(df['last_payout'].dt.to_period('M')).sum()\n",
    "#e = properties_melted\n",
    "#e.Date = (e.Date.apply(lambda x: pd.to_datetime(x, format=\"%Y-%M-%d\"))).dt.strftime('Average price %Y')  \n",
    "#e.groupby([\"Date\",\"Boroughs\",\"Code\"])['Average price'].sum().to_dict() \n",
    "#result = properties_melted.groupby([properties_melted.Date.dt.to_period(\"Y\"),\"Code\",\"Boroughs\"])['Average price'].mean()\n",
    "#for year, price in result.items():\n",
    "    #result1 = (f\"Average price{year} = {price}\")\n",
    "#print(result1)\n",
    "properties_melted[\"Date\"] = pd.to_datetime(properties_melted[\"Date\"],format='%Y%m%d')\n",
    "properties_melted[\"Year\"] = pd.DatetimeIndex(properties_melted[\"Date\"]).year"
   ]
  },
  {
   "cell_type": "code",
   "execution_count": 206,
   "id": "198fe089",
   "metadata": {},
   "outputs": [],
   "source": [
    "#properties_melted[\"Date\"].head()\n",
    "#properties_melted[\"Date\"].dtypes\n",
    "#properties_melted[\"Date\"].dtypes\n",
    "#new_dataframe = properties_melted.groupby([\"Code\",\"Boroughs\",\"Date\"])[\"Average price\"].sum()\n",
    "#new_dataframe.head(500)\n",
    "#new_dataframe.columns\n",
    "#new_dataframe['amount'].groupby(df['last_payout'].dt.to_period('M')).sum()\n",
    "#e = properties_melted\n",
    "#e.Date = (e.Date.apply(lambda x: pd.to_datetime(x, format=\"%Y-%M-%d\"))).dt.strftime('Average price %Y')  \n",
    "#e.groupby([\"Date\",\"Boroughs\",\"Code\"])['Average price'].sum().to_dict() \n",
    "#result = properties_melted.groupby([properties_melted.Date.dt.to_period(\"Y\"),\"Code\",\"Boroughs\"])['Average price'].mean()\n",
    "#for year, price in result.items():\n",
    "    #result1 = (f\"Average price{year} = {price}\")\n",
    "#print(result1)\n",
    "properties_melted[\"Date\"] = pd.to_datetime(properties_melted[\"Date\"],format='%Y%m%d')\n",
    "properties_melted[\"Year\"] = pd.DatetimeIndex(properties_melted[\"Date\"]).year"
   ]
  },
  {
   "cell_type": "code",
   "execution_count": 207,
   "id": "a83b6ce4",
   "metadata": {},
   "outputs": [],
   "source": [
    "#properties_melted[\"Date\"].head()\n",
    "#properties_melted[\"Date\"].dtypes\n",
    "#properties_melted[\"Date\"].dtypes\n",
    "#new_dataframe = properties_melted.groupby([\"Code\",\"Boroughs\",\"Date\"])[\"Average price\"].sum()\n",
    "#new_dataframe.head(500)\n",
    "#new_dataframe.columns\n",
    "#new_dataframe['amount'].groupby(df['last_payout'].dt.to_period('M')).sum()\n",
    "#e = properties_melted\n",
    "#e.Date = (e.Date.apply(lambda x: pd.to_datetime(x, format=\"%Y-%M-%d\"))).dt.strftime('Average price %Y')  \n",
    "#e.groupby([\"Date\",\"Boroughs\",\"Code\"])['Average price'].sum().to_dict() \n",
    "#result = properties_melted.groupby([properties_melted.Date.dt.to_period(\"Y\"),\"Code\",\"Boroughs\"])['Average price'].mean()\n",
    "#for year, price in result.items():\n",
    "    #result1 = (f\"Average price{year} = {price}\")\n",
    "#print(result1)\n",
    "properties_melted[\"Date\"] = pd.to_datetime(properties_melted[\"Date\"],format='%Y%m%d')\n",
    "properties_melted[\"Year\"] = pd.DatetimeIndex(properties_melted[\"Date\"]).year\n",
    "properties_melted[\"Year\"].head()"
   ]
  },
  {
   "cell_type": "code",
   "execution_count": 208,
   "id": "d7cd06c5",
   "metadata": {},
   "outputs": [],
   "source": [
    "#properties_melted[\"Date\"].head()\n",
    "#properties_melted[\"Date\"].dtypes\n",
    "#properties_melted[\"Date\"].dtypes\n",
    "#new_dataframe = properties_melted.groupby([\"Code\",\"Boroughs\",\"Date\"])[\"Average price\"].sum()\n",
    "#new_dataframe.head(500)\n",
    "#new_dataframe.columns\n",
    "#new_dataframe['amount'].groupby(df['last_payout'].dt.to_period('M')).sum()\n",
    "#e = properties_melted\n",
    "#e.Date = (e.Date.apply(lambda x: pd.to_datetime(x, format=\"%Y-%M-%d\"))).dt.strftime('Average price %Y')  \n",
    "#e.groupby([\"Date\",\"Boroughs\",\"Code\"])['Average price'].sum().to_dict() \n",
    "#result = properties_melted.groupby([properties_melted.Date.dt.to_period(\"Y\"),\"Code\",\"Boroughs\"])['Average price'].mean()\n",
    "#for year, price in result.items():\n",
    "    #result1 = (f\"Average price{year} = {price}\")\n",
    "#print(result1)\n",
    "properties_melted[\"Date\"] = pd.to_datetime(properties_melted[\"Date\"],format='%Y%m%d')\n",
    "properties_melted[\"Year\"] = pd.DatetimeIndex(properties_melted[\"Date\"]).year\n",
    "properties_melted.head(50)"
   ]
  },
  {
   "cell_type": "code",
   "execution_count": 209,
   "id": "3a269580",
   "metadata": {},
   "outputs": [],
   "source": [
    "#properties_melted[\"Date\"].head()\n",
    "#properties_melted[\"Date\"].dtypes\n",
    "#properties_melted[\"Date\"].dtypes\n",
    "#new_dataframe = properties_melted.groupby([\"Code\",\"Boroughs\",\"Date\"])[\"Average price\"].sum()\n",
    "#new_dataframe.head(500)\n",
    "#new_dataframe.columns\n",
    "#new_dataframe['amount'].groupby(df['last_payout'].dt.to_period('M')).sum()\n",
    "#e = properties_melted\n",
    "#e.Date = (e.Date.apply(lambda x: pd.to_datetime(x, format=\"%Y-%M-%d\"))).dt.strftime('Average price %Y')  \n",
    "#e.groupby([\"Date\",\"Boroughs\",\"Code\"])['Average price'].sum().to_dict() \n",
    "#result = properties_melted.groupby([properties_melted.Date.dt.to_period(\"Y\"),\"Code\",\"Boroughs\"])['Average price'].mean()\n",
    "#for year, price in result.items():\n",
    "    #result1 = (f\"Average price{year} = {price}\")\n",
    "#print(result1)\n",
    "properties_melted[\"Date\"] = pd.to_datetime(properties_melted[\"Date\"],format='%Y%m%d')\n",
    "properties_melted[\"Year\"] = pd.DatetimeIndex(properties_melted[\"Date\"]).year\n",
    "properties_melted.head(50)\n",
    "new_df = properties_melted.drop(\"Date\")"
   ]
  },
  {
   "cell_type": "code",
   "execution_count": 210,
   "id": "cbfddc77",
   "metadata": {},
   "outputs": [],
   "source": [
    "#properties_melted[\"Date\"].head()\n",
    "#properties_melted[\"Date\"].dtypes\n",
    "#properties_melted[\"Date\"].dtypes\n",
    "#new_dataframe = properties_melted.groupby([\"Code\",\"Boroughs\",\"Date\"])[\"Average price\"].sum()\n",
    "#new_dataframe.head(500)\n",
    "#new_dataframe.columns\n",
    "#new_dataframe['amount'].groupby(df['last_payout'].dt.to_period('M')).sum()\n",
    "#e = properties_melted\n",
    "#e.Date = (e.Date.apply(lambda x: pd.to_datetime(x, format=\"%Y-%M-%d\"))).dt.strftime('Average price %Y')  \n",
    "#e.groupby([\"Date\",\"Boroughs\",\"Code\"])['Average price'].sum().to_dict() \n",
    "#result = properties_melted.groupby([properties_melted.Date.dt.to_period(\"Y\"),\"Code\",\"Boroughs\"])['Average price'].mean()\n",
    "#for year, price in result.items():\n",
    "    #result1 = (f\"Average price{year} = {price}\")\n",
    "#print(result1)\n",
    "properties_melted[\"Date\"] = pd.to_datetime(properties_melted[\"Date\"],format='%Y%m%d')\n",
    "properties_melted[\"Year\"] = pd.DatetimeIndex(properties_melted[\"Date\"]).year\n",
    "properties_melted.head(50)\n",
    "new_df = properties_melted.drop(\"Date\",inplace = True, axis = 1)"
   ]
  },
  {
   "cell_type": "code",
   "execution_count": 211,
   "id": "4f66dd63",
   "metadata": {},
   "outputs": [],
   "source": [
    "#properties_melted[\"Date\"].head()\n",
    "#properties_melted[\"Date\"].dtypes\n",
    "#properties_melted[\"Date\"].dtypes\n",
    "#new_dataframe = properties_melted.groupby([\"Code\",\"Boroughs\",\"Date\"])[\"Average price\"].sum()\n",
    "#new_dataframe.head(500)\n",
    "#new_dataframe.columns\n",
    "#new_dataframe['amount'].groupby(df['last_payout'].dt.to_period('M')).sum()\n",
    "#e = properties_melted\n",
    "#e.Date = (e.Date.apply(lambda x: pd.to_datetime(x, format=\"%Y-%M-%d\"))).dt.strftime('Average price %Y')  \n",
    "#e.groupby([\"Date\",\"Boroughs\",\"Code\"])['Average price'].sum().to_dict() \n",
    "#result = properties_melted.groupby([properties_melted.Date.dt.to_period(\"Y\"),\"Code\",\"Boroughs\"])['Average price'].mean()\n",
    "#for year, price in result.items():\n",
    "    #result1 = (f\"Average price{year} = {price}\")\n",
    "#print(result1)\n",
    "properties_melted[\"Date\"] = pd.to_datetime(properties_melted[\"Date\"],format='%Y%m%d')\n",
    "properties_melted[\"Year\"] = pd.DatetimeIndex(properties_melted[\"Date\"]).year\n",
    "properties_melted.head(50)\n",
    "new_df = properties_melted.drop(\"Date\",inplace = True, axis = 1)"
   ]
  },
  {
   "cell_type": "code",
   "execution_count": 212,
   "id": "aa9fb3e4",
   "metadata": {},
   "outputs": [],
   "source": [
    "  %notebook \"C:\\Users\\Julia\\Documents\\_DATA SCIENCE\\_Case_studies\\Case_study_3_London_Housing\\Case_study_London_Housing_Yuliya_Selevich.ipynb\"     "
   ]
  },
  {
   "cell_type": "code",
   "execution_count": 213,
   "id": "6ada2261",
   "metadata": {},
   "outputs": [],
   "source": [
    "# Let's import the pandas, numpy libraries as pd, and np respectively. \n",
    "import pandas as pd\n",
    "import numpy as np\n",
    "\n",
    "# Load the pyplot collection of functions from matplotlib, as plt \n",
    "import matplotlib.pyplot as plt"
   ]
  },
  {
   "cell_type": "code",
   "execution_count": 214,
   "id": "5993570b",
   "metadata": {},
   "outputs": [],
   "source": [
    "# First, make a variable called url_LondonHousePrices, and assign it the following link, enclosed in quotation-marks as a string:\n",
    "# https://data.london.gov.uk/download/uk-house-price-index/70ac0766-8902-4eb5-aab5-01951aaed773/UK%20House%20price%20index.xls\n",
    "\n",
    "url_LondonHousePrices = \"https://data.london.gov.uk/download/uk-house-price-index/70ac0766-8902-4eb5-aab5-01951aaed773/UK%20House%20price%20index.xls\"\n",
    "\n",
    "# The dataset we're interested in contains the Average prices of the houses, and is actually on a particular sheet of the Excel file. \n",
    "# As a result, we need to specify the sheet name in the read_excel() method.\n",
    "# Put this data into a variable called properties.  \n",
    "properties = pd.read_excel(url_LondonHousePrices, sheet_name='Average price', index_col= None)"
   ]
  },
  {
   "cell_type": "code",
   "execution_count": 215,
   "id": "2f6c8e1a",
   "metadata": {},
   "outputs": [],
   "source": [
    "properties.head()\n",
    "properties.shape\n",
    "properties.info()"
   ]
  },
  {
   "cell_type": "code",
   "execution_count": 216,
   "id": "8a4e0429",
   "metadata": {},
   "outputs": [],
   "source": [
    "properties_transposed = properties.transpose()\n",
    "properties_transposed.index\n",
    "properties_transposed = properties_transposed.reset_index()\n",
    "properties_transposed.columns = properties_transposed.iloc[0]\n",
    "properties_transposed = properties_transposed.drop(0)\n",
    "properties_transposed.head()"
   ]
  },
  {
   "cell_type": "code",
   "execution_count": 217,
   "id": "8ad66ce1",
   "metadata": {},
   "outputs": [],
   "source": [
    "properties_renamed = properties_transposed.rename({\"Unnamed: 0\":\"Boroughs\"}, axis = \"columns\")\n",
    "properties_renamed.columns = properties_renamed.columns.fillna(\"Code\")\n",
    "properties_renamed.head()"
   ]
  },
  {
   "cell_type": "code",
   "execution_count": 218,
   "id": "1cf56762",
   "metadata": {},
   "outputs": [],
   "source": [
    "properties_melted = pd.melt(properties_renamed, id_vars = [\"Boroughs\",\"Code\"],var_name = \"Date\",value_name = \"Average price\")\n",
    "properties_melted.head(33)"
   ]
  },
  {
   "cell_type": "code",
   "execution_count": 219,
   "id": "6f741475",
   "metadata": {},
   "outputs": [],
   "source": [
    "def convert_to_float(x):\n",
    "    try:\n",
    "        return float(x)\n",
    "    except:\n",
    "        return np.nan\n",
    "\n",
    "properties_melted[\"Average price\"] = properties_melted[\"Average price\"].apply(convert_to_float)\n",
    "\n",
    "properties_melted[\"Average price\"].dtypes"
   ]
  },
  {
   "cell_type": "code",
   "execution_count": 220,
   "id": "f261c72e",
   "metadata": {},
   "outputs": [],
   "source": [
    "properties_melted.dropna(inplace=True)\n",
    "\n",
    "list_of_codes_not_in_london = [\"E13000001\",\"E13000002\",\"E12000001\",\"E12000002\",\"E12000003\",\"E12000004\",\"E12000005\",\"E12000006\",\n",
    "                             \"E12000007\",\"E12000008\",\"E12000009\",\"E92000001\"]\n",
    "for item in list_of_codes_not_in_london:\n",
    "    properties_melted = properties_melted[properties_melted.Code != item]\n",
    "properties_melted = properties_melted.reset_index(drop = True)\n",
    "properties_melted.head()\n",
    "properties_melted.count()"
   ]
  },
  {
   "cell_type": "code",
   "execution_count": 221,
   "id": "e16e079c",
   "metadata": {},
   "outputs": [],
   "source": [
    "prop_one_borough = properties_melted[properties_melted[\"Boroughs\"] == \"Greenwich\"]\n",
    "#grouped = properties_melted.groupby(\"Date\")[\"Boroughs\"].sum()\n",
    "prop_one_borough.plot(x=\"Date\",y=\"Average price\", kind = \"line\")\n",
    "plt.ylabel(\"Average price\")\n",
    "plt.title('Price change for \"Greenwich\" borough of London')\n",
    "plt.show()"
   ]
  },
  {
   "cell_type": "code",
   "execution_count": 222,
   "id": "f3b0ea57",
   "metadata": {},
   "outputs": [],
   "source": [
    "#properties_melted[\"Date\"].head()\n",
    "#properties_melted[\"Date\"].dtypes\n",
    "#properties_melted[\"Date\"].dtypes\n",
    "#new_dataframe = properties_melted.groupby([\"Code\",\"Boroughs\",\"Date\"])[\"Average price\"].sum()\n",
    "#new_dataframe.head(500)\n",
    "#new_dataframe.columns\n",
    "#new_dataframe['amount'].groupby(df['last_payout'].dt.to_period('M')).sum()\n",
    "#e = properties_melted\n",
    "#e.Date = (e.Date.apply(lambda x: pd.to_datetime(x, format=\"%Y-%M-%d\"))).dt.strftime('Average price %Y')  \n",
    "#e.groupby([\"Date\",\"Boroughs\",\"Code\"])['Average price'].sum().to_dict() \n",
    "#result = properties_melted.groupby([properties_melted.Date.dt.to_period(\"Y\"),\"Code\",\"Boroughs\"])['Average price'].mean()\n",
    "#for year, price in result.items():\n",
    "    #result1 = (f\"Average price{year} = {price}\")\n",
    "#print(result1)\n",
    "properties_melted[\"Date\"] = pd.to_datetime(properties_melted[\"Date\"],format='%Y%m%d')\n",
    "properties_melted[\"Year\"] = pd.DatetimeIndex(properties_melted[\"Date\"]).year\n",
    "properties_melted.head(50)\n",
    "new_df = properties_melted.drop(\"Date\",inplace = True, axis = 1)"
   ]
  },
  {
   "cell_type": "code",
   "execution_count": 223,
   "id": "4e19e46c",
   "metadata": {},
   "outputs": [],
   "source": [
    "#properties_melted[\"Date\"].head()\n",
    "#properties_melted[\"Date\"].dtypes\n",
    "#properties_melted[\"Date\"].dtypes\n",
    "#new_dataframe = properties_melted.groupby([\"Code\",\"Boroughs\",\"Date\"])[\"Average price\"].sum()\n",
    "#new_dataframe.head(500)\n",
    "#new_dataframe.columns\n",
    "#new_dataframe['amount'].groupby(df['last_payout'].dt.to_period('M')).sum()\n",
    "#e = properties_melted\n",
    "#e.Date = (e.Date.apply(lambda x: pd.to_datetime(x, format=\"%Y-%M-%d\"))).dt.strftime('Average price %Y')  \n",
    "#e.groupby([\"Date\",\"Boroughs\",\"Code\"])['Average price'].sum().to_dict() \n",
    "#result = properties_melted.groupby([properties_melted.Date.dt.to_period(\"Y\"),\"Code\",\"Boroughs\"])['Average price'].mean()\n",
    "#for year, price in result.items():\n",
    "    #result1 = (f\"Average price{year} = {price}\")\n",
    "#print(result1)\n",
    "properties_melted[\"Date\"] = pd.to_datetime(properties_melted[\"Date\"],format='%Y%m%d')\n",
    "properties_melted[\"Year\"] = pd.DatetimeIndex(properties_melted[\"Date\"]).year\n",
    "properties_melted.head(50)\n",
    "new_df = properties_melted.drop(\"Date\",inplace = True, axis = 1)"
   ]
  },
  {
   "cell_type": "code",
   "execution_count": 224,
   "id": "7314e7bd",
   "metadata": {},
   "outputs": [],
   "source": [
    "#properties_melted[\"Date\"].head()\n",
    "#properties_melted[\"Date\"].dtypes\n",
    "#properties_melted[\"Date\"].dtypes\n",
    "#new_dataframe = properties_melted.groupby([\"Code\",\"Boroughs\",\"Date\"])[\"Average price\"].sum()\n",
    "#new_dataframe.head(500)\n",
    "#new_dataframe.columns\n",
    "#new_dataframe['amount'].groupby(df['last_payout'].dt.to_period('M')).sum()\n",
    "#e = properties_melted\n",
    "#e.Date = (e.Date.apply(lambda x: pd.to_datetime(x, format=\"%Y-%M-%d\"))).dt.strftime('Average price %Y')  \n",
    "#e.groupby([\"Date\",\"Boroughs\",\"Code\"])['Average price'].sum().to_dict() \n",
    "#result = properties_melted.groupby([properties_melted.Date.dt.to_period(\"Y\"),\"Code\",\"Boroughs\"])['Average price'].mean()\n",
    "#for year, price in result.items():\n",
    "    #result1 = (f\"Average price{year} = {price}\")\n",
    "#print(result1)\n",
    "properties_melted[\"Date\"] = pd.to_datetime(properties_melted[\"Date\"],format='%Y%m%d')\n",
    "properties_melted[\"Year\"] = pd.DatetimeIndex(properties_melted[\"Date\"]).year\n",
    "properties_melted.head(50)\n",
    "properties_melted.drop(\"Date\",inplace = True, axis = 1)"
   ]
  },
  {
   "cell_type": "code",
   "execution_count": 225,
   "id": "bae7e929",
   "metadata": {},
   "outputs": [],
   "source": [
    "#properties_melted[\"Date\"].head()\n",
    "#properties_melted[\"Date\"].dtypes\n",
    "#properties_melted[\"Date\"].dtypes\n",
    "#new_dataframe = properties_melted.groupby([\"Code\",\"Boroughs\",\"Date\"])[\"Average price\"].sum()\n",
    "#new_dataframe.head(500)\n",
    "#new_dataframe.columns\n",
    "#new_dataframe['amount'].groupby(df['last_payout'].dt.to_period('M')).sum()\n",
    "#e = properties_melted\n",
    "#e.Date = (e.Date.apply(lambda x: pd.to_datetime(x, format=\"%Y-%M-%d\"))).dt.strftime('Average price %Y')  \n",
    "#e.groupby([\"Date\",\"Boroughs\",\"Code\"])['Average price'].sum().to_dict() \n",
    "#result = properties_melted.groupby([properties_melted.Date.dt.to_period(\"Y\"),\"Code\",\"Boroughs\"])['Average price'].mean()\n",
    "#for year, price in result.items():\n",
    "    #result1 = (f\"Average price{year} = {price}\")\n",
    "#print(result1)\n",
    "properties_melted[\"Date\"] = pd.to_datetime(properties_melted[\"Date\"],format='%Y%m%d')\n",
    "properties_melted[\"Year\"] = pd.DatetimeIndex(properties_melted[\"Date\"]).year\n",
    "properties_melted.head(50)\n",
    "properties_melted.drop(\"Date\",inplace = True, axis = 1)"
   ]
  },
  {
   "cell_type": "code",
   "execution_count": 226,
   "id": "e43c0a9a",
   "metadata": {},
   "outputs": [],
   "source": [
    "  %notebook \"C:\\Users\\Julia\\Documents\\_DATA SCIENCE\\_Case_studies\\Case_study_3_London_Housing\\Case_study_London_Housing_Yuliya_Selevich.ipynb\"     "
   ]
  },
  {
   "cell_type": "code",
   "execution_count": 227,
   "id": "0c0a64d8",
   "metadata": {},
   "outputs": [],
   "source": [
    "# Let's import the pandas, numpy libraries as pd, and np respectively. \n",
    "import pandas as pd\n",
    "import numpy as np\n",
    "\n",
    "# Load the pyplot collection of functions from matplotlib, as plt \n",
    "import matplotlib.pyplot as plt"
   ]
  },
  {
   "cell_type": "code",
   "execution_count": 228,
   "id": "d38c1432",
   "metadata": {},
   "outputs": [],
   "source": [
    "# First, make a variable called url_LondonHousePrices, and assign it the following link, enclosed in quotation-marks as a string:\n",
    "# https://data.london.gov.uk/download/uk-house-price-index/70ac0766-8902-4eb5-aab5-01951aaed773/UK%20House%20price%20index.xls\n",
    "\n",
    "url_LondonHousePrices = \"https://data.london.gov.uk/download/uk-house-price-index/70ac0766-8902-4eb5-aab5-01951aaed773/UK%20House%20price%20index.xls\"\n",
    "\n",
    "# The dataset we're interested in contains the Average prices of the houses, and is actually on a particular sheet of the Excel file. \n",
    "# As a result, we need to specify the sheet name in the read_excel() method.\n",
    "# Put this data into a variable called properties.  \n",
    "properties = pd.read_excel(url_LondonHousePrices, sheet_name='Average price', index_col= None)"
   ]
  },
  {
   "cell_type": "code",
   "execution_count": 229,
   "id": "b523e1f9",
   "metadata": {},
   "outputs": [],
   "source": [
    "properties.head()\n",
    "properties.shape\n",
    "properties.info()"
   ]
  },
  {
   "cell_type": "code",
   "execution_count": 230,
   "id": "7c979ad9",
   "metadata": {},
   "outputs": [],
   "source": [
    "properties_transposed = properties.transpose()\n",
    "properties_transposed.index\n",
    "properties_transposed = properties_transposed.reset_index()\n",
    "properties_transposed.columns = properties_transposed.iloc[0]\n",
    "properties_transposed = properties_transposed.drop(0)\n",
    "properties_transposed.head()"
   ]
  },
  {
   "cell_type": "code",
   "execution_count": 231,
   "id": "fd9c17b8",
   "metadata": {},
   "outputs": [],
   "source": [
    "properties_renamed = properties_transposed.rename({\"Unnamed: 0\":\"Boroughs\"}, axis = \"columns\")\n",
    "properties_renamed.columns = properties_renamed.columns.fillna(\"Code\")\n",
    "properties_renamed.head()"
   ]
  },
  {
   "cell_type": "code",
   "execution_count": 232,
   "id": "25ccc556",
   "metadata": {},
   "outputs": [],
   "source": [
    "properties_melted = pd.melt(properties_renamed, id_vars = [\"Boroughs\",\"Code\"],var_name = \"Date\",value_name = \"Average price\")\n",
    "properties_melted.head(33)"
   ]
  },
  {
   "cell_type": "code",
   "execution_count": 233,
   "id": "4a68ac11",
   "metadata": {},
   "outputs": [],
   "source": [
    "def convert_to_float(x):\n",
    "    try:\n",
    "        return float(x)\n",
    "    except:\n",
    "        return np.nan\n",
    "\n",
    "properties_melted[\"Average price\"] = properties_melted[\"Average price\"].apply(convert_to_float)\n",
    "\n",
    "properties_melted[\"Average price\"].dtypes"
   ]
  },
  {
   "cell_type": "code",
   "execution_count": 234,
   "id": "33dec087",
   "metadata": {},
   "outputs": [],
   "source": [
    "properties_melted.dropna(inplace=True)\n",
    "\n",
    "list_of_codes_not_in_london = [\"E13000001\",\"E13000002\",\"E12000001\",\"E12000002\",\"E12000003\",\"E12000004\",\"E12000005\",\"E12000006\",\n",
    "                             \"E12000007\",\"E12000008\",\"E12000009\",\"E92000001\"]\n",
    "for item in list_of_codes_not_in_london:\n",
    "    properties_melted = properties_melted[properties_melted.Code != item]\n",
    "properties_melted = properties_melted.reset_index(drop = True)\n",
    "properties_melted.head()\n",
    "properties_melted.count()"
   ]
  },
  {
   "cell_type": "code",
   "execution_count": 235,
   "id": "fc8b580b",
   "metadata": {},
   "outputs": [],
   "source": [
    "prop_one_borough = properties_melted[properties_melted[\"Boroughs\"] == \"Greenwich\"]\n",
    "#grouped = properties_melted.groupby(\"Date\")[\"Boroughs\"].sum()\n",
    "prop_one_borough.plot(x=\"Date\",y=\"Average price\", kind = \"line\")\n",
    "plt.ylabel(\"Average price\")\n",
    "plt.title('Price change for \"Greenwich\" borough of London')\n",
    "plt.show()"
   ]
  },
  {
   "cell_type": "code",
   "execution_count": 236,
   "id": "82105fe6",
   "metadata": {},
   "outputs": [],
   "source": [
    "#properties_melted[\"Date\"].head()\n",
    "#properties_melted[\"Date\"].dtypes\n",
    "#properties_melted[\"Date\"].dtypes\n",
    "#new_dataframe = properties_melted.groupby([\"Code\",\"Boroughs\",\"Date\"])[\"Average price\"].sum()\n",
    "#new_dataframe.head(500)\n",
    "#new_dataframe.columns\n",
    "#new_dataframe['amount'].groupby(df['last_payout'].dt.to_period('M')).sum()\n",
    "#e = properties_melted\n",
    "#e.Date = (e.Date.apply(lambda x: pd.to_datetime(x, format=\"%Y-%M-%d\"))).dt.strftime('Average price %Y')  \n",
    "#e.groupby([\"Date\",\"Boroughs\",\"Code\"])['Average price'].sum().to_dict() \n",
    "#result = properties_melted.groupby([properties_melted.Date.dt.to_period(\"Y\"),\"Code\",\"Boroughs\"])['Average price'].mean()\n",
    "#for year, price in result.items():\n",
    "    #result1 = (f\"Average price{year} = {price}\")\n",
    "#print(result1)\n",
    "properties_melted[\"Date\"] = pd.to_datetime(properties_melted[\"Date\"],format='%Y%m%d')\n",
    "properties_melted[\"Year\"] = pd.DatetimeIndex(properties_melted[\"Date\"]).year\n",
    "properties_melted.head(50)\n",
    "properties_melted.drop(\"Date\",inplace = True, axis = 1)"
   ]
  },
  {
   "cell_type": "code",
   "execution_count": 237,
   "id": "06a4b8f2",
   "metadata": {},
   "outputs": [],
   "source": [
    "#properties_melted[\"Date\"].head()\n",
    "#properties_melted[\"Date\"].dtypes\n",
    "#properties_melted[\"Date\"].dtypes\n",
    "#new_dataframe = properties_melted.groupby([\"Code\",\"Boroughs\",\"Date\"])[\"Average price\"].sum()\n",
    "#new_dataframe.head(500)\n",
    "#new_dataframe.columns\n",
    "#new_dataframe['amount'].groupby(df['last_payout'].dt.to_period('M')).sum()\n",
    "#e = properties_melted\n",
    "#e.Date = (e.Date.apply(lambda x: pd.to_datetime(x, format=\"%Y-%M-%d\"))).dt.strftime('Average price %Y')  \n",
    "#e.groupby([\"Date\",\"Boroughs\",\"Code\"])['Average price'].sum().to_dict() \n",
    "#result = properties_melted.groupby([properties_melted.Date.dt.to_period(\"Y\"),\"Code\",\"Boroughs\"])['Average price'].mean()\n",
    "#for year, price in result.items():\n",
    "    #result1 = (f\"Average price{year} = {price}\")\n",
    "#print(result1)\n",
    "#properties_melted[\"Date\"] = pd.to_datetime(properties_melted[\"Date\"],format='%Y%m%d')\n",
    "#properties_melted[\"Year\"] = pd.DatetimeIndex(properties_melted[\"Date\"]).year\n",
    "#properties_melted.drop(\"Date\",inplace = True, axis = 1)\n",
    "properties_melted.head(50)"
   ]
  },
  {
   "cell_type": "code",
   "execution_count": 238,
   "id": "3bad4cf3",
   "metadata": {},
   "outputs": [],
   "source": [
    "#properties_melted[\"Date\"].head()\n",
    "#properties_melted[\"Date\"].dtypes\n",
    "#properties_melted[\"Date\"].dtypes\n",
    "#new_dataframe = properties_melted.groupby([\"Code\",\"Boroughs\",\"Date\"])[\"Average price\"].sum()\n",
    "#new_dataframe.head(500)\n",
    "#new_dataframe.columns\n",
    "#new_dataframe['amount'].groupby(df['last_payout'].dt.to_period('M')).sum()\n",
    "#e = properties_melted\n",
    "#e.Date = (e.Date.apply(lambda x: pd.to_datetime(x, format=\"%Y-%M-%d\"))).dt.strftime('Average price %Y')  \n",
    "#e.groupby([\"Date\",\"Boroughs\",\"Code\"])['Average price'].sum().to_dict() \n",
    "#result = properties_melted.groupby([properties_melted.Date.dt.to_period(\"Y\"),\"Code\",\"Boroughs\"])['Average price'].mean()\n",
    "#for year, price in result.items():\n",
    "    #result1 = (f\"Average price{year} = {price}\")\n",
    "#print(result1)\n",
    "properties_melted[\"Date\"] = pd.to_datetime(properties_melted[\"Date\"],format='%Y%m%d')\n",
    "properties_melted[\"Year\"] = pd.DatetimeIndex(properties_melted[\"Date\"]).year\n",
    "properties_melted.drop(\"Date\",inplace = True, axis = 1)\n",
    "properties_melted.head(50)"
   ]
  },
  {
   "cell_type": "code",
   "execution_count": 239,
   "id": "eb4e0362",
   "metadata": {},
   "outputs": [],
   "source": [
    "  %notebook \"C:\\Users\\Julia\\Documents\\_DATA SCIENCE\\_Case_studies\\Case_study_3_London_Housing\\Case_study_London_Housing_Yuliya_Selevich.ipynb\"     "
   ]
  },
  {
   "cell_type": "code",
   "execution_count": 240,
   "id": "e2c5fecd",
   "metadata": {},
   "outputs": [],
   "source": [
    "# Let's import the pandas, numpy libraries as pd, and np respectively. \n",
    "import pandas as pd\n",
    "import numpy as np\n",
    "\n",
    "# Load the pyplot collection of functions from matplotlib, as plt \n",
    "import matplotlib.pyplot as plt"
   ]
  },
  {
   "cell_type": "code",
   "execution_count": 241,
   "id": "ddcde684",
   "metadata": {},
   "outputs": [],
   "source": [
    "# First, make a variable called url_LondonHousePrices, and assign it the following link, enclosed in quotation-marks as a string:\n",
    "# https://data.london.gov.uk/download/uk-house-price-index/70ac0766-8902-4eb5-aab5-01951aaed773/UK%20House%20price%20index.xls\n",
    "\n",
    "url_LondonHousePrices = \"https://data.london.gov.uk/download/uk-house-price-index/70ac0766-8902-4eb5-aab5-01951aaed773/UK%20House%20price%20index.xls\"\n",
    "\n",
    "# The dataset we're interested in contains the Average prices of the houses, and is actually on a particular sheet of the Excel file. \n",
    "# As a result, we need to specify the sheet name in the read_excel() method.\n",
    "# Put this data into a variable called properties.  \n",
    "properties = pd.read_excel(url_LondonHousePrices, sheet_name='Average price', index_col= None)"
   ]
  },
  {
   "cell_type": "code",
   "execution_count": 242,
   "id": "f5f8f524",
   "metadata": {},
   "outputs": [],
   "source": [
    "properties.head()\n",
    "properties.shape\n",
    "properties.info()"
   ]
  },
  {
   "cell_type": "code",
   "execution_count": 243,
   "id": "73bc83ad",
   "metadata": {},
   "outputs": [],
   "source": [
    "properties_transposed = properties.transpose()\n",
    "properties_transposed.index\n",
    "properties_transposed = properties_transposed.reset_index()\n",
    "properties_transposed.columns = properties_transposed.iloc[0]\n",
    "properties_transposed = properties_transposed.drop(0)\n",
    "properties_transposed.head()"
   ]
  },
  {
   "cell_type": "code",
   "execution_count": 244,
   "id": "3f582c11",
   "metadata": {},
   "outputs": [],
   "source": [
    "properties_renamed = properties_transposed.rename({\"Unnamed: 0\":\"Boroughs\"}, axis = \"columns\")\n",
    "properties_renamed.columns = properties_renamed.columns.fillna(\"Code\")\n",
    "properties_renamed.head()"
   ]
  },
  {
   "cell_type": "code",
   "execution_count": 245,
   "id": "0e23ebb4",
   "metadata": {},
   "outputs": [],
   "source": [
    "properties_melted = pd.melt(properties_renamed, id_vars = [\"Boroughs\",\"Code\"],var_name = \"Date\",value_name = \"Average price\")\n",
    "properties_melted.head(33)"
   ]
  },
  {
   "cell_type": "code",
   "execution_count": 246,
   "id": "d811bf3b",
   "metadata": {},
   "outputs": [],
   "source": [
    "def convert_to_float(x):\n",
    "    try:\n",
    "        return float(x)\n",
    "    except:\n",
    "        return np.nan\n",
    "\n",
    "properties_melted[\"Average price\"] = properties_melted[\"Average price\"].apply(convert_to_float)\n",
    "\n",
    "properties_melted[\"Average price\"].dtypes"
   ]
  },
  {
   "cell_type": "code",
   "execution_count": 247,
   "id": "130f9630",
   "metadata": {},
   "outputs": [],
   "source": [
    "properties_melted.dropna(inplace=True)\n",
    "\n",
    "list_of_codes_not_in_london = [\"E13000001\",\"E13000002\",\"E12000001\",\"E12000002\",\"E12000003\",\"E12000004\",\"E12000005\",\"E12000006\",\n",
    "                             \"E12000007\",\"E12000008\",\"E12000009\",\"E92000001\"]\n",
    "for item in list_of_codes_not_in_london:\n",
    "    properties_melted = properties_melted[properties_melted.Code != item]\n",
    "properties_melted = properties_melted.reset_index(drop = True)\n",
    "properties_melted.head()\n",
    "properties_melted.count()"
   ]
  },
  {
   "cell_type": "code",
   "execution_count": 248,
   "id": "1197996f",
   "metadata": {},
   "outputs": [],
   "source": [
    "prop_one_borough = properties_melted[properties_melted[\"Boroughs\"] == \"Greenwich\"]\n",
    "#grouped = properties_melted.groupby(\"Date\")[\"Boroughs\"].sum()\n",
    "prop_one_borough.plot(x=\"Date\",y=\"Average price\", kind = \"line\")\n",
    "plt.ylabel(\"Average price\")\n",
    "plt.title('Price change for \"Greenwich\" borough of London')\n",
    "plt.show()"
   ]
  },
  {
   "cell_type": "code",
   "execution_count": 249,
   "id": "d9d4d985",
   "metadata": {},
   "outputs": [],
   "source": [
    "#properties_melted[\"Date\"].head()\n",
    "#properties_melted[\"Date\"].dtypes\n",
    "#properties_melted[\"Date\"].dtypes\n",
    "#new_dataframe = properties_melted.groupby([\"Code\",\"Boroughs\",\"Date\"])[\"Average price\"].sum()\n",
    "#new_dataframe.head(500)\n",
    "#new_dataframe.columns\n",
    "#new_dataframe['amount'].groupby(df['last_payout'].dt.to_period('M')).sum()\n",
    "#e = properties_melted\n",
    "#e.Date = (e.Date.apply(lambda x: pd.to_datetime(x, format=\"%Y-%M-%d\"))).dt.strftime('Average price %Y')  \n",
    "#e.groupby([\"Date\",\"Boroughs\",\"Code\"])['Average price'].sum().to_dict() \n",
    "#result = properties_melted.groupby([properties_melted.Date.dt.to_period(\"Y\"),\"Code\",\"Boroughs\"])['Average price'].mean()\n",
    "#for year, price in result.items():\n",
    "    #result1 = (f\"Average price{year} = {price}\")\n",
    "#print(result1)\n",
    "properties_melted[\"Date\"] = pd.to_datetime(properties_melted[\"Date\"],format='%Y%m%d')\n",
    "properties_melted[\"Year\"] = pd.DatetimeIndex(properties_melted[\"Date\"]).year\n",
    "properties_melted.drop(\"Date\",inplace = True, axis = 1)\n",
    "properties_melted.head(50)"
   ]
  },
  {
   "cell_type": "code",
   "execution_count": 250,
   "id": "5a11ffa8",
   "metadata": {},
   "outputs": [],
   "source": [
    "#properties_melted[\"Date\"].head()\n",
    "#properties_melted[\"Date\"].dtypes\n",
    "#properties_melted[\"Date\"].dtypes\n",
    "#new_dataframe = properties_melted.groupby([\"Code\",\"Boroughs\",\"Date\"])[\"Average price\"].sum()\n",
    "#new_dataframe.head(500)\n",
    "#new_dataframe.columns\n",
    "#new_dataframe['amount'].groupby(df['last_payout'].dt.to_period('M')).sum()\n",
    "#e = properties_melted\n",
    "#e.Date = (e.Date.apply(lambda x: pd.to_datetime(x, format=\"%Y-%M-%d\"))).dt.strftime('Average price %Y')  \n",
    "#e.groupby([\"Date\",\"Boroughs\",\"Code\"])['Average price'].sum().to_dict() \n",
    "#result = properties_melted.groupby([properties_melted.Date.dt.to_period(\"Y\"),\"Code\",\"Boroughs\"])['Average price'].mean()\n",
    "#for year, price in result.items():\n",
    "    #result1 = (f\"Average price{year} = {price}\")\n",
    "#print(result1)\n",
    "properties_melted[\"Date\"] = pd.to_datetime(properties_melted[\"Date\"],format='%Y%m%d')\n",
    "properties_melted[\"Year\"] = pd.DatetimeIndex(properties_melted[\"Date\"]).year\n",
    "properties_melted.drop(\"Date\",inplace = True, axis = 1)\n",
    "properties_melted.head(50)\n",
    "new_dataframe = properties_melted.groupby([\"Code\",\"Boroughs\",\"Year\"])[\"Average price\"].mean()"
   ]
  },
  {
   "cell_type": "code",
   "execution_count": 251,
   "id": "0d6e5fe8",
   "metadata": {},
   "outputs": [],
   "source": [
    "  %notebook \"C:\\Users\\Julia\\Documents\\_DATA SCIENCE\\_Case_studies\\Case_study_3_London_Housing\\Case_study_London_Housing_Yuliya_Selevich.ipynb\"     "
   ]
  },
  {
   "cell_type": "code",
   "execution_count": 252,
   "id": "31851859",
   "metadata": {},
   "outputs": [],
   "source": [
    "# Let's import the pandas, numpy libraries as pd, and np respectively. \n",
    "import pandas as pd\n",
    "import numpy as np\n",
    "\n",
    "# Load the pyplot collection of functions from matplotlib, as plt \n",
    "import matplotlib.pyplot as plt"
   ]
  },
  {
   "cell_type": "code",
   "execution_count": 253,
   "id": "13b0be6d",
   "metadata": {},
   "outputs": [],
   "source": [
    "# First, make a variable called url_LondonHousePrices, and assign it the following link, enclosed in quotation-marks as a string:\n",
    "# https://data.london.gov.uk/download/uk-house-price-index/70ac0766-8902-4eb5-aab5-01951aaed773/UK%20House%20price%20index.xls\n",
    "\n",
    "url_LondonHousePrices = \"https://data.london.gov.uk/download/uk-house-price-index/70ac0766-8902-4eb5-aab5-01951aaed773/UK%20House%20price%20index.xls\"\n",
    "\n",
    "# The dataset we're interested in contains the Average prices of the houses, and is actually on a particular sheet of the Excel file. \n",
    "# As a result, we need to specify the sheet name in the read_excel() method.\n",
    "# Put this data into a variable called properties.  \n",
    "properties = pd.read_excel(url_LondonHousePrices, sheet_name='Average price', index_col= None)"
   ]
  },
  {
   "cell_type": "code",
   "execution_count": 254,
   "id": "5a7ac941",
   "metadata": {},
   "outputs": [],
   "source": [
    "properties.head()\n",
    "properties.shape\n",
    "properties.info()"
   ]
  },
  {
   "cell_type": "code",
   "execution_count": 255,
   "id": "99a39473",
   "metadata": {},
   "outputs": [],
   "source": [
    "properties_transposed = properties.transpose()\n",
    "properties_transposed.index\n",
    "properties_transposed = properties_transposed.reset_index()\n",
    "properties_transposed.columns = properties_transposed.iloc[0]\n",
    "properties_transposed = properties_transposed.drop(0)\n",
    "properties_transposed.head()"
   ]
  },
  {
   "cell_type": "code",
   "execution_count": 256,
   "id": "5a127bc9",
   "metadata": {},
   "outputs": [],
   "source": [
    "properties_renamed = properties_transposed.rename({\"Unnamed: 0\":\"Boroughs\"}, axis = \"columns\")\n",
    "properties_renamed.columns = properties_renamed.columns.fillna(\"Code\")\n",
    "properties_renamed.head()"
   ]
  },
  {
   "cell_type": "code",
   "execution_count": 257,
   "id": "44d124dd",
   "metadata": {},
   "outputs": [],
   "source": [
    "properties_melted = pd.melt(properties_renamed, id_vars = [\"Boroughs\",\"Code\"],var_name = \"Date\",value_name = \"Average price\")\n",
    "properties_melted.head(33)"
   ]
  },
  {
   "cell_type": "code",
   "execution_count": 258,
   "id": "16c0a57d",
   "metadata": {},
   "outputs": [],
   "source": [
    "def convert_to_float(x):\n",
    "    try:\n",
    "        return float(x)\n",
    "    except:\n",
    "        return np.nan\n",
    "\n",
    "properties_melted[\"Average price\"] = properties_melted[\"Average price\"].apply(convert_to_float)\n",
    "\n",
    "properties_melted[\"Average price\"].dtypes"
   ]
  },
  {
   "cell_type": "code",
   "execution_count": 259,
   "id": "6163bdd1",
   "metadata": {},
   "outputs": [],
   "source": [
    "properties_melted.dropna(inplace=True)\n",
    "\n",
    "list_of_codes_not_in_london = [\"E13000001\",\"E13000002\",\"E12000001\",\"E12000002\",\"E12000003\",\"E12000004\",\"E12000005\",\"E12000006\",\n",
    "                             \"E12000007\",\"E12000008\",\"E12000009\",\"E92000001\"]\n",
    "for item in list_of_codes_not_in_london:\n",
    "    properties_melted = properties_melted[properties_melted.Code != item]\n",
    "properties_melted = properties_melted.reset_index(drop = True)\n",
    "properties_melted.head()\n",
    "properties_melted.count()"
   ]
  },
  {
   "cell_type": "code",
   "execution_count": 260,
   "id": "fc064e39",
   "metadata": {},
   "outputs": [],
   "source": [
    "prop_one_borough = properties_melted[properties_melted[\"Boroughs\"] == \"Greenwich\"]\n",
    "#grouped = properties_melted.groupby(\"Date\")[\"Boroughs\"].sum()\n",
    "prop_one_borough.plot(x=\"Date\",y=\"Average price\", kind = \"line\")\n",
    "plt.ylabel(\"Average price\")\n",
    "plt.title('Price change for \"Greenwich\" borough of London')\n",
    "plt.show()"
   ]
  },
  {
   "cell_type": "code",
   "execution_count": 261,
   "id": "d97c0f86",
   "metadata": {},
   "outputs": [],
   "source": [
    "#properties_melted[\"Date\"].head()\n",
    "#properties_melted[\"Date\"].dtypes\n",
    "#properties_melted[\"Date\"].dtypes\n",
    "#new_dataframe = properties_melted.groupby([\"Code\",\"Boroughs\",\"Date\"])[\"Average price\"].sum()\n",
    "#new_dataframe.head(500)\n",
    "#new_dataframe.columns\n",
    "#new_dataframe['amount'].groupby(df['last_payout'].dt.to_period('M')).sum()\n",
    "#e = properties_melted\n",
    "#e.Date = (e.Date.apply(lambda x: pd.to_datetime(x, format=\"%Y-%M-%d\"))).dt.strftime('Average price %Y')  \n",
    "#e.groupby([\"Date\",\"Boroughs\",\"Code\"])['Average price'].sum().to_dict() \n",
    "#result = properties_melted.groupby([properties_melted.Date.dt.to_period(\"Y\"),\"Code\",\"Boroughs\"])['Average price'].mean()\n",
    "#for year, price in result.items():\n",
    "    #result1 = (f\"Average price{year} = {price}\")\n",
    "#print(result1)\n",
    "properties_melted[\"Date\"] = pd.to_datetime(properties_melted[\"Date\"],format='%Y%m%d')\n",
    "properties_melted[\"Year\"] = pd.DatetimeIndex(properties_melted[\"Date\"]).year\n",
    "properties_melted.drop(\"Date\",inplace = True, axis = 1)\n",
    "properties_melted.head(50)\n",
    "new_dataframe = properties_melted.groupby([\"Code\",\"Boroughs\",\"Year\"])[\"Average price\"].mean()"
   ]
  },
  {
   "cell_type": "code",
   "execution_count": 262,
   "id": "aeb93603",
   "metadata": {},
   "outputs": [],
   "source": [
    "  %notebook \"C:\\Users\\Julia\\Documents\\_DATA SCIENCE\\_Case_studies\\Case_study_3_London_Housing\\Case_study_London_Housing_Yuliya_Selevich.ipynb\"     "
   ]
  },
  {
   "cell_type": "code",
   "execution_count": 263,
   "id": "4dc14e1c",
   "metadata": {},
   "outputs": [],
   "source": [
    "# Let's import the pandas, numpy libraries as pd, and np respectively. \n",
    "import pandas as pd\n",
    "import numpy as np\n",
    "\n",
    "# Load the pyplot collection of functions from matplotlib, as plt \n",
    "import matplotlib.pyplot as plt"
   ]
  },
  {
   "cell_type": "code",
   "execution_count": 264,
   "id": "a12d33bc",
   "metadata": {},
   "outputs": [],
   "source": [
    "# First, make a variable called url_LondonHousePrices, and assign it the following link, enclosed in quotation-marks as a string:\n",
    "# https://data.london.gov.uk/download/uk-house-price-index/70ac0766-8902-4eb5-aab5-01951aaed773/UK%20House%20price%20index.xls\n",
    "\n",
    "url_LondonHousePrices = \"https://data.london.gov.uk/download/uk-house-price-index/70ac0766-8902-4eb5-aab5-01951aaed773/UK%20House%20price%20index.xls\"\n",
    "\n",
    "# The dataset we're interested in contains the Average prices of the houses, and is actually on a particular sheet of the Excel file. \n",
    "# As a result, we need to specify the sheet name in the read_excel() method.\n",
    "# Put this data into a variable called properties.  \n",
    "properties = pd.read_excel(url_LondonHousePrices, sheet_name='Average price', index_col= None)"
   ]
  },
  {
   "cell_type": "code",
   "execution_count": 265,
   "id": "04d593c6",
   "metadata": {},
   "outputs": [],
   "source": [
    "properties.head()\n",
    "properties.shape\n",
    "properties.info()"
   ]
  },
  {
   "cell_type": "code",
   "execution_count": 266,
   "id": "41b8873d",
   "metadata": {},
   "outputs": [],
   "source": [
    "properties_transposed = properties.transpose()\n",
    "properties_transposed.index\n",
    "properties_transposed = properties_transposed.reset_index()\n",
    "properties_transposed.columns = properties_transposed.iloc[0]\n",
    "properties_transposed = properties_transposed.drop(0)\n",
    "properties_transposed.head()"
   ]
  },
  {
   "cell_type": "code",
   "execution_count": 267,
   "id": "c9886287",
   "metadata": {},
   "outputs": [],
   "source": [
    "properties_renamed = properties_transposed.rename({\"Unnamed: 0\":\"Boroughs\"}, axis = \"columns\")\n",
    "properties_renamed.columns = properties_renamed.columns.fillna(\"Code\")\n",
    "properties_renamed.head()"
   ]
  },
  {
   "cell_type": "code",
   "execution_count": 268,
   "id": "f93de5d0",
   "metadata": {},
   "outputs": [],
   "source": [
    "properties_melted = pd.melt(properties_renamed, id_vars = [\"Boroughs\",\"Code\"],var_name = \"Date\",value_name = \"Average price\")\n",
    "properties_melted.head(33)"
   ]
  },
  {
   "cell_type": "code",
   "execution_count": 269,
   "id": "e5811937",
   "metadata": {},
   "outputs": [],
   "source": [
    "def convert_to_float(x):\n",
    "    try:\n",
    "        return float(x)\n",
    "    except:\n",
    "        return np.nan\n",
    "\n",
    "properties_melted[\"Average price\"] = properties_melted[\"Average price\"].apply(convert_to_float)\n",
    "\n",
    "properties_melted[\"Average price\"].dtypes"
   ]
  },
  {
   "cell_type": "code",
   "execution_count": 270,
   "id": "b267f4ec",
   "metadata": {},
   "outputs": [],
   "source": [
    "properties_melted.dropna(inplace=True)\n",
    "\n",
    "list_of_codes_not_in_london = [\"E13000001\",\"E13000002\",\"E12000001\",\"E12000002\",\"E12000003\",\"E12000004\",\"E12000005\",\"E12000006\",\n",
    "                             \"E12000007\",\"E12000008\",\"E12000009\",\"E92000001\"]\n",
    "for item in list_of_codes_not_in_london:\n",
    "    properties_melted = properties_melted[properties_melted.Code != item]\n",
    "properties_melted = properties_melted.reset_index(drop = True)\n",
    "properties_melted.head()\n",
    "properties_melted.count()"
   ]
  },
  {
   "cell_type": "code",
   "execution_count": 271,
   "id": "305c459c",
   "metadata": {},
   "outputs": [],
   "source": [
    "prop_one_borough = properties_melted[properties_melted[\"Boroughs\"] == \"Greenwich\"]\n",
    "#grouped = properties_melted.groupby(\"Date\")[\"Boroughs\"].sum()\n",
    "prop_one_borough.plot(x=\"Date\",y=\"Average price\", kind = \"line\")\n",
    "plt.ylabel(\"Average price\")\n",
    "plt.title('Price change for \"Greenwich\" borough of London')\n",
    "plt.show()"
   ]
  },
  {
   "cell_type": "code",
   "execution_count": 272,
   "id": "0bfcb492",
   "metadata": {},
   "outputs": [],
   "source": [
    "properties_melted[\"Date\"] = pd.to_datetime(properties_melted[\"Date\"],format='%Y%m%d')\n",
    "properties_melted[\"Year\"] = pd.DatetimeIndex(properties_melted[\"Date\"]).year\n",
    "properties_melted.drop(\"Date\",inplace = True, axis = 1)\n",
    "properties_melted.head(50)"
   ]
  },
  {
   "cell_type": "code",
   "execution_count": 273,
   "id": "63696ab6",
   "metadata": {},
   "outputs": [],
   "source": [
    "#properties_melted[\"Date\"].head()\n",
    "#properties_melted[\"Date\"].dtypes\n",
    "#properties_melted[\"Date\"].dtypes\n",
    "#new_dataframe = properties_melted.groupby([\"Code\",\"Boroughs\",\"Date\"])[\"Average price\"].sum()\n",
    "#new_dataframe.head(500)\n",
    "#new_dataframe.columns\n",
    "#new_dataframe['amount'].groupby(df['last_payout'].dt.to_period('M')).sum()\n",
    "#e = properties_melted\n",
    "#e.Date = (e.Date.apply(lambda x: pd.to_datetime(x, format=\"%Y-%M-%d\"))).dt.strftime('Average price %Y')  \n",
    "#e.groupby([\"Date\",\"Boroughs\",\"Code\"])['Average price'].sum().to_dict() \n",
    "#result = properties_melted.groupby([properties_melted.Date.dt.to_period(\"Y\"),\"Code\",\"Boroughs\"])['Average price'].mean()\n",
    "#for year, price in result.items():\n",
    "    #result1 = (f\"Average price{year} = {price}\")\n",
    "#print(result1)\n",
    "\n",
    "new_dataframe = properties_melted.groupby([\"Code\",\"Boroughs\",\"Year\"])[\"Average price\"].mean()\n",
    "new_data"
   ]
  },
  {
   "cell_type": "code",
   "execution_count": 274,
   "id": "f1bca3cf",
   "metadata": {},
   "outputs": [],
   "source": [
    "#properties_melted[\"Date\"].head()\n",
    "#properties_melted[\"Date\"].dtypes\n",
    "#properties_melted[\"Date\"].dtypes\n",
    "#new_dataframe = properties_melted.groupby([\"Code\",\"Boroughs\",\"Date\"])[\"Average price\"].sum()\n",
    "#new_dataframe.head(500)\n",
    "#new_dataframe.columns\n",
    "#new_dataframe['amount'].groupby(df['last_payout'].dt.to_period('M')).sum()\n",
    "#e = properties_melted\n",
    "#e.Date = (e.Date.apply(lambda x: pd.to_datetime(x, format=\"%Y-%M-%d\"))).dt.strftime('Average price %Y')  \n",
    "#e.groupby([\"Date\",\"Boroughs\",\"Code\"])['Average price'].sum().to_dict() \n",
    "#result = properties_melted.groupby([properties_melted.Date.dt.to_period(\"Y\"),\"Code\",\"Boroughs\"])['Average price'].mean()\n",
    "#for year, price in result.items():\n",
    "    #result1 = (f\"Average price{year} = {price}\")\n",
    "#print(result1)\n",
    "new_dataframe = properties_melted.groupby([\"Code\",\"Boroughs\",\"Year\"])[\"Average price\"].mean()"
   ]
  },
  {
   "cell_type": "code",
   "execution_count": 275,
   "id": "fd4045e0",
   "metadata": {},
   "outputs": [],
   "source": [
    "#properties_melted[\"Date\"].head()\n",
    "#properties_melted[\"Date\"].dtypes\n",
    "#properties_melted[\"Date\"].dtypes\n",
    "#new_dataframe = properties_melted.groupby([\"Code\",\"Boroughs\",\"Date\"])[\"Average price\"].sum()\n",
    "#new_dataframe.head(500)\n",
    "#new_dataframe.columns\n",
    "#new_dataframe['amount'].groupby(df['last_payout'].dt.to_period('M')).sum()\n",
    "#e = properties_melted\n",
    "#e.Date = (e.Date.apply(lambda x: pd.to_datetime(x, format=\"%Y-%M-%d\"))).dt.strftime('Average price %Y')  \n",
    "#e.groupby([\"Date\",\"Boroughs\",\"Code\"])['Average price'].sum().to_dict() \n",
    "#result = properties_melted.groupby([properties_melted.Date.dt.to_period(\"Y\"),\"Code\",\"Boroughs\"])['Average price'].mean()\n",
    "#for year, price in result.items():\n",
    "    #result1 = (f\"Average price{year} = {price}\")\n",
    "#print(result1)\n",
    "new_dataframe = properties_melted.groupby([\"Code\",\"Boroughs\",\"Year\"])[\"Average price\"].mean()"
   ]
  },
  {
   "cell_type": "code",
   "execution_count": 276,
   "id": "a23276d3",
   "metadata": {},
   "outputs": [],
   "source": [
    "#properties_melted[\"Date\"].head()\n",
    "#properties_melted[\"Date\"].dtypes\n",
    "#properties_melted[\"Date\"].dtypes\n",
    "#new_dataframe = properties_melted.groupby([\"Code\",\"Boroughs\",\"Date\"])[\"Average price\"].sum()\n",
    "#new_dataframe.head(500)\n",
    "#new_dataframe.columns\n",
    "#new_dataframe['amount'].groupby(df['last_payout'].dt.to_period('M')).sum()\n",
    "#e = properties_melted\n",
    "#e.Date = (e.Date.apply(lambda x: pd.to_datetime(x, format=\"%Y-%M-%d\"))).dt.strftime('Average price %Y')  \n",
    "#e.groupby([\"Date\",\"Boroughs\",\"Code\"])['Average price'].sum().to_dict() \n",
    "#result = properties_melted.groupby([properties_melted.Date.dt.to_period(\"Y\"),\"Code\",\"Boroughs\"])['Average price'].mean()\n",
    "#for year, price in result.items():\n",
    "    #result1 = (f\"Average price{year} = {price}\")\n",
    "#print(result1)\n",
    "new_dataframe = properties_melted.groupby([\"Code\",\"Boroughs\",\"Year\"])[\"Average price\"].mean()\n",
    "new_dataframe.head()"
   ]
  },
  {
   "cell_type": "code",
   "execution_count": 277,
   "id": "f3e35b94",
   "metadata": {},
   "outputs": [],
   "source": [
    "#properties_melted[\"Date\"].head()\n",
    "#properties_melted[\"Date\"].dtypes\n",
    "#properties_melted[\"Date\"].dtypes\n",
    "#new_dataframe = properties_melted.groupby([\"Code\",\"Boroughs\",\"Date\"])[\"Average price\"].sum()\n",
    "#new_dataframe.head(500)\n",
    "#new_dataframe.columns\n",
    "#new_dataframe['amount'].groupby(df['last_payout'].dt.to_period('M')).sum()\n",
    "#e = properties_melted\n",
    "#e.Date = (e.Date.apply(lambda x: pd.to_datetime(x, format=\"%Y-%M-%d\"))).dt.strftime('Average price %Y')  \n",
    "#e.groupby([\"Date\",\"Boroughs\",\"Code\"])['Average price'].sum().to_dict() \n",
    "#result = properties_melted.groupby([properties_melted.Date.dt.to_period(\"Y\"),\"Code\",\"Boroughs\"])['Average price'].mean()\n",
    "#for year, price in result.items():\n",
    "    #result1 = (f\"Average price{year} = {price}\")\n",
    "#print(result1)\n",
    "new_dataframe = properties_melted.groupby([\"Code\",\"Boroughs\",\"Year\"])[\"Average price\"].mean()\n",
    "new_dataframe.head(50)"
   ]
  },
  {
   "cell_type": "code",
   "execution_count": 278,
   "id": "7ac6f201",
   "metadata": {},
   "outputs": [],
   "source": [
    "#properties_melted[\"Date\"].head()\n",
    "#properties_melted[\"Date\"].dtypes\n",
    "#properties_melted[\"Date\"].dtypes\n",
    "#new_dataframe = properties_melted.groupby([\"Code\",\"Boroughs\",\"Date\"])[\"Average price\"].sum()\n",
    "#new_dataframe.head(500)\n",
    "#new_dataframe.columns\n",
    "#new_dataframe['amount'].groupby(df['last_payout'].dt.to_period('M')).sum()\n",
    "#e = properties_melted\n",
    "#e.Date = (e.Date.apply(lambda x: pd.to_datetime(x, format=\"%Y-%M-%d\"))).dt.strftime('Average price %Y')  \n",
    "#e.groupby([\"Date\",\"Boroughs\",\"Code\"])['Average price'].sum().to_dict() \n",
    "#result = properties_melted.groupby([properties_melted.Date.dt.to_period(\"Y\"),\"Code\",\"Boroughs\"])['Average price'].mean()\n",
    "#for year, price in result.items():\n",
    "    #result1 = (f\"Average price{year} = {price}\")\n",
    "#print(result1)\n",
    "new_dataframe = properties_melted.groupby([\"Code\",\"Boroughs\",\"Year\"])[\"Average price\"].mean()\n",
    "new_dataframe.head(100)"
   ]
  },
  {
   "cell_type": "code",
   "execution_count": 279,
   "id": "c50da6a7",
   "metadata": {},
   "outputs": [],
   "source": [
    "new_df = properties_melted.groupby([\"Code\",\"Boroughs\",\"Year\"])[\"Average price\"].mean()\n",
    "new_df.head(30)"
   ]
  },
  {
   "cell_type": "code",
   "execution_count": 280,
   "id": "6fe6eac8",
   "metadata": {},
   "outputs": [],
   "source": [
    "new_df = properties_melted.groupby([\"Code\",\"Boroughs\",\"Year\"])[\"Average price\"].mean()\n",
    "new_df.head(30)\n",
    "new_df.reset_index"
   ]
  },
  {
   "cell_type": "code",
   "execution_count": 281,
   "id": "6104fc81",
   "metadata": {},
   "outputs": [],
   "source": [
    "new_df = properties_melted.groupby([\"Code\",\"Boroughs\",\"Year\"])[\"Average price\"].mean()\n",
    "new_df.reset_index\n",
    "new_df.head(30)"
   ]
  },
  {
   "cell_type": "code",
   "execution_count": 282,
   "id": "cf1fc787",
   "metadata": {},
   "outputs": [],
   "source": [
    "new_df = properties_melted.groupby([\"Code\",\"Boroughs\",\"Year\"])[\"Average price\"].mean()\n",
    "new_df.head(30)"
   ]
  },
  {
   "cell_type": "code",
   "execution_count": 283,
   "id": "d7a2e67c",
   "metadata": {},
   "outputs": [],
   "source": [
    "  %notebook \"C:\\Users\\Julia\\Documents\\_DATA SCIENCE\\_Case_studies\\Case_study_3_London_Housing\\Case_study_London_Housing_Yuliya_Selevich.ipynb\"     "
   ]
  },
  {
   "cell_type": "code",
   "execution_count": 284,
   "id": "aa94cdcf",
   "metadata": {},
   "outputs": [],
   "source": [
    "# Let's import the pandas, numpy libraries as pd, and np respectively. \n",
    "import pandas as pd\n",
    "import numpy as np\n",
    "\n",
    "# Load the pyplot collection of functions from matplotlib, as plt \n",
    "import matplotlib.pyplot as plt"
   ]
  },
  {
   "cell_type": "code",
   "execution_count": 285,
   "id": "753b28dd",
   "metadata": {},
   "outputs": [],
   "source": [
    "# First, make a variable called url_LondonHousePrices, and assign it the following link, enclosed in quotation-marks as a string:\n",
    "# https://data.london.gov.uk/download/uk-house-price-index/70ac0766-8902-4eb5-aab5-01951aaed773/UK%20House%20price%20index.xls\n",
    "\n",
    "url_LondonHousePrices = \"https://data.london.gov.uk/download/uk-house-price-index/70ac0766-8902-4eb5-aab5-01951aaed773/UK%20House%20price%20index.xls\"\n",
    "\n",
    "# The dataset we're interested in contains the Average prices of the houses, and is actually on a particular sheet of the Excel file. \n",
    "# As a result, we need to specify the sheet name in the read_excel() method.\n",
    "# Put this data into a variable called properties.  \n",
    "properties = pd.read_excel(url_LondonHousePrices, sheet_name='Average price', index_col= None)"
   ]
  },
  {
   "cell_type": "code",
   "execution_count": 286,
   "id": "42647022",
   "metadata": {},
   "outputs": [],
   "source": [
    "properties.head()\n",
    "properties.shape\n",
    "properties.info()"
   ]
  },
  {
   "cell_type": "code",
   "execution_count": 287,
   "id": "efc81470",
   "metadata": {},
   "outputs": [],
   "source": [
    "properties_transposed = properties.transpose()\n",
    "properties_transposed.index\n",
    "properties_transposed = properties_transposed.reset_index()\n",
    "properties_transposed.columns = properties_transposed.iloc[0]\n",
    "properties_transposed = properties_transposed.drop(0)\n",
    "properties_transposed.head()"
   ]
  },
  {
   "cell_type": "code",
   "execution_count": 288,
   "id": "6f9c84c9",
   "metadata": {},
   "outputs": [],
   "source": [
    "properties_renamed = properties_transposed.rename({\"Unnamed: 0\":\"Boroughs\"}, axis = \"columns\")\n",
    "properties_renamed.columns = properties_renamed.columns.fillna(\"Code\")\n",
    "properties_renamed.head()"
   ]
  },
  {
   "cell_type": "code",
   "execution_count": 289,
   "id": "f200f2d7",
   "metadata": {},
   "outputs": [],
   "source": [
    "properties_melted = pd.melt(properties_renamed, id_vars = [\"Boroughs\",\"Code\"],var_name = \"Date\",value_name = \"Average price\")\n",
    "properties_melted.head(33)"
   ]
  },
  {
   "cell_type": "code",
   "execution_count": 290,
   "id": "413ad56e",
   "metadata": {},
   "outputs": [],
   "source": [
    "def convert_to_float(x):\n",
    "    try:\n",
    "        return float(x)\n",
    "    except:\n",
    "        return np.nan\n",
    "\n",
    "properties_melted[\"Average price\"] = properties_melted[\"Average price\"].apply(convert_to_float)\n",
    "\n",
    "properties_melted[\"Average price\"].dtypes"
   ]
  },
  {
   "cell_type": "code",
   "execution_count": 291,
   "id": "3e937dc6",
   "metadata": {},
   "outputs": [],
   "source": [
    "properties_melted.dropna(inplace=True)\n",
    "\n",
    "list_of_codes_not_in_london = [\"E13000001\",\"E13000002\",\"E12000001\",\"E12000002\",\"E12000003\",\"E12000004\",\"E12000005\",\"E12000006\",\n",
    "                             \"E12000007\",\"E12000008\",\"E12000009\",\"E92000001\"]\n",
    "for item in list_of_codes_not_in_london:\n",
    "    properties_melted = properties_melted[properties_melted.Code != item]\n",
    "properties_melted = properties_melted.reset_index(drop = True)\n",
    "properties_melted.head()\n",
    "properties_melted.count()"
   ]
  },
  {
   "cell_type": "code",
   "execution_count": 292,
   "id": "44642acf",
   "metadata": {},
   "outputs": [],
   "source": [
    "prop_one_borough = properties_melted[properties_melted[\"Boroughs\"] == \"Greenwich\"]\n",
    "#grouped = properties_melted.groupby(\"Date\")[\"Boroughs\"].sum()\n",
    "prop_one_borough.plot(x=\"Date\",y=\"Average price\", kind = \"line\")\n",
    "plt.ylabel(\"Average price\")\n",
    "plt.title('Price change for \"Greenwich\" borough of London')\n",
    "plt.show()"
   ]
  },
  {
   "cell_type": "code",
   "execution_count": 293,
   "id": "0d07a584",
   "metadata": {},
   "outputs": [],
   "source": [
    "properties_melted[\"Date\"] = pd.to_datetime(properties_melted[\"Date\"],format='%Y%m%d')\n",
    "properties_melted[\"Year\"] = pd.DatetimeIndex(properties_melted[\"Date\"]).year\n",
    "properties_melted.drop(\"Date\",inplace = True, axis = 1)\n",
    "properties_melted.head(50)"
   ]
  },
  {
   "cell_type": "code",
   "execution_count": 294,
   "id": "7bb05381",
   "metadata": {},
   "outputs": [],
   "source": [
    "new_df = properties_melted.groupby([\"Code\",\"Boroughs\",\"Year\"])[\"Average price\"].mean()\n",
    "new_df.head(30)"
   ]
  },
  {
   "cell_type": "code",
   "execution_count": 295,
   "id": "bb4b7178",
   "metadata": {},
   "outputs": [],
   "source": [
    "new_df.plot(kind=\"line\")\n",
    "plt.show()"
   ]
  },
  {
   "cell_type": "code",
   "execution_count": 296,
   "id": "d885fe66",
   "metadata": {},
   "outputs": [],
   "source": [
    "new_df.plot(x = \"Boroughs\", y = \"Average_price\",kind=\"line\")\n",
    "plt.show()"
   ]
  },
  {
   "cell_type": "code",
   "execution_count": 297,
   "id": "3f0315cd",
   "metadata": {},
   "outputs": [],
   "source": [
    "plt.plot(new_df, x = \"Boroughs\", y = \"Average_price\",kind=\"line\")\n",
    "plt.show()"
   ]
  },
  {
   "cell_type": "code",
   "execution_count": 298,
   "id": "b3fc0b03",
   "metadata": {},
   "outputs": [],
   "source": [
    "#plt.plot(new_df, x = \"Boroughs\", y = \"Average price\",kind=\"line\")\n",
    "#plt.show()\n",
    "new_df.set_index('Code', inplace=True)\n",
    "new_df.groupby('Year')['Average price'].plot(legend=True)"
   ]
  },
  {
   "cell_type": "code",
   "execution_count": 299,
   "id": "d8f8c721",
   "metadata": {},
   "outputs": [],
   "source": [
    "new_df.plot()\n",
    "plt.show()"
   ]
  },
  {
   "cell_type": "code",
   "execution_count": 300,
   "id": "d13f7d06",
   "metadata": {},
   "outputs": [],
   "source": [
    "new_df.plot(kind = \"hist\")\n",
    "plt.show()"
   ]
  },
  {
   "cell_type": "code",
   "execution_count": 301,
   "id": "b7da377e",
   "metadata": {},
   "outputs": [],
   "source": [
    "new_df.plot.bar()\n",
    "plt.show()"
   ]
  },
  {
   "cell_type": "code",
   "execution_count": 302,
   "id": "0b6f9873",
   "metadata": {},
   "outputs": [],
   "source": [
    "new_df.plot.bar()\n",
    "plt.show()"
   ]
  },
  {
   "cell_type": "code",
   "execution_count": 303,
   "id": "37cbdab7",
   "metadata": {},
   "outputs": [],
   "source": [
    "new_df.plot(kind = \"bar\")\n",
    "plt.show()"
   ]
  },
  {
   "cell_type": "code",
   "execution_count": 304,
   "id": "da0ac3a1",
   "metadata": {},
   "outputs": [],
   "source": [
    "new_df.plot(kind = \"bar\")\n",
    "plt.show()"
   ]
  },
  {
   "cell_type": "code",
   "execution_count": 305,
   "id": "276f2784",
   "metadata": {},
   "outputs": [],
   "source": [
    "  %notebook \"C:\\Users\\Julia\\Documents\\_DATA SCIENCE\\_Case_studies\\Case_study_3_London_Housing\\Case_study_London_Housing_Yuliya_Selevich.ipynb\"     "
   ]
  },
  {
   "cell_type": "code",
   "execution_count": 306,
   "id": "57850c2a",
   "metadata": {},
   "outputs": [],
   "source": [
    "# Let's import the pandas, numpy libraries as pd, and np respectively. \n",
    "import pandas as pd\n",
    "import numpy as np\n",
    "\n",
    "# Load the pyplot collection of functions from matplotlib, as plt \n",
    "import matplotlib.pyplot as plt"
   ]
  },
  {
   "cell_type": "code",
   "execution_count": 307,
   "id": "6ecd19a6",
   "metadata": {},
   "outputs": [],
   "source": [
    "# First, make a variable called url_LondonHousePrices, and assign it the following link, enclosed in quotation-marks as a string:\n",
    "# https://data.london.gov.uk/download/uk-house-price-index/70ac0766-8902-4eb5-aab5-01951aaed773/UK%20House%20price%20index.xls\n",
    "\n",
    "url_LondonHousePrices = \"https://data.london.gov.uk/download/uk-house-price-index/70ac0766-8902-4eb5-aab5-01951aaed773/UK%20House%20price%20index.xls\"\n",
    "\n",
    "# The dataset we're interested in contains the Average prices of the houses, and is actually on a particular sheet of the Excel file. \n",
    "# As a result, we need to specify the sheet name in the read_excel() method.\n",
    "# Put this data into a variable called properties.  \n",
    "properties = pd.read_excel(url_LondonHousePrices, sheet_name='Average price', index_col= None)"
   ]
  },
  {
   "cell_type": "code",
   "execution_count": 308,
   "id": "97342d1b",
   "metadata": {},
   "outputs": [],
   "source": [
    "properties.head()\n",
    "properties.shape\n",
    "properties.info()"
   ]
  },
  {
   "cell_type": "code",
   "execution_count": 309,
   "id": "2ae43ec1",
   "metadata": {},
   "outputs": [],
   "source": [
    "properties_transposed = properties.transpose()\n",
    "properties_transposed.index\n",
    "properties_transposed = properties_transposed.reset_index()\n",
    "properties_transposed.columns = properties_transposed.iloc[0]\n",
    "properties_transposed = properties_transposed.drop(0)\n",
    "properties_transposed.head()"
   ]
  },
  {
   "cell_type": "code",
   "execution_count": 310,
   "id": "d8285633",
   "metadata": {},
   "outputs": [],
   "source": [
    "properties_renamed = properties_transposed.rename({\"Unnamed: 0\":\"Boroughs\"}, axis = \"columns\")\n",
    "properties_renamed.columns = properties_renamed.columns.fillna(\"Code\")\n",
    "properties_renamed.head()"
   ]
  },
  {
   "cell_type": "code",
   "execution_count": 311,
   "id": "fadcd95c",
   "metadata": {},
   "outputs": [],
   "source": [
    "properties_melted = pd.melt(properties_renamed, id_vars = [\"Boroughs\",\"Code\"],var_name = \"Date\",value_name = \"Average price\")\n",
    "properties_melted.head(33)"
   ]
  },
  {
   "cell_type": "code",
   "execution_count": 312,
   "id": "23d3f3af",
   "metadata": {},
   "outputs": [],
   "source": [
    "def convert_to_float(x):\n",
    "    try:\n",
    "        return float(x)\n",
    "    except:\n",
    "        return np.nan\n",
    "\n",
    "properties_melted[\"Average price\"] = properties_melted[\"Average price\"].apply(convert_to_float)\n",
    "\n",
    "properties_melted[\"Average price\"].dtypes"
   ]
  },
  {
   "cell_type": "code",
   "execution_count": 313,
   "id": "2732700d",
   "metadata": {},
   "outputs": [],
   "source": [
    "properties_melted.dropna(inplace=True)\n",
    "\n",
    "list_of_codes_not_in_london = [\"E13000001\",\"E13000002\",\"E12000001\",\"E12000002\",\"E12000003\",\"E12000004\",\"E12000005\",\"E12000006\",\n",
    "                             \"E12000007\",\"E12000008\",\"E12000009\",\"E92000001\"]\n",
    "for item in list_of_codes_not_in_london:\n",
    "    properties_melted = properties_melted[properties_melted.Code != item]\n",
    "properties_melted = properties_melted.reset_index(drop = True)\n",
    "properties_melted.head()\n",
    "properties_melted.count()"
   ]
  },
  {
   "cell_type": "code",
   "execution_count": 314,
   "id": "f8ab9b5c",
   "metadata": {},
   "outputs": [],
   "source": [
    "prop_one_borough = properties_melted[properties_melted[\"Boroughs\"] == \"Greenwich\"]\n",
    "#grouped = properties_melted.groupby(\"Date\")[\"Boroughs\"].sum()\n",
    "prop_one_borough.plot(x=\"Date\",y=\"Average price\", kind = \"line\")\n",
    "plt.ylabel(\"Average price\")\n",
    "plt.title('Price change for \"Greenwich\" borough of London')\n",
    "plt.show()"
   ]
  },
  {
   "cell_type": "code",
   "execution_count": 315,
   "id": "9d6402cf",
   "metadata": {},
   "outputs": [],
   "source": [
    "properties_melted[\"Date\"] = pd.to_datetime(properties_melted[\"Date\"],format='%Y%m%d')\n",
    "properties_melted[\"Year\"] = pd.DatetimeIndex(properties_melted[\"Date\"]).year\n",
    "properties_melted.drop(\"Date\",inplace = True, axis = 1)\n",
    "properties_melted.head(50)"
   ]
  },
  {
   "cell_type": "code",
   "execution_count": 316,
   "id": "0bc19a76",
   "metadata": {},
   "outputs": [],
   "source": [
    "new_df = properties_melted.groupby([\"Code\",\"Boroughs\",\"Year\"])[\"Average price\"].mean()\n",
    "new_df.head(30)"
   ]
  },
  {
   "cell_type": "code",
   "execution_count": 317,
   "id": "8543bd15",
   "metadata": {},
   "outputs": [],
   "source": [
    "new_df.plot(kind = \"bar\")\n",
    "plt.show()"
   ]
  },
  {
   "cell_type": "code",
   "execution_count": 318,
   "id": "d53aac33",
   "metadata": {},
   "outputs": [],
   "source": [
    "new_df.plot(kind = \"bar\")\n",
    "plt.show()"
   ]
  },
  {
   "cell_type": "code",
   "execution_count": 319,
   "id": "1b38cd39",
   "metadata": {},
   "outputs": [],
   "source": [
    "  %notebook \"C:\\Users\\Julia\\Documents\\_DATA SCIENCE\\_Case_studies\\Case_study_3_London_Housing\\Case_study_London_Housing_Yuliya_Selevich.ipynb\"     "
   ]
  },
  {
   "cell_type": "code",
   "execution_count": 320,
   "id": "97178852",
   "metadata": {},
   "outputs": [],
   "source": [
    "# Let's import the pandas, numpy libraries as pd, and np respectively. \n",
    "import pandas as pd\n",
    "import numpy as np\n",
    "\n",
    "# Load the pyplot collection of functions from matplotlib, as plt \n",
    "import matplotlib.pyplot as plt"
   ]
  },
  {
   "cell_type": "code",
   "execution_count": 321,
   "id": "3ef27d34",
   "metadata": {},
   "outputs": [],
   "source": [
    "# First, make a variable called url_LondonHousePrices, and assign it the following link, enclosed in quotation-marks as a string:\n",
    "# https://data.london.gov.uk/download/uk-house-price-index/70ac0766-8902-4eb5-aab5-01951aaed773/UK%20House%20price%20index.xls\n",
    "\n",
    "url_LondonHousePrices = \"https://data.london.gov.uk/download/uk-house-price-index/70ac0766-8902-4eb5-aab5-01951aaed773/UK%20House%20price%20index.xls\"\n",
    "\n",
    "# The dataset we're interested in contains the Average prices of the houses, and is actually on a particular sheet of the Excel file. \n",
    "# As a result, we need to specify the sheet name in the read_excel() method.\n",
    "# Put this data into a variable called properties.  \n",
    "properties = pd.read_excel(url_LondonHousePrices, sheet_name='Average price', index_col= None)"
   ]
  },
  {
   "cell_type": "code",
   "execution_count": 322,
   "id": "a5182d39",
   "metadata": {},
   "outputs": [],
   "source": [
    "properties.head()\n",
    "properties.shape\n",
    "properties.info()"
   ]
  },
  {
   "cell_type": "code",
   "execution_count": 323,
   "id": "3eeb3648",
   "metadata": {},
   "outputs": [],
   "source": [
    "properties_transposed = properties.transpose()\n",
    "properties_transposed.index\n",
    "properties_transposed = properties_transposed.reset_index()\n",
    "properties_transposed.columns = properties_transposed.iloc[0]\n",
    "properties_transposed = properties_transposed.drop(0)\n",
    "properties_transposed.head()"
   ]
  },
  {
   "cell_type": "code",
   "execution_count": 324,
   "id": "e7d5203c",
   "metadata": {},
   "outputs": [],
   "source": [
    "properties_renamed = properties_transposed.rename({\"Unnamed: 0\":\"Boroughs\"}, axis = \"columns\")\n",
    "properties_renamed.columns = properties_renamed.columns.fillna(\"Code\")\n",
    "properties_renamed.head()"
   ]
  },
  {
   "cell_type": "code",
   "execution_count": 325,
   "id": "f251e366",
   "metadata": {},
   "outputs": [],
   "source": [
    "properties_melted = pd.melt(properties_renamed, id_vars = [\"Boroughs\",\"Code\"],var_name = \"Date\",value_name = \"Average price\")\n",
    "properties_melted.head(33)"
   ]
  },
  {
   "cell_type": "code",
   "execution_count": 326,
   "id": "1d9021ad",
   "metadata": {},
   "outputs": [],
   "source": [
    "def convert_to_float(x):\n",
    "    try:\n",
    "        return float(x)\n",
    "    except:\n",
    "        return np.nan\n",
    "\n",
    "properties_melted[\"Average price\"] = properties_melted[\"Average price\"].apply(convert_to_float)\n",
    "\n",
    "properties_melted[\"Average price\"].dtypes"
   ]
  },
  {
   "cell_type": "code",
   "execution_count": 327,
   "id": "fc5f84da",
   "metadata": {},
   "outputs": [],
   "source": [
    "properties_melted.dropna(inplace=True)\n",
    "\n",
    "list_of_codes_not_in_london = [\"E13000001\",\"E13000002\",\"E12000001\",\"E12000002\",\"E12000003\",\"E12000004\",\"E12000005\",\"E12000006\",\n",
    "                             \"E12000007\",\"E12000008\",\"E12000009\",\"E92000001\"]\n",
    "for item in list_of_codes_not_in_london:\n",
    "    properties_melted = properties_melted[properties_melted.Code != item]\n",
    "properties_melted = properties_melted.reset_index(drop = True)\n",
    "properties_melted.head()\n",
    "properties_melted.count()"
   ]
  },
  {
   "cell_type": "code",
   "execution_count": 328,
   "id": "af4da414",
   "metadata": {},
   "outputs": [],
   "source": [
    "prop_one_borough = properties_melted[properties_melted[\"Boroughs\"] == \"Greenwich\"]\n",
    "#grouped = properties_melted.groupby(\"Date\")[\"Boroughs\"].sum()\n",
    "prop_one_borough.plot(x=\"Date\",y=\"Average price\", kind = \"line\")\n",
    "plt.ylabel(\"Average price\")\n",
    "plt.title('Price change for \"Greenwich\" borough of London')\n",
    "plt.show()"
   ]
  },
  {
   "cell_type": "code",
   "execution_count": 329,
   "id": "86913964",
   "metadata": {},
   "outputs": [],
   "source": [
    "properties_melted[\"Date\"] = pd.to_datetime(properties_melted[\"Date\"],format='%Y%m%d')\n",
    "properties_melted[\"Year\"] = pd.DatetimeIndex(properties_melted[\"Date\"]).year\n",
    "properties_melted.drop(\"Date\",inplace = True, axis = 1)\n",
    "properties_melted.head(50)"
   ]
  },
  {
   "cell_type": "code",
   "execution_count": 330,
   "id": "3691c4a1",
   "metadata": {},
   "outputs": [],
   "source": [
    "new_df = properties_melted.groupby([\"Code\",\"Boroughs\",\"Year\"])[\"Average price\"].mean()\n",
    "new_df.head(30)"
   ]
  },
  {
   "cell_type": "code",
   "execution_count": 331,
   "id": "ae1bc5a8",
   "metadata": {},
   "outputs": [],
   "source": [
    "new_df.plot(kind = \"bar\")\n",
    "plt.show()"
   ]
  },
  {
   "cell_type": "code",
   "execution_count": 332,
   "id": "cd769f85",
   "metadata": {},
   "outputs": [],
   "source": [
    "# First, make a variable called url_LondonHousePrices, and assign it the following link, enclosed in quotation-marks as a string:\n",
    "# https://data.london.gov.uk/download/uk-house-price-index/70ac0766-8902-4eb5-aab5-01951aaed773/UK%20House%20price%20index.xls\n",
    "\n",
    "url_LondonHousePrices = \"https://data.london.gov.uk/download/uk-house-price-index/70ac0766-8902-4eb5-aab5-01951aaed773/UK%20House%20price%20index.xls\"\n",
    "\n",
    "# The dataset we're interested in contains the Average prices of the houses, and is actually on a particular sheet of the Excel file. \n",
    "# As a result, we need to specify the sheet name in the read_excel() method.\n",
    "# Put this data into a variable called properties.  \n",
    "properties = pd.read_excel(url_LondonHousePrices, sheet_name='Average price', index_col= None)"
   ]
  },
  {
   "cell_type": "code",
   "execution_count": 333,
   "id": "aee4cd5c",
   "metadata": {},
   "outputs": [],
   "source": [
    "properties.head()\n",
    "properties.shape\n",
    "properties.info()"
   ]
  },
  {
   "cell_type": "code",
   "execution_count": 334,
   "id": "061d0d45",
   "metadata": {},
   "outputs": [],
   "source": [
    "properties_transposed = properties.transpose()\n",
    "properties_transposed.index\n",
    "properties_transposed = properties_transposed.reset_index()\n",
    "properties_transposed.columns = properties_transposed.iloc[0]\n",
    "properties_transposed = properties_transposed.drop(0)\n",
    "properties_transposed.head()"
   ]
  },
  {
   "cell_type": "code",
   "execution_count": 335,
   "id": "e11f853c",
   "metadata": {},
   "outputs": [],
   "source": [
    "properties_renamed = properties_transposed.rename({\"Unnamed: 0\":\"Boroughs\"}, axis = \"columns\")\n",
    "properties_renamed.columns = properties_renamed.columns.fillna(\"Code\")\n",
    "properties_renamed.head()"
   ]
  },
  {
   "cell_type": "code",
   "execution_count": 336,
   "id": "27b0b503",
   "metadata": {},
   "outputs": [],
   "source": [
    "def convert_to_float(x):\n",
    "    try:\n",
    "        return float(x)\n",
    "    except:\n",
    "        return np.nan\n",
    "\n",
    "properties_melted[\"Average price\"] = properties_melted[\"Average price\"].apply(convert_to_float)\n",
    "\n",
    "properties_melted[\"Average price\"].dtypes"
   ]
  },
  {
   "cell_type": "code",
   "execution_count": 337,
   "id": "20088b7d",
   "metadata": {},
   "outputs": [],
   "source": [
    "new_df.plot(x = \"Boroughs\", kind = \"bar\")\n",
    "plt.show()"
   ]
  },
  {
   "cell_type": "code",
   "execution_count": 338,
   "id": "40600a09",
   "metadata": {},
   "outputs": [],
   "source": [
    "new_df = properties_melted.groupby(\"Year\")[\"Average price\"].mean()\n",
    "new_df.head(30)"
   ]
  },
  {
   "cell_type": "code",
   "execution_count": 339,
   "id": "e607b114",
   "metadata": {},
   "outputs": [],
   "source": [
    "new_df = properties_melted.groupby([\"Code\",\"Boroughs\",\"Year\"])[\"Average price\"].mean()\n",
    "new_df.head(30)"
   ]
  },
  {
   "cell_type": "code",
   "execution_count": 340,
   "id": "0c0154ae",
   "metadata": {},
   "outputs": [],
   "source": [
    "new_df.plot()\n",
    "plt.show()"
   ]
  },
  {
   "cell_type": "code",
   "execution_count": 341,
   "id": "d148da2f",
   "metadata": {},
   "outputs": [],
   "source": [
    "new_df.plot(kind = \"hist\")\n",
    "plt.show()"
   ]
  },
  {
   "cell_type": "code",
   "execution_count": 342,
   "id": "85c4c13e",
   "metadata": {},
   "outputs": [],
   "source": [
    "new_df.plot(kind = \"line\")\n",
    "plt.show()"
   ]
  },
  {
   "cell_type": "code",
   "execution_count": 343,
   "id": "7f047162",
   "metadata": {},
   "outputs": [],
   "source": [
    "#new_df.plot(kind = \"line\")\n",
    "#plt.show()\n",
    "prop_one_borough2 = new_df[new_df[\"Code\"] == \"E09000001\"]\n",
    "print(prop_one_borough2)"
   ]
  },
  {
   "cell_type": "code",
   "execution_count": 344,
   "id": "46ef6074",
   "metadata": {},
   "outputs": [],
   "source": [
    "#new_df.plot(kind = \"line\")\n",
    "#plt.show()\n",
    "prop_one_borough2 = new_df[new_df[\"Code\"] == \"E09000001\"]\n",
    "prop_one_borough2"
   ]
  },
  {
   "cell_type": "code",
   "execution_count": 345,
   "id": "f4ade4ea",
   "metadata": {},
   "outputs": [],
   "source": [
    "  %notebook \"C:\\Users\\Julia\\Documents\\_DATA SCIENCE\\_Case_studies\\Case_study_3_London_Housing\\Case_study_London_Housing_Yuliya_Selevich.ipynb\"     "
   ]
  },
  {
   "cell_type": "code",
   "execution_count": 346,
   "id": "2b0753e7",
   "metadata": {},
   "outputs": [],
   "source": [
    "# Let's import the pandas, numpy libraries as pd, and np respectively. \n",
    "import pandas as pd\n",
    "import numpy as np\n",
    "\n",
    "# Load the pyplot collection of functions from matplotlib, as plt \n",
    "import matplotlib.pyplot as plt"
   ]
  },
  {
   "cell_type": "code",
   "execution_count": 347,
   "id": "daeb92b2",
   "metadata": {},
   "outputs": [],
   "source": [
    "# First, make a variable called url_LondonHousePrices, and assign it the following link, enclosed in quotation-marks as a string:\n",
    "# https://data.london.gov.uk/download/uk-house-price-index/70ac0766-8902-4eb5-aab5-01951aaed773/UK%20House%20price%20index.xls\n",
    "\n",
    "url_LondonHousePrices = \"https://data.london.gov.uk/download/uk-house-price-index/70ac0766-8902-4eb5-aab5-01951aaed773/UK%20House%20price%20index.xls\"\n",
    "\n",
    "# The dataset we're interested in contains the Average prices of the houses, and is actually on a particular sheet of the Excel file. \n",
    "# As a result, we need to specify the sheet name in the read_excel() method.\n",
    "# Put this data into a variable called properties.  \n",
    "properties = pd.read_excel(url_LondonHousePrices, sheet_name='Average price', index_col= None)"
   ]
  },
  {
   "cell_type": "code",
   "execution_count": 348,
   "id": "2a4fd379",
   "metadata": {},
   "outputs": [],
   "source": [
    "properties.head()\n",
    "properties.shape\n",
    "properties.info()"
   ]
  },
  {
   "cell_type": "code",
   "execution_count": 349,
   "id": "486c00a9",
   "metadata": {},
   "outputs": [],
   "source": [
    "properties_transposed = properties.transpose()\n",
    "properties_transposed.index\n",
    "properties_transposed = properties_transposed.reset_index()\n",
    "properties_transposed.columns = properties_transposed.iloc[0]\n",
    "properties_transposed = properties_transposed.drop(0)\n",
    "properties_transposed.head()"
   ]
  },
  {
   "cell_type": "code",
   "execution_count": 350,
   "id": "acaa0f07",
   "metadata": {},
   "outputs": [],
   "source": [
    "properties_renamed = properties_transposed.rename({\"Unnamed: 0\":\"Boroughs\"}, axis = \"columns\")\n",
    "properties_renamed.columns = properties_renamed.columns.fillna(\"Code\")\n",
    "properties_renamed.head()"
   ]
  },
  {
   "cell_type": "code",
   "execution_count": 351,
   "id": "4b253d3d",
   "metadata": {},
   "outputs": [],
   "source": [
    "properties_melted = pd.melt(properties_renamed, id_vars = [\"Boroughs\",\"Code\"],var_name = \"Date\",value_name = \"Average price\")\n",
    "properties_melted.head(33)"
   ]
  },
  {
   "cell_type": "code",
   "execution_count": 352,
   "id": "d404a294",
   "metadata": {},
   "outputs": [],
   "source": [
    "def convert_to_float(x):\n",
    "    try:\n",
    "        return float(x)\n",
    "    except:\n",
    "        return np.nan\n",
    "\n",
    "properties_melted[\"Average price\"] = properties_melted[\"Average price\"].apply(convert_to_float)\n",
    "\n",
    "properties_melted[\"Average price\"].dtypes"
   ]
  },
  {
   "cell_type": "code",
   "execution_count": 353,
   "id": "81224173",
   "metadata": {},
   "outputs": [],
   "source": [
    "properties_melted.dropna(inplace=True)\n",
    "\n",
    "list_of_codes_not_in_london = [\"E13000001\",\"E13000002\",\"E12000001\",\"E12000002\",\"E12000003\",\"E12000004\",\"E12000005\",\"E12000006\",\n",
    "                             \"E12000007\",\"E12000008\",\"E12000009\",\"E92000001\"]\n",
    "for item in list_of_codes_not_in_london:\n",
    "    properties_melted = properties_melted[properties_melted.Code != item]\n",
    "properties_melted = properties_melted.reset_index(drop = True)\n",
    "properties_melted.head()\n",
    "properties_melted.count()"
   ]
  },
  {
   "cell_type": "code",
   "execution_count": 354,
   "id": "fdc53fa4",
   "metadata": {},
   "outputs": [],
   "source": [
    "prop_one_borough = properties_melted[properties_melted[\"Boroughs\"] == \"Greenwich\"]\n",
    "#grouped = properties_melted.groupby(\"Date\")[\"Boroughs\"].sum()\n",
    "prop_one_borough.plot(x=\"Date\",y=\"Average price\", kind = \"line\")\n",
    "plt.ylabel(\"Average price\")\n",
    "plt.title('Price change for \"Greenwich\" borough of London')\n",
    "plt.show()"
   ]
  },
  {
   "cell_type": "code",
   "execution_count": 355,
   "id": "02f592e1",
   "metadata": {},
   "outputs": [],
   "source": [
    "properties_melted[\"Date\"] = pd.to_datetime(properties_melted[\"Date\"],format='%Y%m%d')\n",
    "properties_melted[\"Year\"] = pd.DatetimeIndex(properties_melted[\"Date\"]).year\n",
    "properties_melted.drop(\"Date\",inplace = True, axis = 1)\n",
    "properties_melted.head(50)"
   ]
  },
  {
   "cell_type": "code",
   "execution_count": 356,
   "id": "71d8ba6b",
   "metadata": {},
   "outputs": [],
   "source": [
    "new_df = properties_melted.groupby([\"Code\",\"Boroughs\",\"Year\"])[\"Average price\"].mean()\n",
    "new_df.head(30)"
   ]
  },
  {
   "cell_type": "code",
   "execution_count": 357,
   "id": "7c766e1e",
   "metadata": {},
   "outputs": [],
   "source": [
    "#new_df.plot(kind = \"line\")\n",
    "#plt.show()\n",
    "prop_one_borough2 = new_df[new_df[\"Code\"] == \"E09000001\"]\n",
    "prop_one_borough2"
   ]
  },
  {
   "cell_type": "code",
   "execution_count": 358,
   "id": "500ba814",
   "metadata": {},
   "outputs": [],
   "source": [
    "new_df = properties_melted.groupby([\"Code\",\"Boroughs\",\"Year\"])[\"Average price\"].mean()\n",
    "new_df.head(30)\n",
    "new_df.plot()\n",
    "plt.show()"
   ]
  },
  {
   "cell_type": "code",
   "execution_count": 359,
   "id": "79621d17",
   "metadata": {},
   "outputs": [],
   "source": [
    "new_df = properties_melted.groupby([\"Code\",\"Boroughs\",\"Year\"])[\"Average price\"].mean()\n",
    "new_df.head(30)\n",
    "new_df.hist()\n",
    "plt.show()"
   ]
  },
  {
   "cell_type": "code",
   "execution_count": 360,
   "id": "62e474c0",
   "metadata": {},
   "outputs": [],
   "source": [
    "new_df = properties_melted.groupby([\"Code\",\"Boroughs\",\"Year\"])[\"Average price\"].mean()\n",
    "new_df.head(30)\n",
    "new_df.bar()\n",
    "plt.show()"
   ]
  },
  {
   "cell_type": "code",
   "execution_count": 361,
   "id": "b943a157",
   "metadata": {},
   "outputs": [],
   "source": [
    "new_df = properties_melted.groupby([\"Code\",\"Boroughs\",\"Year\"])[\"Average price\"].mean()\n",
    "new_df.head(30)\n",
    "new_df.hist()\n",
    "plt.show()"
   ]
  },
  {
   "cell_type": "code",
   "execution_count": 362,
   "id": "88f3467f",
   "metadata": {},
   "outputs": [],
   "source": [
    "new_df = properties_melted.groupby([\"Code\",\"Boroughs\",\"Year\"])[\"Average price\"].mean().plot()\n",
    "new_df.head(30)"
   ]
  },
  {
   "cell_type": "code",
   "execution_count": 363,
   "id": "7dbed3c9",
   "metadata": {},
   "outputs": [],
   "source": [
    "new_df = properties_melted.groupby([\"Code\",\"Boroughs\",\"Year\"])[\"Average price\"].mean()\n",
    "new_df.head(30)"
   ]
  },
  {
   "cell_type": "code",
   "execution_count": 364,
   "id": "ad914781",
   "metadata": {},
   "outputs": [],
   "source": [
    "new_df = properties_melted.groupby([\"Code\",\"Boroughs\",\"Year\"])[\"Average price\"].mean()\n",
    "new_df.head(30)\n",
    "new_df.reset_index"
   ]
  },
  {
   "cell_type": "code",
   "execution_count": 365,
   "id": "ccbf84e9",
   "metadata": {},
   "outputs": [],
   "source": [
    "new_df = properties_melted.groupby([\"Code\",\"Boroughs\",\"Year\"])[\"Average price\"].mean()\n",
    "new_df.reset_index\n",
    "new_df.head(30)"
   ]
  },
  {
   "cell_type": "code",
   "execution_count": 366,
   "id": "8da06fb2",
   "metadata": {},
   "outputs": [],
   "source": [
    "new_df = properties_melted.groupby([\"Code\",\"Boroughs\",\"Year\"])[\"Average price\"].mean()\n",
    "new_df.reset_index\n",
    "new_df.head(30)\n",
    "new_df.index()"
   ]
  },
  {
   "cell_type": "code",
   "execution_count": 367,
   "id": "09d7e676",
   "metadata": {},
   "outputs": [],
   "source": [
    "  %notebook \"C:\\Users\\Julia\\Documents\\_DATA SCIENCE\\_Case_studies\\Case_study_3_London_Housing\\Case_study_London_Housing_Yuliya_Selevich.ipynb\"     "
   ]
  },
  {
   "cell_type": "code",
   "execution_count": 368,
   "id": "78f4fdd3",
   "metadata": {},
   "outputs": [],
   "source": [
    "# Let's import the pandas, numpy libraries as pd, and np respectively. \n",
    "import pandas as pd\n",
    "import numpy as np\n",
    "\n",
    "# Load the pyplot collection of functions from matplotlib, as plt \n",
    "import matplotlib.pyplot as plt"
   ]
  },
  {
   "cell_type": "code",
   "execution_count": 369,
   "id": "c2f58b14",
   "metadata": {},
   "outputs": [],
   "source": [
    "# First, make a variable called url_LondonHousePrices, and assign it the following link, enclosed in quotation-marks as a string:\n",
    "# https://data.london.gov.uk/download/uk-house-price-index/70ac0766-8902-4eb5-aab5-01951aaed773/UK%20House%20price%20index.xls\n",
    "\n",
    "url_LondonHousePrices = \"https://data.london.gov.uk/download/uk-house-price-index/70ac0766-8902-4eb5-aab5-01951aaed773/UK%20House%20price%20index.xls\"\n",
    "\n",
    "# The dataset we're interested in contains the Average prices of the houses, and is actually on a particular sheet of the Excel file. \n",
    "# As a result, we need to specify the sheet name in the read_excel() method.\n",
    "# Put this data into a variable called properties.  \n",
    "properties = pd.read_excel(url_LondonHousePrices, sheet_name='Average price', index_col= None)"
   ]
  },
  {
   "cell_type": "code",
   "execution_count": 370,
   "id": "f9f41c14",
   "metadata": {},
   "outputs": [],
   "source": [
    "properties.head()\n",
    "properties.shape\n",
    "properties.info()"
   ]
  },
  {
   "cell_type": "code",
   "execution_count": 371,
   "id": "d356fd7f",
   "metadata": {},
   "outputs": [],
   "source": [
    "properties_transposed = properties.transpose()\n",
    "properties_transposed.index\n",
    "properties_transposed = properties_transposed.reset_index()\n",
    "properties_transposed.columns = properties_transposed.iloc[0]\n",
    "properties_transposed = properties_transposed.drop(0)\n",
    "properties_transposed.head()"
   ]
  },
  {
   "cell_type": "code",
   "execution_count": 372,
   "id": "968b02e5",
   "metadata": {},
   "outputs": [],
   "source": [
    "properties_renamed = properties_transposed.rename({\"Unnamed: 0\":\"Boroughs\"}, axis = \"columns\")\n",
    "properties_renamed.columns = properties_renamed.columns.fillna(\"Code\")\n",
    "properties_renamed.head()"
   ]
  },
  {
   "cell_type": "code",
   "execution_count": 373,
   "id": "1609993b",
   "metadata": {},
   "outputs": [],
   "source": [
    "properties_melted = pd.melt(properties_renamed, id_vars = [\"Boroughs\",\"Code\"],var_name = \"Date\",value_name = \"Average price\")\n",
    "properties_melted.head(33)"
   ]
  },
  {
   "cell_type": "code",
   "execution_count": 374,
   "id": "64bb1db1",
   "metadata": {},
   "outputs": [],
   "source": [
    "def convert_to_float(x):\n",
    "    try:\n",
    "        return float(x)\n",
    "    except:\n",
    "        return np.nan\n",
    "\n",
    "properties_melted[\"Average price\"] = properties_melted[\"Average price\"].apply(convert_to_float)\n",
    "\n",
    "properties_melted[\"Average price\"].dtypes"
   ]
  },
  {
   "cell_type": "code",
   "execution_count": 375,
   "id": "f1b46ce2",
   "metadata": {},
   "outputs": [],
   "source": [
    "properties_melted.dropna(inplace=True)\n",
    "\n",
    "list_of_codes_not_in_london = [\"E13000001\",\"E13000002\",\"E12000001\",\"E12000002\",\"E12000003\",\"E12000004\",\"E12000005\",\"E12000006\",\n",
    "                             \"E12000007\",\"E12000008\",\"E12000009\",\"E92000001\"]\n",
    "for item in list_of_codes_not_in_london:\n",
    "    properties_melted = properties_melted[properties_melted.Code != item]\n",
    "properties_melted = properties_melted.reset_index(drop = True)\n",
    "properties_melted.head()\n",
    "properties_melted.count()"
   ]
  },
  {
   "cell_type": "code",
   "execution_count": 376,
   "id": "2aad285c",
   "metadata": {},
   "outputs": [],
   "source": [
    "prop_one_borough = properties_melted[properties_melted[\"Boroughs\"] == \"Greenwich\"]\n",
    "#grouped = properties_melted.groupby(\"Date\")[\"Boroughs\"].sum()\n",
    "prop_one_borough.plot(x=\"Date\",y=\"Average price\", kind = \"line\")\n",
    "plt.ylabel(\"Average price\")\n",
    "plt.title('Price change for \"Greenwich\" borough of London')\n",
    "plt.show()"
   ]
  },
  {
   "cell_type": "code",
   "execution_count": 377,
   "id": "60e740c9",
   "metadata": {},
   "outputs": [],
   "source": [
    "properties_melted[\"Date\"] = pd.to_datetime(properties_melted[\"Date\"],format='%Y%m%d')\n",
    "properties_melted[\"Year\"] = pd.DatetimeIndex(properties_melted[\"Date\"]).year\n",
    "properties_melted.drop(\"Date\",inplace = True, axis = 1)\n",
    "properties_melted.head(50)"
   ]
  },
  {
   "cell_type": "code",
   "execution_count": 378,
   "id": "1c8f2642",
   "metadata": {},
   "outputs": [],
   "source": [
    "new_df = properties_melted.groupby([\"Code\",\"Boroughs\",\"Year\"])[\"Average price\"].mean()\n",
    "new_df.head(30)"
   ]
  },
  {
   "cell_type": "code",
   "execution_count": 379,
   "id": "7ab49497",
   "metadata": {},
   "outputs": [],
   "source": [
    "#new_df.plot(kind = \"line\")\n",
    "#plt.show()\n",
    "prop_one_borough2 = new_df[new_df[\"Code\"] == \"E09000001\"]\n",
    "prop_one_borough2"
   ]
  },
  {
   "cell_type": "code",
   "execution_count": 380,
   "id": "13cc615a",
   "metadata": {},
   "outputs": [],
   "source": [
    "ax = new_df.unstack(level=0).plot(kind='bar', subplots=True, rot=0, figsize=(9, 7), layout=(2, 3))\n",
    "plt.tight_layout()"
   ]
  },
  {
   "cell_type": "code",
   "execution_count": 381,
   "id": "7675a367",
   "metadata": {},
   "outputs": [],
   "source": [
    "dfp = properties_melted.pivot_table(index='Year', columns='Code',\"Boroughs\", values=[\"Average price\"], aggfunc='mean')\n",
    "dfp.plot(kind='bar', subplots=True, rot=0, figsize=(9, 7), layout=(2, 3))\n",
    "plt.tight_layout()"
   ]
  },
  {
   "cell_type": "code",
   "execution_count": 382,
   "id": "f11724e2",
   "metadata": {},
   "outputs": [],
   "source": [
    "dfp = properties_melted.pivot_table(index='Year', columns='Code',\"Boroughs\", values=\"Average price\", aggfunc='mean')\n",
    "dfp.plot(kind='bar', subplots=True, rot=0, figsize=(9, 7), layout=(2, 3))\n",
    "plt.tight_layout()"
   ]
  },
  {
   "cell_type": "code",
   "execution_count": 383,
   "id": "29e91384",
   "metadata": {},
   "outputs": [],
   "source": [
    "dfp = properties_melted.pivot_table(index='Year', columns='Code',\"Boroughs\", values=\"Average price\")\n",
    "dfp.plot(kind='bar', subplots=True, rot=0, figsize=(9, 7), layout=(2, 3))\n",
    "plt.tight_layout()"
   ]
  },
  {
   "cell_type": "code",
   "execution_count": 384,
   "id": "23d0f708",
   "metadata": {},
   "outputs": [],
   "source": [
    "dfp = properties_melted.pivot_table(index='Year', columns=['Code',\"Boroughs\"] values=\"Average price\")\n",
    "dfp.plot(kind='bar', subplots=True, rot=0, figsize=(9, 7), layout=(2, 3))\n",
    "plt.tight_layout()"
   ]
  },
  {
   "cell_type": "code",
   "execution_count": 385,
   "id": "d6e5e83b",
   "metadata": {},
   "outputs": [],
   "source": [
    "dfp = properties_melted.pivot_table(index='Year', columns=['Code',\"Boroughs\"],values=\"Average price\")\n",
    "dfp.plot(kind='bar', subplots=True, rot=0, figsize=(9, 7), layout=(2, 3))\n",
    "plt.tight_layout()"
   ]
  },
  {
   "cell_type": "code",
   "execution_count": 386,
   "id": "2eebd34e",
   "metadata": {},
   "outputs": [],
   "source": [
    "dfp = properties_melted.pivot_table(index='Year', columns=['Code',\"Boroughs\"],values=\"Average price\")\n",
    "#dfp.plot(kind='bar', subplots=True, rot=0, figsize=(9, 7), layout=(2, 3))\n",
    "#plt.tight_layout()\n",
    "print(dfp)"
   ]
  },
  {
   "cell_type": "code",
   "execution_count": 387,
   "id": "35de46bb",
   "metadata": {},
   "outputs": [],
   "source": [
    "dfp = properties_melted.pivot_table(index='Year', columns=['Code',\"Boroughs\"],values=\"Average price\")\n",
    "dfp.plot(kind='bar', subplots=True, rot=0, figsize=(9, 7))\n",
    "plt.tight_layout()"
   ]
  },
  {
   "cell_type": "code",
   "execution_count": 388,
   "id": "e5b67b48",
   "metadata": {},
   "outputs": [],
   "source": [
    "dfp = properties_melted.pivot_table(index='Year', columns=['Code',\"Boroughs\"],values=\"Average price\")\n",
    "dfp.plot(subplots=True, rot=0, figsize=(9, 7))\n",
    "plt.tight_layout()"
   ]
  },
  {
   "cell_type": "code",
   "execution_count": 389,
   "id": "1a500f8a",
   "metadata": {},
   "outputs": [],
   "source": [
    "dfp = properties_melted.pivot_table(index='Year', columns=['Code',\"Boroughs\"],values=\"Average price\")\n",
    "dfp.plot(subplots=True, rot=0, figsize=(9, 7))"
   ]
  },
  {
   "cell_type": "code",
   "execution_count": 390,
   "id": "2385b96b",
   "metadata": {},
   "outputs": [],
   "source": [
    "dfp = properties_melted.pivot_table(index='Year', columns=['Code',\"Boroughs\"],values=\"Average price\")\n",
    "dfp.plot()\n",
    "plt.show()"
   ]
  },
  {
   "cell_type": "code",
   "execution_count": 391,
   "id": "e873af9e",
   "metadata": {},
   "outputs": [],
   "source": [
    "dfp = properties_melted.pivot_table(index='Year', columns=['Code',\"Boroughs\"],values=\"Average price\")\n",
    "dfp.plot(kind=\"hist\")\n",
    "plt.show()"
   ]
  },
  {
   "cell_type": "code",
   "execution_count": 392,
   "id": "6fb9ea84",
   "metadata": {},
   "outputs": [],
   "source": [
    "dfp = properties_melted.pivot_table(index='Year', columns=['Code',\"Boroughs\"],values=\"Average price\")\n",
    "dfp.plot(x=\"Year\",y=\"Average price\")\n",
    "plt.show()"
   ]
  },
  {
   "cell_type": "code",
   "execution_count": 393,
   "id": "98ed76c8",
   "metadata": {},
   "outputs": [],
   "source": [
    "dfp = properties_melted.pivot_table(index='Year', columns=['Code',\"Boroughs\"],values=\"Average price\")\n",
    "dfp.plot()\n",
    "plt.show()"
   ]
  },
  {
   "cell_type": "code",
   "execution_count": 394,
   "id": "bcd62c4d",
   "metadata": {},
   "outputs": [],
   "source": [
    "dfp = properties_melted.pivot_table(index='Year', columns=['Code',\"Boroughs\"],values=\"Average price\")\n",
    "dfp.plot(legend= False)\n",
    "plt.show()"
   ]
  },
  {
   "cell_type": "code",
   "execution_count": 395,
   "id": "3c800040",
   "metadata": {},
   "outputs": [],
   "source": [
    "dfp = properties_melted.pivot_table(index='Year', columns=['Code',\"Boroughs\"],values=\"Average price\")\n",
    "dfp.plot(kind = \"bar\",legend= False)\n",
    "plt.show()"
   ]
  },
  {
   "cell_type": "code",
   "execution_count": 396,
   "id": "9f72792b",
   "metadata": {},
   "outputs": [],
   "source": [
    "dfp = properties_melted.pivot_table(index='Year', columns=['Code',\"Boroughs\"],values=\"Average price\")\n",
    "dfp.plot(kind = \"line\",legend= False)\n",
    "plt.show()"
   ]
  },
  {
   "cell_type": "code",
   "execution_count": 397,
   "id": "4dd6ffcf",
   "metadata": {},
   "outputs": [],
   "source": [
    "dfp = properties_melted.pivot_table(index='Year', columns=['Code',\"Boroughs\"],values=\"Average price\")\n",
    "dfp.plot(x=\"Year\",y=\"Average price\",kind = \"line\",legend= False)\n",
    "plt.show()"
   ]
  }
 ],
 "metadata": {},
 "nbformat": 4,
 "nbformat_minor": 5
}
